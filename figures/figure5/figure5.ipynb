{
 "cells": [
  {
   "cell_type": "code",
   "execution_count": 5,
   "metadata": {},
   "outputs": [],
   "source": [
    "import pandas as pd\n",
    "from plotnine import *\n",
    "import numpy as np"
   ]
  },
  {
   "cell_type": "markdown",
   "metadata": {},
   "source": [
    "# Combining endogenous DNA with sourcepredict"
   ]
  },
  {
   "cell_type": "code",
   "execution_count": 2,
   "metadata": {},
   "outputs": [],
   "source": [
    "d = pd.read_csv(\"../../data/coproID_result.csv\", index_col=0)"
   ]
  },
  {
   "cell_type": "code",
   "execution_count": 7,
   "metadata": {},
   "outputs": [],
   "source": [
    "d['endo_pred'] = np.where(d['normalized_bp_proportion_aligned_Homo_sapiens'] > d['normalized_bp_proportion_aligned_Canis_familiaris'], 'Homo sapiens', 'Canis familiaris')"
   ]
  },
  {
   "cell_type": "code",
   "execution_count": 14,
   "metadata": {},
   "outputs": [
    {
     "data": {
      "text/html": [
       "<div>\n",
       "<style scoped>\n",
       "    .dataframe tbody tr th:only-of-type {\n",
       "        vertical-align: middle;\n",
       "    }\n",
       "\n",
       "    .dataframe tbody tr th {\n",
       "        vertical-align: top;\n",
       "    }\n",
       "\n",
       "    .dataframe thead th {\n",
       "        text-align: right;\n",
       "    }\n",
       "</style>\n",
       "<table border=\"1\" class=\"dataframe\">\n",
       "  <thead>\n",
       "    <tr style=\"text-align: right;\">\n",
       "      <th></th>\n",
       "      <th>normalized_bp_proportion_aligned_Homo_sapiens</th>\n",
       "      <th>normalized_bp_proportion_aligned_Canis_familiaris</th>\n",
       "      <th>metagenomic_proportion_Homo_sapiens</th>\n",
       "      <th>metagenomic_proportion_Canis_familiaris</th>\n",
       "      <th>coproID_proba_Homo_sapiens</th>\n",
       "      <th>coproID_proba_Canis_familiaris</th>\n",
       "      <th>endo_pred</th>\n",
       "      <th>sourcepredict_pred</th>\n",
       "      <th>consensus</th>\n",
       "    </tr>\n",
       "  </thead>\n",
       "  <tbody>\n",
       "    <tr>\n",
       "      <th>AHP001_A0101_SG1_1_S0</th>\n",
       "      <td>0.001732</td>\n",
       "      <td>0.998268</td>\n",
       "      <td>0.017157</td>\n",
       "      <td>0.036073</td>\n",
       "      <td>0.000030</td>\n",
       "      <td>0.036010</td>\n",
       "      <td>Canis familiaris</td>\n",
       "      <td>Canis familiaris</td>\n",
       "      <td>1</td>\n",
       "    </tr>\n",
       "    <tr>\n",
       "      <th>AHP001_B0101_SG1_1_S0</th>\n",
       "      <td>0.001784</td>\n",
       "      <td>0.998216</td>\n",
       "      <td>0.029145</td>\n",
       "      <td>0.061278</td>\n",
       "      <td>0.000052</td>\n",
       "      <td>0.061168</td>\n",
       "      <td>Canis familiaris</td>\n",
       "      <td>Canis familiaris</td>\n",
       "      <td>1</td>\n",
       "    </tr>\n",
       "    <tr>\n",
       "      <th>AHP002_A0101_SG1_1_S0</th>\n",
       "      <td>0.003693</td>\n",
       "      <td>0.996307</td>\n",
       "      <td>0.022543</td>\n",
       "      <td>0.047396</td>\n",
       "      <td>0.000083</td>\n",
       "      <td>0.047221</td>\n",
       "      <td>Canis familiaris</td>\n",
       "      <td>Canis familiaris</td>\n",
       "      <td>1</td>\n",
       "    </tr>\n",
       "    <tr>\n",
       "      <th>AHP002_B0101_SG1_1_S0</th>\n",
       "      <td>0.000740</td>\n",
       "      <td>0.999260</td>\n",
       "      <td>0.022181</td>\n",
       "      <td>0.046637</td>\n",
       "      <td>0.000016</td>\n",
       "      <td>0.046602</td>\n",
       "      <td>Canis familiaris</td>\n",
       "      <td>Canis familiaris</td>\n",
       "      <td>1</td>\n",
       "    </tr>\n",
       "    <tr>\n",
       "      <th>AHP003_A0101_SG1_1_S0</th>\n",
       "      <td>0.003601</td>\n",
       "      <td>0.996399</td>\n",
       "      <td>0.019724</td>\n",
       "      <td>0.041471</td>\n",
       "      <td>0.000071</td>\n",
       "      <td>0.041322</td>\n",
       "      <td>Canis familiaris</td>\n",
       "      <td>Canis familiaris</td>\n",
       "      <td>1</td>\n",
       "    </tr>\n",
       "  </tbody>\n",
       "</table>\n",
       "</div>"
      ],
      "text/plain": [
       "                       normalized_bp_proportion_aligned_Homo_sapiens  \\\n",
       "AHP001_A0101_SG1_1_S0                                       0.001732   \n",
       "AHP001_B0101_SG1_1_S0                                       0.001784   \n",
       "AHP002_A0101_SG1_1_S0                                       0.003693   \n",
       "AHP002_B0101_SG1_1_S0                                       0.000740   \n",
       "AHP003_A0101_SG1_1_S0                                       0.003601   \n",
       "\n",
       "                       normalized_bp_proportion_aligned_Canis_familiaris  \\\n",
       "AHP001_A0101_SG1_1_S0                                           0.998268   \n",
       "AHP001_B0101_SG1_1_S0                                           0.998216   \n",
       "AHP002_A0101_SG1_1_S0                                           0.996307   \n",
       "AHP002_B0101_SG1_1_S0                                           0.999260   \n",
       "AHP003_A0101_SG1_1_S0                                           0.996399   \n",
       "\n",
       "                       metagenomic_proportion_Homo_sapiens  \\\n",
       "AHP001_A0101_SG1_1_S0                             0.017157   \n",
       "AHP001_B0101_SG1_1_S0                             0.029145   \n",
       "AHP002_A0101_SG1_1_S0                             0.022543   \n",
       "AHP002_B0101_SG1_1_S0                             0.022181   \n",
       "AHP003_A0101_SG1_1_S0                             0.019724   \n",
       "\n",
       "                       metagenomic_proportion_Canis_familiaris  \\\n",
       "AHP001_A0101_SG1_1_S0                                 0.036073   \n",
       "AHP001_B0101_SG1_1_S0                                 0.061278   \n",
       "AHP002_A0101_SG1_1_S0                                 0.047396   \n",
       "AHP002_B0101_SG1_1_S0                                 0.046637   \n",
       "AHP003_A0101_SG1_1_S0                                 0.041471   \n",
       "\n",
       "                       coproID_proba_Homo_sapiens  \\\n",
       "AHP001_A0101_SG1_1_S0                    0.000030   \n",
       "AHP001_B0101_SG1_1_S0                    0.000052   \n",
       "AHP002_A0101_SG1_1_S0                    0.000083   \n",
       "AHP002_B0101_SG1_1_S0                    0.000016   \n",
       "AHP003_A0101_SG1_1_S0                    0.000071   \n",
       "\n",
       "                       coproID_proba_Canis_familiaris         endo_pred  \\\n",
       "AHP001_A0101_SG1_1_S0                        0.036010  Canis familiaris   \n",
       "AHP001_B0101_SG1_1_S0                        0.061168  Canis familiaris   \n",
       "AHP002_A0101_SG1_1_S0                        0.047221  Canis familiaris   \n",
       "AHP002_B0101_SG1_1_S0                        0.046602  Canis familiaris   \n",
       "AHP003_A0101_SG1_1_S0                        0.041322  Canis familiaris   \n",
       "\n",
       "                      sourcepredict_pred  consensus  \n",
       "AHP001_A0101_SG1_1_S0   Canis familiaris          1  \n",
       "AHP001_B0101_SG1_1_S0   Canis familiaris          1  \n",
       "AHP002_A0101_SG1_1_S0   Canis familiaris          1  \n",
       "AHP002_B0101_SG1_1_S0   Canis familiaris          1  \n",
       "AHP003_A0101_SG1_1_S0   Canis familiaris          1  "
      ]
     },
     "execution_count": 14,
     "metadata": {},
     "output_type": "execute_result"
    }
   ],
   "source": [
    "d.head()"
   ]
  },
  {
   "cell_type": "code",
   "execution_count": 9,
   "metadata": {},
   "outputs": [],
   "source": [
    "d['sourcepredict_pred'] = np.where(d['metagenomic_proportion_Homo_sapiens'] > d['metagenomic_proportion_Canis_familiaris'], 'Homo sapiens', 'Canis familiaris' )"
   ]
  },
  {
   "cell_type": "code",
   "execution_count": 11,
   "metadata": {},
   "outputs": [],
   "source": [
    "d['consensus'] = np.where(d['endo_pred'] == d['sourcepredict_pred'], 1, 0)"
   ]
  },
  {
   "cell_type": "code",
   "execution_count": 19,
   "metadata": {},
   "outputs": [],
   "source": [
    "d['cateregorical_consensus'] = np.where(d['endo_pred'] == d['sourcepredict_pred'], 'consensus', 'no consensus')"
   ]
  },
  {
   "cell_type": "markdown",
   "metadata": {},
   "source": [
    "## Which proportion of the samples are predicted identical by both Endogenous DNA and Sourcepredict ?"
   ]
  },
  {
   "cell_type": "code",
   "execution_count": 13,
   "metadata": {},
   "outputs": [
    {
     "data": {
      "text/plain": [
       "83.33333333333334"
      ]
     },
     "execution_count": 13,
     "metadata": {},
     "output_type": "execute_result"
    }
   ],
   "source": [
    "d['consensus'].sum()/d['consensus'].count()*100"
   ]
  },
  {
   "cell_type": "code",
   "execution_count": 60,
   "metadata": {},
   "outputs": [
    {
     "name": "stderr",
     "output_type": "stream",
     "text": [
      "/projects1/users/borry/15_miniconda3/envs/coproid_article/lib/python3.6/site-packages/plotnine/ggplot.py:706: PlotnineWarning: Saving 6.4 x 4.8 in image.\n",
      "  from_inches(height, units), units), PlotnineWarning)\n",
      "/projects1/users/borry/15_miniconda3/envs/coproid_article/lib/python3.6/site-packages/plotnine/ggplot.py:707: PlotnineWarning: Filename: results/figure5.png\n",
      "  warn('Filename: {}'.format(filename), PlotnineWarning)\n"
     ]
    },
    {
     "data": {
      "image/png": "[encoded data removed]",
      "text/plain": [
       "<Figure size 640x480 with 1 Axes>"
      ]
     },
     "metadata": {},
     "output_type": "display_data"
    },
    {
     "data": {
      "text/plain": [
       "<ggplot: (8771599355645)>"
      ]
     },
     "execution_count": 60,
     "metadata": {},
     "output_type": "execute_result"
    }
   ],
   "source": [
    "p = ggplot(d, aes('endo_pred','sourcepredict_pred')) + geom_jitter(aes(color=\"cateregorical_consensus\"))\n",
    "p = p + theme_light() + labs(x='Endogenous DNA prediction',y = 'SourcePredict Prediction')\n",
    "p = p + scale_colour_discrete(name=' ')\n",
    "p.save(\"results/figure5.png\", dpi=300)\n",
    "p"
   ]
  }
 ],
 "metadata": {
  "kernelspec": {
   "display_name": "Python [conda env:coproid_article] *",
   "language": "python",
   "name": "conda-env-coproid_article-py"
  },
  "language_info": {
   "codemirror_mode": {
    "name": "ipython",
    "version": 3
   },
   "file_extension": ".py",
   "mimetype": "text/x-python",
   "name": "python",
   "nbconvert_exporter": "python",
   "pygments_lexer": "ipython3",
   "version": "3.6.8"
  }
 },
 "nbformat": 4,
 "nbformat_minor": 2
}
