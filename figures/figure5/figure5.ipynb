{
 "cells": [
  {
   "cell_type": "code",
   "execution_count": 1,
   "metadata": {},
   "outputs": [],
   "source": [
    "import pandas as pd\n",
    "from plotnine import *\n",
    "import numpy as np\n",
    "from adjustText import adjust_text"
   ]
  },
  {
   "cell_type": "markdown",
   "metadata": {},
   "source": [
    "# Combining endogenous DNA with sourcepredict"
   ]
  },
  {
   "cell_type": "code",
   "execution_count": 2,
   "metadata": {},
   "outputs": [],
   "source": [
    "d = pd.read_csv(\"../../data/coproID_result.csv\", index_col=0)"
   ]
  },
  {
   "cell_type": "markdown",
   "metadata": {},
   "source": [
    "Endogenous DNA prediction"
   ]
  },
  {
   "cell_type": "code",
   "execution_count": 3,
   "metadata": {},
   "outputs": [],
   "source": [
    "human_endo = d['normalized_bp_proportion_aligned_Homo_sapiens']/ (d['normalized_bp_proportion_aligned_Homo_sapiens'] + d['normalized_bp_proportion_aligned_Canis_familiaris']) > (2/3)"
   ]
  },
  {
   "cell_type": "code",
   "execution_count": 4,
   "metadata": {},
   "outputs": [],
   "source": [
    "dog_endo = d['normalized_bp_proportion_aligned_Canis_familiaris']/ (d['normalized_bp_proportion_aligned_Homo_sapiens'] + d['normalized_bp_proportion_aligned_Canis_familiaris']) > (2/3)"
   ]
  },
  {
   "cell_type": "code",
   "execution_count": 5,
   "metadata": {},
   "outputs": [],
   "source": [
    "d['endo_pred'] = ['Uncertain'] * d.shape[0]\n",
    "d['endo_pred'] = np.where((human_endo == False) & (dog_endo == True), 'Dog', d['endo_pred'])\n",
    "d['endo_pred'] = np.where((human_endo == True) & (dog_endo == False), 'Human', d['endo_pred'])"
   ]
  },
  {
   "cell_type": "code",
   "execution_count": 6,
   "metadata": {},
   "outputs": [
    {
     "data": {
      "text/plain": [
       "AHP001_A0101_SG1_1_S0          Dog\n",
       "AHP001_B0101_SG1_1_S0          Dog\n",
       "AHP002_A0101_SG1_1_S0          Dog\n",
       "AHP002_B0101_SG1_1_S0          Dog\n",
       "AHP003_A0101_SG1_1_S0          Dog\n",
       "AHP003_B0101_SG1_1_S0          Dog\n",
       "AHP004_A0101_SG1_1_S0          Dog\n",
       "AHP004_B0101_SG1_1_S0          Dog\n",
       "BRF001_A0101_SG1_1_S0          Dog\n",
       "CBA001_A0101_SG1_1_S0          Dog\n",
       "CMN001_D0101_SG1_1_S0          Dog\n",
       "DRL001_A0101_SG1_1_S0          Dog\n",
       "ECO004_D0101_SG1_1_S0    Uncertain\n",
       "LEI010_A0101_SG1_1_S0    Uncertain\n",
       "MLP001_A0101_SG1_1_S0          Dog\n",
       "TRO001_A0101_SG1_1_S0          Dog\n",
       "YRK001_A0101_SG1_1_S0          Dog\n",
       "ZSM002                         Dog\n",
       "ZSM005                       Human\n",
       "ZSM023                         Dog\n",
       "ZSM025                       Human\n",
       "ZSM027                   Uncertain\n",
       "ZSM028                   Uncertain\n",
       "ZSM029                         Dog\n",
       "Name: endo_pred, dtype: object"
      ]
     },
     "execution_count": 6,
     "metadata": {},
     "output_type": "execute_result"
    }
   ],
   "source": [
    "d['endo_pred']"
   ]
  },
  {
   "cell_type": "markdown",
   "metadata": {},
   "source": [
    "Microbiome composition prediction with sourcepredict"
   ]
  },
  {
   "cell_type": "code",
   "execution_count": 7,
   "metadata": {},
   "outputs": [],
   "source": [
    "d['microbiome_pred'] = ['Unknown'] * d.shape[0]\n",
    "d['microbiome_pred'] = np.where(d['metagenomic_proportion_Homo_sapiens'] > 0.5, 'Human', d['microbiome_pred'])\n",
    "d['microbiome_pred'] = np.where(d['metagenomic_proportion_Canis_familiaris'] > 0.5, 'Dog', d['microbiome_pred'])"
   ]
  },
  {
   "cell_type": "code",
   "execution_count": 8,
   "metadata": {},
   "outputs": [
    {
     "data": {
      "text/plain": [
       "AHP001_A0101_SG1_1_S0    Unknown\n",
       "AHP001_B0101_SG1_1_S0    Unknown\n",
       "AHP002_A0101_SG1_1_S0    Unknown\n",
       "AHP002_B0101_SG1_1_S0    Unknown\n",
       "AHP003_A0101_SG1_1_S0    Unknown\n",
       "AHP003_B0101_SG1_1_S0    Unknown\n",
       "AHP004_A0101_SG1_1_S0    Unknown\n",
       "AHP004_B0101_SG1_1_S0    Unknown\n",
       "BRF001_A0101_SG1_1_S0    Unknown\n",
       "CBA001_A0101_SG1_1_S0    Unknown\n",
       "CMN001_D0101_SG1_1_S0    Unknown\n",
       "DRL001_A0101_SG1_1_S0    Unknown\n",
       "ECO004_D0101_SG1_1_S0    Unknown\n",
       "LEI010_A0101_SG1_1_S0    Unknown\n",
       "MLP001_A0101_SG1_1_S0    Unknown\n",
       "TRO001_A0101_SG1_1_S0    Unknown\n",
       "YRK001_A0101_SG1_1_S0        Dog\n",
       "ZSM002                     Human\n",
       "ZSM005                     Human\n",
       "ZSM023                     Human\n",
       "ZSM025                     Human\n",
       "ZSM027                     Human\n",
       "ZSM028                     Human\n",
       "ZSM029                     Human\n",
       "Name: microbiome_pred, dtype: object"
      ]
     },
     "execution_count": 8,
     "metadata": {},
     "output_type": "execute_result"
    }
   ],
   "source": [
    "d['microbiome_pred']"
   ]
  },
  {
   "cell_type": "code",
   "execution_count": 9,
   "metadata": {},
   "outputs": [],
   "source": [
    "new_index = []\n",
    "for i in list(d.index.str.split(\"_\")):\n",
    "    if len(i) > 1:\n",
    "        new_index.append(\"_\".join(i[0:2]))\n",
    "    else:\n",
    "        new_index.append(i[0])\n",
    "d.index = new_index"
   ]
  },
  {
   "cell_type": "code",
   "execution_count": 10,
   "metadata": {},
   "outputs": [
    {
     "data": {
      "text/html": [
       "<div>\n",
       "<style scoped>\n",
       "    .dataframe tbody tr th:only-of-type {\n",
       "        vertical-align: middle;\n",
       "    }\n",
       "\n",
       "    .dataframe tbody tr th {\n",
       "        vertical-align: top;\n",
       "    }\n",
       "\n",
       "    .dataframe thead th {\n",
       "        text-align: right;\n",
       "    }\n",
       "</style>\n",
       "<table border=\"1\" class=\"dataframe\">\n",
       "  <thead>\n",
       "    <tr style=\"text-align: right;\">\n",
       "      <th></th>\n",
       "      <th>normalized_bp_proportion_aligned_Homo_sapiens</th>\n",
       "      <th>normalized_bp_proportion_aligned_Canis_familiaris</th>\n",
       "      <th>metagenomic_proportion_Homo_sapiens</th>\n",
       "      <th>metagenomic_proportion_Canis_familiaris</th>\n",
       "      <th>coproID_proba_Homo_sapiens</th>\n",
       "      <th>coproID_proba_Canis_familiaris</th>\n",
       "      <th>endo_pred</th>\n",
       "      <th>microbiome_pred</th>\n",
       "    </tr>\n",
       "  </thead>\n",
       "  <tbody>\n",
       "    <tr>\n",
       "      <th>AHP001_A0101</th>\n",
       "      <td>0.001732</td>\n",
       "      <td>0.998268</td>\n",
       "      <td>0.017157</td>\n",
       "      <td>0.036073</td>\n",
       "      <td>0.000030</td>\n",
       "      <td>0.036010</td>\n",
       "      <td>Dog</td>\n",
       "      <td>Unknown</td>\n",
       "    </tr>\n",
       "    <tr>\n",
       "      <th>AHP001_B0101</th>\n",
       "      <td>0.001784</td>\n",
       "      <td>0.998216</td>\n",
       "      <td>0.029145</td>\n",
       "      <td>0.061278</td>\n",
       "      <td>0.000052</td>\n",
       "      <td>0.061168</td>\n",
       "      <td>Dog</td>\n",
       "      <td>Unknown</td>\n",
       "    </tr>\n",
       "    <tr>\n",
       "      <th>AHP002_A0101</th>\n",
       "      <td>0.003693</td>\n",
       "      <td>0.996307</td>\n",
       "      <td>0.022543</td>\n",
       "      <td>0.047396</td>\n",
       "      <td>0.000083</td>\n",
       "      <td>0.047221</td>\n",
       "      <td>Dog</td>\n",
       "      <td>Unknown</td>\n",
       "    </tr>\n",
       "    <tr>\n",
       "      <th>AHP002_B0101</th>\n",
       "      <td>0.000740</td>\n",
       "      <td>0.999260</td>\n",
       "      <td>0.022181</td>\n",
       "      <td>0.046637</td>\n",
       "      <td>0.000016</td>\n",
       "      <td>0.046602</td>\n",
       "      <td>Dog</td>\n",
       "      <td>Unknown</td>\n",
       "    </tr>\n",
       "    <tr>\n",
       "      <th>AHP003_A0101</th>\n",
       "      <td>0.003601</td>\n",
       "      <td>0.996399</td>\n",
       "      <td>0.019724</td>\n",
       "      <td>0.041471</td>\n",
       "      <td>0.000071</td>\n",
       "      <td>0.041322</td>\n",
       "      <td>Dog</td>\n",
       "      <td>Unknown</td>\n",
       "    </tr>\n",
       "  </tbody>\n",
       "</table>\n",
       "</div>"
      ],
      "text/plain": [
       "              normalized_bp_proportion_aligned_Homo_sapiens  \\\n",
       "AHP001_A0101                                       0.001732   \n",
       "AHP001_B0101                                       0.001784   \n",
       "AHP002_A0101                                       0.003693   \n",
       "AHP002_B0101                                       0.000740   \n",
       "AHP003_A0101                                       0.003601   \n",
       "\n",
       "              normalized_bp_proportion_aligned_Canis_familiaris  \\\n",
       "AHP001_A0101                                           0.998268   \n",
       "AHP001_B0101                                           0.998216   \n",
       "AHP002_A0101                                           0.996307   \n",
       "AHP002_B0101                                           0.999260   \n",
       "AHP003_A0101                                           0.996399   \n",
       "\n",
       "              metagenomic_proportion_Homo_sapiens  \\\n",
       "AHP001_A0101                             0.017157   \n",
       "AHP001_B0101                             0.029145   \n",
       "AHP002_A0101                             0.022543   \n",
       "AHP002_B0101                             0.022181   \n",
       "AHP003_A0101                             0.019724   \n",
       "\n",
       "              metagenomic_proportion_Canis_familiaris  \\\n",
       "AHP001_A0101                                 0.036073   \n",
       "AHP001_B0101                                 0.061278   \n",
       "AHP002_A0101                                 0.047396   \n",
       "AHP002_B0101                                 0.046637   \n",
       "AHP003_A0101                                 0.041471   \n",
       "\n",
       "              coproID_proba_Homo_sapiens  coproID_proba_Canis_familiaris  \\\n",
       "AHP001_A0101                    0.000030                        0.036010   \n",
       "AHP001_B0101                    0.000052                        0.061168   \n",
       "AHP002_A0101                    0.000083                        0.047221   \n",
       "AHP002_B0101                    0.000016                        0.046602   \n",
       "AHP003_A0101                    0.000071                        0.041322   \n",
       "\n",
       "             endo_pred microbiome_pred  \n",
       "AHP001_A0101       Dog         Unknown  \n",
       "AHP001_B0101       Dog         Unknown  \n",
       "AHP002_A0101       Dog         Unknown  \n",
       "AHP002_B0101       Dog         Unknown  \n",
       "AHP003_A0101       Dog         Unknown  "
      ]
     },
     "execution_count": 10,
     "metadata": {},
     "output_type": "execute_result"
    }
   ],
   "source": [
    "d.head()"
   ]
  },
  {
   "cell_type": "markdown",
   "metadata": {},
   "source": [
    "Looking at consensus between Endogenous DNA and microbiome composition prediction"
   ]
  },
  {
   "cell_type": "code",
   "execution_count": 11,
   "metadata": {},
   "outputs": [],
   "source": [
    "d['consensus'] = np.where(d['endo_pred'] == d['microbiome_pred'], 1, 0)\n",
    "d['consensus'] = np.where((d['endo_pred'] == 'Uncertain') & (d['microbiome_pred'] == 'Unknown'), 1, d['consensus'])\n",
    "d['categorical_consensus'] = np.where(d['endo_pred'] == d['microbiome_pred'], 'consensus', 'no consensus')\n",
    "d['categorical_consensus'] = np.where((d['endo_pred'] == 'Uncertain') & (d['microbiome_pred'] == 'Unknown'), 'consensus', d['categorical_consensus'])"
   ]
  },
  {
   "cell_type": "markdown",
   "metadata": {},
   "source": [
    "## Which proportion of the samples are predicted identical by both Endogenous DNA and Sourcepredict ?"
   ]
  },
  {
   "cell_type": "code",
   "execution_count": 12,
   "metadata": {},
   "outputs": [
    {
     "data": {
      "text/html": [
       "<div>\n",
       "<style scoped>\n",
       "    .dataframe tbody tr th:only-of-type {\n",
       "        vertical-align: middle;\n",
       "    }\n",
       "\n",
       "    .dataframe tbody tr th {\n",
       "        vertical-align: top;\n",
       "    }\n",
       "\n",
       "    .dataframe thead th {\n",
       "        text-align: right;\n",
       "    }\n",
       "</style>\n",
       "<table border=\"1\" class=\"dataframe\">\n",
       "  <thead>\n",
       "    <tr style=\"text-align: right;\">\n",
       "      <th></th>\n",
       "      <th>endo_pred</th>\n",
       "      <th>microbiome_pred</th>\n",
       "      <th>consensus</th>\n",
       "      <th>categorical_consensus</th>\n",
       "    </tr>\n",
       "  </thead>\n",
       "  <tbody>\n",
       "    <tr>\n",
       "      <th>AHP001_A0101</th>\n",
       "      <td>Dog</td>\n",
       "      <td>Unknown</td>\n",
       "      <td>0</td>\n",
       "      <td>no consensus</td>\n",
       "    </tr>\n",
       "    <tr>\n",
       "      <th>AHP001_B0101</th>\n",
       "      <td>Dog</td>\n",
       "      <td>Unknown</td>\n",
       "      <td>0</td>\n",
       "      <td>no consensus</td>\n",
       "    </tr>\n",
       "    <tr>\n",
       "      <th>AHP002_A0101</th>\n",
       "      <td>Dog</td>\n",
       "      <td>Unknown</td>\n",
       "      <td>0</td>\n",
       "      <td>no consensus</td>\n",
       "    </tr>\n",
       "    <tr>\n",
       "      <th>AHP002_B0101</th>\n",
       "      <td>Dog</td>\n",
       "      <td>Unknown</td>\n",
       "      <td>0</td>\n",
       "      <td>no consensus</td>\n",
       "    </tr>\n",
       "    <tr>\n",
       "      <th>AHP003_A0101</th>\n",
       "      <td>Dog</td>\n",
       "      <td>Unknown</td>\n",
       "      <td>0</td>\n",
       "      <td>no consensus</td>\n",
       "    </tr>\n",
       "    <tr>\n",
       "      <th>AHP003_B0101</th>\n",
       "      <td>Dog</td>\n",
       "      <td>Unknown</td>\n",
       "      <td>0</td>\n",
       "      <td>no consensus</td>\n",
       "    </tr>\n",
       "    <tr>\n",
       "      <th>AHP004_A0101</th>\n",
       "      <td>Dog</td>\n",
       "      <td>Unknown</td>\n",
       "      <td>0</td>\n",
       "      <td>no consensus</td>\n",
       "    </tr>\n",
       "    <tr>\n",
       "      <th>AHP004_B0101</th>\n",
       "      <td>Dog</td>\n",
       "      <td>Unknown</td>\n",
       "      <td>0</td>\n",
       "      <td>no consensus</td>\n",
       "    </tr>\n",
       "    <tr>\n",
       "      <th>BRF001_A0101</th>\n",
       "      <td>Dog</td>\n",
       "      <td>Unknown</td>\n",
       "      <td>0</td>\n",
       "      <td>no consensus</td>\n",
       "    </tr>\n",
       "    <tr>\n",
       "      <th>CBA001_A0101</th>\n",
       "      <td>Dog</td>\n",
       "      <td>Unknown</td>\n",
       "      <td>0</td>\n",
       "      <td>no consensus</td>\n",
       "    </tr>\n",
       "    <tr>\n",
       "      <th>CMN001_D0101</th>\n",
       "      <td>Dog</td>\n",
       "      <td>Unknown</td>\n",
       "      <td>0</td>\n",
       "      <td>no consensus</td>\n",
       "    </tr>\n",
       "    <tr>\n",
       "      <th>DRL001_A0101</th>\n",
       "      <td>Dog</td>\n",
       "      <td>Unknown</td>\n",
       "      <td>0</td>\n",
       "      <td>no consensus</td>\n",
       "    </tr>\n",
       "    <tr>\n",
       "      <th>ECO004_D0101</th>\n",
       "      <td>Uncertain</td>\n",
       "      <td>Unknown</td>\n",
       "      <td>1</td>\n",
       "      <td>consensus</td>\n",
       "    </tr>\n",
       "    <tr>\n",
       "      <th>LEI010_A0101</th>\n",
       "      <td>Uncertain</td>\n",
       "      <td>Unknown</td>\n",
       "      <td>1</td>\n",
       "      <td>consensus</td>\n",
       "    </tr>\n",
       "    <tr>\n",
       "      <th>MLP001_A0101</th>\n",
       "      <td>Dog</td>\n",
       "      <td>Unknown</td>\n",
       "      <td>0</td>\n",
       "      <td>no consensus</td>\n",
       "    </tr>\n",
       "    <tr>\n",
       "      <th>TRO001_A0101</th>\n",
       "      <td>Dog</td>\n",
       "      <td>Unknown</td>\n",
       "      <td>0</td>\n",
       "      <td>no consensus</td>\n",
       "    </tr>\n",
       "    <tr>\n",
       "      <th>YRK001_A0101</th>\n",
       "      <td>Dog</td>\n",
       "      <td>Dog</td>\n",
       "      <td>1</td>\n",
       "      <td>consensus</td>\n",
       "    </tr>\n",
       "    <tr>\n",
       "      <th>ZSM002</th>\n",
       "      <td>Dog</td>\n",
       "      <td>Human</td>\n",
       "      <td>0</td>\n",
       "      <td>no consensus</td>\n",
       "    </tr>\n",
       "    <tr>\n",
       "      <th>ZSM005</th>\n",
       "      <td>Human</td>\n",
       "      <td>Human</td>\n",
       "      <td>1</td>\n",
       "      <td>consensus</td>\n",
       "    </tr>\n",
       "    <tr>\n",
       "      <th>ZSM023</th>\n",
       "      <td>Dog</td>\n",
       "      <td>Human</td>\n",
       "      <td>0</td>\n",
       "      <td>no consensus</td>\n",
       "    </tr>\n",
       "    <tr>\n",
       "      <th>ZSM025</th>\n",
       "      <td>Human</td>\n",
       "      <td>Human</td>\n",
       "      <td>1</td>\n",
       "      <td>consensus</td>\n",
       "    </tr>\n",
       "    <tr>\n",
       "      <th>ZSM027</th>\n",
       "      <td>Uncertain</td>\n",
       "      <td>Human</td>\n",
       "      <td>0</td>\n",
       "      <td>no consensus</td>\n",
       "    </tr>\n",
       "    <tr>\n",
       "      <th>ZSM028</th>\n",
       "      <td>Uncertain</td>\n",
       "      <td>Human</td>\n",
       "      <td>0</td>\n",
       "      <td>no consensus</td>\n",
       "    </tr>\n",
       "    <tr>\n",
       "      <th>ZSM029</th>\n",
       "      <td>Dog</td>\n",
       "      <td>Human</td>\n",
       "      <td>0</td>\n",
       "      <td>no consensus</td>\n",
       "    </tr>\n",
       "  </tbody>\n",
       "</table>\n",
       "</div>"
      ],
      "text/plain": [
       "              endo_pred microbiome_pred  consensus categorical_consensus\n",
       "AHP001_A0101        Dog         Unknown          0          no consensus\n",
       "AHP001_B0101        Dog         Unknown          0          no consensus\n",
       "AHP002_A0101        Dog         Unknown          0          no consensus\n",
       "AHP002_B0101        Dog         Unknown          0          no consensus\n",
       "AHP003_A0101        Dog         Unknown          0          no consensus\n",
       "AHP003_B0101        Dog         Unknown          0          no consensus\n",
       "AHP004_A0101        Dog         Unknown          0          no consensus\n",
       "AHP004_B0101        Dog         Unknown          0          no consensus\n",
       "BRF001_A0101        Dog         Unknown          0          no consensus\n",
       "CBA001_A0101        Dog         Unknown          0          no consensus\n",
       "CMN001_D0101        Dog         Unknown          0          no consensus\n",
       "DRL001_A0101        Dog         Unknown          0          no consensus\n",
       "ECO004_D0101  Uncertain         Unknown          1             consensus\n",
       "LEI010_A0101  Uncertain         Unknown          1             consensus\n",
       "MLP001_A0101        Dog         Unknown          0          no consensus\n",
       "TRO001_A0101        Dog         Unknown          0          no consensus\n",
       "YRK001_A0101        Dog             Dog          1             consensus\n",
       "ZSM002              Dog           Human          0          no consensus\n",
       "ZSM005            Human           Human          1             consensus\n",
       "ZSM023              Dog           Human          0          no consensus\n",
       "ZSM025            Human           Human          1             consensus\n",
       "ZSM027        Uncertain           Human          0          no consensus\n",
       "ZSM028        Uncertain           Human          0          no consensus\n",
       "ZSM029              Dog           Human          0          no consensus"
      ]
     },
     "execution_count": 12,
     "metadata": {},
     "output_type": "execute_result"
    }
   ],
   "source": [
    "d[['endo_pred','microbiome_pred','consensus','categorical_consensus']].sort_index()"
   ]
  },
  {
   "cell_type": "code",
   "execution_count": 13,
   "metadata": {},
   "outputs": [
    {
     "data": {
      "text/plain": [
       "20.833333333333336"
      ]
     },
     "execution_count": 13,
     "metadata": {},
     "output_type": "execute_result"
    }
   ],
   "source": [
    "d['consensus'].sum()/d['consensus'].count()*100"
   ]
  },
  {
   "cell_type": "code",
   "execution_count": 14,
   "metadata": {},
   "outputs": [],
   "source": [
    "d['coproID_prediction'] = ['Unknown'] * d.shape[0]\n",
    "d['coproID_prediction'] = np.where(d['coproID_proba_Canis_familiaris'] > 0.5, 'Dog', d['coproID_prediction'])\n",
    "d['coproID_prediction'] = np.where(d['coproID_proba_Homo_sapiens'] > 0.5, 'Human', d['coproID_prediction'])"
   ]
  },
  {
   "cell_type": "code",
   "execution_count": 15,
   "metadata": {},
   "outputs": [],
   "source": [
    "d[['coproID_proba_Canis_familiaris','coproID_proba_Homo_sapiens', 'coproID_prediction']]\n",
    "d['grepel_name'] = np.where(d['coproID_prediction'] != 'Unknown', d.index, None)"
   ]
  },
  {
   "cell_type": "code",
   "execution_count": 16,
   "metadata": {},
   "outputs": [],
   "source": [
    "species_text = pd.DataFrame()"
   ]
  },
  {
   "cell_type": "code",
   "execution_count": 17,
   "metadata": {},
   "outputs": [],
   "source": [
    "species_text['x'] = [0.25, 0.75, 0.75, 0.25]\n",
    "species_text['y'] = [0.25, 0.25, 0.75, 0.75]\n",
    "species_text['text'] = ['Unknown', 'Dog', 'Unknown', 'Human']"
   ]
  },
  {
   "cell_type": "code",
   "execution_count": 18,
   "metadata": {},
   "outputs": [
    {
     "name": "stderr",
     "output_type": "stream",
     "text": [
      "/projects1/users/borry/15_miniconda3/envs/coproid_article/lib/python3.6/site-packages/plotnine/ggplot.py:706: PlotnineWarning: Saving 6.4 x 4.8 in image.\n",
      "  from_inches(height, units), units), PlotnineWarning)\n",
      "/projects1/users/borry/15_miniconda3/envs/coproid_article/lib/python3.6/site-packages/plotnine/ggplot.py:707: PlotnineWarning: Filename: results/figure5A.png\n",
      "  warn('Filename: {}'.format(filename), PlotnineWarning)\n",
      "/projects1/users/borry/15_miniconda3/envs/coproid_article/lib/python3.6/site-packages/plotnine/layer.py:453: PlotnineWarning: geom_text : Removed 19 rows containing missing values.\n",
      "  self.data = self.geom.handle_na(self.data)\n",
      "/projects1/users/borry/15_miniconda3/envs/coproid_article/lib/python3.6/site-packages/plotnine/layer.py:453: PlotnineWarning: geom_text : Removed 19 rows containing missing values.\n",
      "  self.data = self.geom.handle_na(self.data)\n"
     ]
    },
    {
     "data": {
      "image/png": "[encoded data removed]",
      "text/plain": [
       "<Figure size 640x480 with 1 Axes>"
      ]
     },
     "metadata": {},
     "output_type": "display_data"
    },
    {
     "data": {
      "text/plain": [
       "<ggplot: (8734848749281)>"
      ]
     },
     "execution_count": 18,
     "metadata": {},
     "output_type": "execute_result"
    }
   ],
   "source": [
    "p = ggplot(d, aes(x = 'coproID_proba_Canis_familiaris',y = 'coproID_proba_Homo_sapiens', label='grepel_name'))\n",
    "p = p + geom_point(aes(fill=\"coproID_prediction\"), color='black', stroke=0.1, size=3)\n",
    "p = p + theme_classic() + labs(x='coproID proba Dog',y = 'coproID proba Human')\n",
    "p = p + geom_text(size=6, adjust_text= {\n",
    "    'expand_points': (2, 2),\n",
    "    'expand_objects': (1.5, 2),\n",
    "    'arrowprops': {\n",
    "        'arrowstyle': '-',\n",
    "        'color': 'grey'\n",
    "    },\n",
    "    'on_basemap':True\n",
    "})\n",
    "p = p + geom_text(data=species_text, mapping=aes(x='x',y='y', label='text'), alpha=0.3, color='grey')\n",
    "p = p + geom_hline(yintercept=0.5, linetype='dashed', alpha=0.1) \n",
    "p = p + geom_vline(xintercept=0.5, linetype='dashed', alpha=0.1)\n",
    "p = p + scale_fill_manual(name='Predicted Organism', values = {'Human':'#c44e00', 'Dog':'#2166ac', 'Unknown':'#a2a3a1'})\n",
    "p = p + coord_cartesian(xlim=[0,1],ylim=[0,1])\n",
    "p.save(\"results/figure5A.png\", dpi=300)\n",
    "p"
   ]
  },
  {
   "cell_type": "code",
   "execution_count": 24,
   "metadata": {},
   "outputs": [],
   "source": [
    "species_text2 = species_text"
   ]
  },
  {
   "cell_type": "code",
   "execution_count": 25,
   "metadata": {},
   "outputs": [],
   "source": [
    "species_text2['text'] = ['Uncertain','Uncertain','Human','Uncertain']"
   ]
  },
  {
   "cell_type": "code",
   "execution_count": 26,
   "metadata": {},
   "outputs": [
    {
     "name": "stderr",
     "output_type": "stream",
     "text": [
      "/projects1/users/borry/15_miniconda3/envs/coproid_article/lib/python3.6/site-packages/plotnine/ggplot.py:706: PlotnineWarning: Saving 6.4 x 4.8 in image.\n",
      "  from_inches(height, units), units), PlotnineWarning)\n",
      "/projects1/users/borry/15_miniconda3/envs/coproid_article/lib/python3.6/site-packages/plotnine/ggplot.py:707: PlotnineWarning: Filename: results/figure5B.png\n",
      "  warn('Filename: {}'.format(filename), PlotnineWarning)\n"
     ]
    },
    {
     "data": {
      "image/png": "[encoded data removed]",
      "text/plain": [
       "<Figure size 640x480 with 1 Axes>"
      ]
     },
     "metadata": {},
     "output_type": "display_data"
    },
    {
     "data": {
      "text/plain": [
       "<ggplot: (-9223363302008404550)>"
      ]
     },
     "execution_count": 26,
     "metadata": {},
     "output_type": "execute_result"
    }
   ],
   "source": [
    "p2 = ggplot(data=d.query('coproID_prediction != \"Dog\"'))\n",
    "p2 = p2 + geom_point(aes(x='normalized_bp_proportion_aligned_Homo_sapiens',y='metagenomic_proportion_Homo_sapiens', fill='coproID_prediction'), color='black', stroke=0.1, size=3)\n",
    "p2 = p2 + geom_hline(yintercept=0.5, linetype='dashed', alpha=0.1) \n",
    "p2 = p2 + geom_vline(xintercept=0.5, linetype='dashed', alpha=0.1)\n",
    "p2 = p2 + geom_text(data=species_text2, mapping=aes(x='x',y='y', label='text'), alpha=0.3, color='grey')\n",
    "p2 = p2 + scale_fill_manual(name='Predicted Organism', values = {'Human':'#c44e00', 'Dog':'#2166ac', 'Unknown':'#a2a3a1'})\n",
    "p2 = p2 + theme_classic() + labs(x='Endogenous Human probability',y = 'Microbiome composition Human probability')\n",
    "p2 = p2 + coord_cartesian(xlim=[0,1],ylim=[0,1])\n",
    "p2 = p2 + theme(legend_position = 'top')\n",
    "p2.save(\"results/figure5B.png\", dpi=300)\n",
    "p2"
   ]
  },
  {
   "cell_type": "code",
   "execution_count": 27,
   "metadata": {},
   "outputs": [],
   "source": [
    "species_text3 = species_text2\n",
    "species_text3['text'] = ['Uncertain','Uncertain','Dog','Uncertain']"
   ]
  },
  {
   "cell_type": "code",
   "execution_count": 28,
   "metadata": {},
   "outputs": [
    {
     "name": "stderr",
     "output_type": "stream",
     "text": [
      "/projects1/users/borry/15_miniconda3/envs/coproid_article/lib/python3.6/site-packages/plotnine/ggplot.py:706: PlotnineWarning: Saving 6.4 x 4.8 in image.\n",
      "  from_inches(height, units), units), PlotnineWarning)\n",
      "/projects1/users/borry/15_miniconda3/envs/coproid_article/lib/python3.6/site-packages/plotnine/ggplot.py:707: PlotnineWarning: Filename: results/figure5C.png\n",
      "  warn('Filename: {}'.format(filename), PlotnineWarning)\n"
     ]
    },
    {
     "data": {
      "image/png": "[encoded data removed]",
      "text/plain": [
       "<Figure size 640x480 with 1 Axes>"
      ]
     },
     "metadata": {},
     "output_type": "display_data"
    },
    {
     "data": {
      "text/plain": [
       "<ggplot: (-9223363302008465927)>"
      ]
     },
     "execution_count": 28,
     "metadata": {},
     "output_type": "execute_result"
    }
   ],
   "source": [
    "p3 = ggplot(data=d.query('coproID_prediction != \"Human\"'))\n",
    "p3 = p3 + geom_point(aes(x='normalized_bp_proportion_aligned_Canis_familiaris',y='metagenomic_proportion_Canis_familiaris', fill='coproID_prediction'), color='black', stroke=0.1, size=3)\n",
    "p3 = p3 + geom_hline(yintercept=0.5, linetype='dashed', alpha=0.1) \n",
    "p3 = p3 + geom_vline(xintercept=0.5, linetype='dashed', alpha=0.1)\n",
    "p3 = p3 + geom_text(data=species_text3, mapping=aes(x='x',y='y', label='text'), alpha=0.3, color='grey')\n",
    "p3 = p3 + scale_fill_manual(name='Predicted Organism', values = {'Human':'#c44e00', 'Dog':'#2166ac', 'Unknown':'#a2a3a1'})\n",
    "p3 = p3 + theme_classic() + labs(x='Endogenous Dog probability',y = 'Microbiome composition Dog probability')\n",
    "p3 = p3 + coord_cartesian(xlim=[0,1],ylim=[0,1])\n",
    "p3 = p3 + theme(legend_position = 'top')\n",
    "p3.save(\"results/figure5C.png\", dpi=300)\n",
    "p3"
   ]
  }
 ],
 "metadata": {
  "kernelspec": {
   "display_name": "Python [conda env:coproid_article] *",
   "language": "python",
   "name": "conda-env-coproid_article-py"
  },
  "language_info": {
   "codemirror_mode": {
    "name": "ipython",
    "version": 3
   },
   "file_extension": ".py",
   "mimetype": "text/x-python",
   "name": "python",
   "nbconvert_exporter": "python",
   "pygments_lexer": "ipython3",
   "version": "3.6.8"
  }
 },
 "nbformat": 4,
 "nbformat_minor": 2
}
