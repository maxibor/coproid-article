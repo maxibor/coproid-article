{
 "cells": [
  {
   "cell_type": "code",
   "execution_count": 36,
   "metadata": {},
   "outputs": [],
   "source": [
    "import pandas as pd\n",
    "from plotnine import *\n",
    "import numpy as np\n",
    "from adjustText import adjust_text"
   ]
  },
  {
   "cell_type": "markdown",
   "metadata": {},
   "source": [
    "# Combining endogenous DNA with sourcepredict"
   ]
  },
  {
   "cell_type": "code",
   "execution_count": 37,
   "metadata": {},
   "outputs": [],
   "source": [
    "d_endo_udg = pd.read_csv(\"../../data/coproID_results/coproID_udg_half_result.csv\").iloc[:,[0,1,2]]\n",
    "d_endo_udg.index = d_endo_udg.iloc[:,0].str.split(\"_\", expand=True)[0]\n",
    "d_endo_udg.drop(d_endo_udg.columns[0], axis=1, inplace=True)"
   ]
  },
  {
   "cell_type": "code",
   "execution_count": 38,
   "metadata": {},
   "outputs": [],
   "source": [
    "d_endo_non_udg = pd.read_csv(\"../../data/coproID_results/coproID_non_udg_result.csv\", index_col=0)[['normalized_bp_proportion_aligned_Homo_sapiens','normalized_bp_proportion_aligned_Canis_familiaris']]\n",
    "d_sourcp = pd.read_csv(\"../../data/coproID_results/coproID_all_result.csv\", index_col=0)[['metagenomic_proportion_Homo_sapiens','metagenomic_proportion_Canis_familiaris']]"
   ]
  },
  {
   "cell_type": "code",
   "execution_count": 39,
   "metadata": {},
   "outputs": [],
   "source": [
    "d = d_endo_udg.append(d_endo_non_udg).merge(d_sourcp, left_index=True, right_index=True)"
   ]
  },
  {
   "cell_type": "code",
   "execution_count": 40,
   "metadata": {},
   "outputs": [],
   "source": [
    "d['coproID_proba_Canis_familiaris'] = d['normalized_bp_proportion_aligned_Canis_familiaris']*d['metagenomic_proportion_Canis_familiaris']\n",
    "d['coproID_proba_Homo_sapiens'] = d['normalized_bp_proportion_aligned_Homo_sapiens']*d['metagenomic_proportion_Homo_sapiens']"
   ]
  },
  {
   "cell_type": "code",
   "execution_count": 41,
   "metadata": {},
   "outputs": [],
   "source": [
    "sample_type = pd.DataFrame({\n",
    "    'AHP003':['Coprolite', '11'],\n",
    "    'CMN001':['Archaelogical sediment','20'],\n",
    "    'ZSM005':['Coprolite','02'],\n",
    "    'ZSM002':['Coprolite','01'],\n",
    "    'ZSM029':['Coprolite','07'],\n",
    "    'YRK001':['Coprolite','13'],\n",
    "    'ZSM025':['Coprolite','04'],\n",
    "    'TRO001':['Archaelogical sediment','14'],\n",
    "    'ZSM028':['Coprolite','06'],\n",
    "    'ZSM031':['Coprolite','08'],\n",
    "    'ZSM023':['Coprolite','03'],\n",
    "    'ECO004':['Archaelogical sediment','19'],\n",
    "    'AHP001':['Coprolite','09'],\n",
    "    'AHP002':['Coprolite','10'],\n",
    "    'CBA001':['Archaelogical sediment','16'],\n",
    "    'LEI010':['Archaelogical sediment','18'],\n",
    "    'AHP004':['Coprolite','12'],\n",
    "    'DRL001':['Archaelogical sediment','15'],\n",
    "    'ZSM027':['Coprolite','05'],\n",
    "    'BRF001':['Archaelogical sediment','17'],\n",
    "    'MLP001':['Archaelogical sediment','21'],\n",
    "}, index = ['sample_type','plot_id'])"
   ]
  },
  {
   "cell_type": "code",
   "execution_count": 42,
   "metadata": {},
   "outputs": [],
   "source": [
    "d = d.merge(sample_type.T, left_index=True, right_index=True)"
   ]
  },
  {
   "cell_type": "code",
   "execution_count": 49,
   "metadata": {},
   "outputs": [],
   "source": [
    "d.drop(\"sample_type\", axis=1).sort_values(\"plot_id\").to_csv(\"coproid_result_table.csv\")"
   ]
  },
  {
   "cell_type": "code",
   "execution_count": 8,
   "metadata": {},
   "outputs": [
    {
     "data": {
      "text/plain": [
       "normalized_bp_proportion_aligned_Homo_sapiens         0.539659\n",
       "normalized_bp_proportion_aligned_Canis_familiaris     0.460341\n",
       "metagenomic_proportion_Homo_sapiens                   0.921762\n",
       "metagenomic_proportion_Canis_familiaris               0.050223\n",
       "coproID_proba_Canis_familiaris                       0.0231197\n",
       "coproID_proba_Homo_sapiens                            0.497438\n",
       "sample_type                                          Coprolite\n",
       "plot_id                                                     05\n",
       "Name: ZSM027, dtype: object"
      ]
     },
     "execution_count": 8,
     "metadata": {},
     "output_type": "execute_result"
    }
   ],
   "source": [
    "d.loc['ZSM027',:]"
   ]
  },
  {
   "cell_type": "markdown",
   "metadata": {},
   "source": [
    "Endogenous DNA prediction"
   ]
  },
  {
   "cell_type": "code",
   "execution_count": 9,
   "metadata": {},
   "outputs": [],
   "source": [
    "human_endo = d['normalized_bp_proportion_aligned_Homo_sapiens']/ (d['normalized_bp_proportion_aligned_Homo_sapiens'] + d['normalized_bp_proportion_aligned_Canis_familiaris']) > (2/3)"
   ]
  },
  {
   "cell_type": "code",
   "execution_count": 10,
   "metadata": {},
   "outputs": [],
   "source": [
    "dog_endo = d['normalized_bp_proportion_aligned_Canis_familiaris']/ (d['normalized_bp_proportion_aligned_Homo_sapiens'] + d['normalized_bp_proportion_aligned_Canis_familiaris']) > (2/3)"
   ]
  },
  {
   "cell_type": "code",
   "execution_count": 11,
   "metadata": {},
   "outputs": [],
   "source": [
    "d['endo_pred'] = ['Uncertain'] * d.shape[0]\n",
    "d['endo_pred'] = np.where((human_endo == False) & (dog_endo == True), 'Dog', d['endo_pred'])\n",
    "d['endo_pred'] = np.where((human_endo == True) & (dog_endo == False), 'Human', d['endo_pred'])"
   ]
  },
  {
   "cell_type": "code",
   "execution_count": 12,
   "metadata": {},
   "outputs": [
    {
     "data": {
      "text/plain": [
       "AHP001          Dog\n",
       "AHP002          Dog\n",
       "AHP003          Dog\n",
       "AHP004          Dog\n",
       "BRF001          Dog\n",
       "CBA001          Dog\n",
       "CMN001          Dog\n",
       "DRL001          Dog\n",
       "ECO004    Uncertain\n",
       "LEI010    Uncertain\n",
       "MLP001          Dog\n",
       "TRO001          Dog\n",
       "YRK001          Dog\n",
       "ZSM002          Dog\n",
       "ZSM005        Human\n",
       "ZSM023          Dog\n",
       "ZSM025    Uncertain\n",
       "ZSM027    Uncertain\n",
       "ZSM028    Uncertain\n",
       "ZSM029          Dog\n",
       "ZSM031    Uncertain\n",
       "Name: endo_pred, dtype: object"
      ]
     },
     "execution_count": 12,
     "metadata": {},
     "output_type": "execute_result"
    }
   ],
   "source": [
    "d['endo_pred']"
   ]
  },
  {
   "cell_type": "markdown",
   "metadata": {},
   "source": [
    "Microbiome composition prediction with sourcepredict"
   ]
  },
  {
   "cell_type": "code",
   "execution_count": 13,
   "metadata": {},
   "outputs": [],
   "source": [
    "d['microbiome_pred'] = ['Unknown'] * d.shape[0]\n",
    "d['microbiome_pred'] = np.where(d['metagenomic_proportion_Homo_sapiens'] > 0.5, 'Human', d['microbiome_pred'])\n",
    "d['microbiome_pred'] = np.where(d['metagenomic_proportion_Canis_familiaris'] > 0.5, 'Dog', d['microbiome_pred'])"
   ]
  },
  {
   "cell_type": "code",
   "execution_count": 14,
   "metadata": {},
   "outputs": [
    {
     "data": {
      "text/plain": [
       "AHP001    Unknown\n",
       "AHP002    Unknown\n",
       "AHP003    Unknown\n",
       "AHP004        Dog\n",
       "BRF001    Unknown\n",
       "CBA001    Unknown\n",
       "CMN001    Unknown\n",
       "DRL001    Unknown\n",
       "ECO004    Unknown\n",
       "LEI010    Unknown\n",
       "MLP001    Unknown\n",
       "TRO001    Unknown\n",
       "YRK001        Dog\n",
       "ZSM002      Human\n",
       "ZSM005      Human\n",
       "ZSM023      Human\n",
       "ZSM025      Human\n",
       "ZSM027      Human\n",
       "ZSM028      Human\n",
       "ZSM029      Human\n",
       "ZSM031      Human\n",
       "Name: microbiome_pred, dtype: object"
      ]
     },
     "execution_count": 14,
     "metadata": {},
     "output_type": "execute_result"
    }
   ],
   "source": [
    "d['microbiome_pred']"
   ]
  },
  {
   "cell_type": "code",
   "execution_count": 15,
   "metadata": {},
   "outputs": [],
   "source": [
    "new_index = []\n",
    "for i in list(d.index.str.split(\"_\")):\n",
    "    if len(i) > 1:\n",
    "        new_index.append(\"_\".join(i[0:2]))\n",
    "    else:\n",
    "        new_index.append(i[0])\n",
    "d.index = new_index"
   ]
  },
  {
   "cell_type": "code",
   "execution_count": 16,
   "metadata": {},
   "outputs": [
    {
     "data": {
      "text/html": [
       "<div>\n",
       "<style scoped>\n",
       "    .dataframe tbody tr th:only-of-type {\n",
       "        vertical-align: middle;\n",
       "    }\n",
       "\n",
       "    .dataframe tbody tr th {\n",
       "        vertical-align: top;\n",
       "    }\n",
       "\n",
       "    .dataframe thead th {\n",
       "        text-align: right;\n",
       "    }\n",
       "</style>\n",
       "<table border=\"1\" class=\"dataframe\">\n",
       "  <thead>\n",
       "    <tr style=\"text-align: right;\">\n",
       "      <th></th>\n",
       "      <th>normalized_bp_proportion_aligned_Homo_sapiens</th>\n",
       "      <th>normalized_bp_proportion_aligned_Canis_familiaris</th>\n",
       "      <th>metagenomic_proportion_Homo_sapiens</th>\n",
       "      <th>metagenomic_proportion_Canis_familiaris</th>\n",
       "      <th>coproID_proba_Canis_familiaris</th>\n",
       "      <th>coproID_proba_Homo_sapiens</th>\n",
       "      <th>sample_type</th>\n",
       "      <th>plot_id</th>\n",
       "      <th>endo_pred</th>\n",
       "      <th>microbiome_pred</th>\n",
       "    </tr>\n",
       "  </thead>\n",
       "  <tbody>\n",
       "    <tr>\n",
       "      <th>AHP001</th>\n",
       "      <td>0.001766</td>\n",
       "      <td>0.998234</td>\n",
       "      <td>0.014974</td>\n",
       "      <td>0.032195</td>\n",
       "      <td>0.032139</td>\n",
       "      <td>0.000026</td>\n",
       "      <td>Coprolite</td>\n",
       "      <td>09</td>\n",
       "      <td>Dog</td>\n",
       "      <td>Unknown</td>\n",
       "    </tr>\n",
       "    <tr>\n",
       "      <th>AHP002</th>\n",
       "      <td>0.000859</td>\n",
       "      <td>0.999141</td>\n",
       "      <td>0.019017</td>\n",
       "      <td>0.040888</td>\n",
       "      <td>0.040853</td>\n",
       "      <td>0.000016</td>\n",
       "      <td>Coprolite</td>\n",
       "      <td>10</td>\n",
       "      <td>Dog</td>\n",
       "      <td>Unknown</td>\n",
       "    </tr>\n",
       "    <tr>\n",
       "      <th>AHP003</th>\n",
       "      <td>0.000666</td>\n",
       "      <td>0.999334</td>\n",
       "      <td>0.016656</td>\n",
       "      <td>0.035813</td>\n",
       "      <td>0.035789</td>\n",
       "      <td>0.000011</td>\n",
       "      <td>Coprolite</td>\n",
       "      <td>11</td>\n",
       "      <td>Dog</td>\n",
       "      <td>Unknown</td>\n",
       "    </tr>\n",
       "    <tr>\n",
       "      <th>AHP004</th>\n",
       "      <td>0.008974</td>\n",
       "      <td>0.991026</td>\n",
       "      <td>0.105530</td>\n",
       "      <td>0.526756</td>\n",
       "      <td>0.522029</td>\n",
       "      <td>0.000947</td>\n",
       "      <td>Coprolite</td>\n",
       "      <td>12</td>\n",
       "      <td>Dog</td>\n",
       "      <td>Dog</td>\n",
       "    </tr>\n",
       "    <tr>\n",
       "      <th>BRF001</th>\n",
       "      <td>0.024120</td>\n",
       "      <td>0.975880</td>\n",
       "      <td>0.016901</td>\n",
       "      <td>0.036339</td>\n",
       "      <td>0.035463</td>\n",
       "      <td>0.000408</td>\n",
       "      <td>Archaelogical sediment</td>\n",
       "      <td>17</td>\n",
       "      <td>Dog</td>\n",
       "      <td>Unknown</td>\n",
       "    </tr>\n",
       "  </tbody>\n",
       "</table>\n",
       "</div>"
      ],
      "text/plain": [
       "        normalized_bp_proportion_aligned_Homo_sapiens  \\\n",
       "AHP001                                       0.001766   \n",
       "AHP002                                       0.000859   \n",
       "AHP003                                       0.000666   \n",
       "AHP004                                       0.008974   \n",
       "BRF001                                       0.024120   \n",
       "\n",
       "        normalized_bp_proportion_aligned_Canis_familiaris  \\\n",
       "AHP001                                           0.998234   \n",
       "AHP002                                           0.999141   \n",
       "AHP003                                           0.999334   \n",
       "AHP004                                           0.991026   \n",
       "BRF001                                           0.975880   \n",
       "\n",
       "        metagenomic_proportion_Homo_sapiens  \\\n",
       "AHP001                             0.014974   \n",
       "AHP002                             0.019017   \n",
       "AHP003                             0.016656   \n",
       "AHP004                             0.105530   \n",
       "BRF001                             0.016901   \n",
       "\n",
       "        metagenomic_proportion_Canis_familiaris  \\\n",
       "AHP001                                 0.032195   \n",
       "AHP002                                 0.040888   \n",
       "AHP003                                 0.035813   \n",
       "AHP004                                 0.526756   \n",
       "BRF001                                 0.036339   \n",
       "\n",
       "        coproID_proba_Canis_familiaris  coproID_proba_Homo_sapiens  \\\n",
       "AHP001                        0.032139                    0.000026   \n",
       "AHP002                        0.040853                    0.000016   \n",
       "AHP003                        0.035789                    0.000011   \n",
       "AHP004                        0.522029                    0.000947   \n",
       "BRF001                        0.035463                    0.000408   \n",
       "\n",
       "                   sample_type plot_id endo_pred microbiome_pred  \n",
       "AHP001               Coprolite      09       Dog         Unknown  \n",
       "AHP002               Coprolite      10       Dog         Unknown  \n",
       "AHP003               Coprolite      11       Dog         Unknown  \n",
       "AHP004               Coprolite      12       Dog             Dog  \n",
       "BRF001  Archaelogical sediment      17       Dog         Unknown  "
      ]
     },
     "execution_count": 16,
     "metadata": {},
     "output_type": "execute_result"
    }
   ],
   "source": [
    "d.head()"
   ]
  },
  {
   "cell_type": "markdown",
   "metadata": {},
   "source": [
    "Looking at consensus between Endogenous DNA and microbiome composition prediction"
   ]
  },
  {
   "cell_type": "code",
   "execution_count": 17,
   "metadata": {},
   "outputs": [],
   "source": [
    "d['consensus'] = np.where(d['endo_pred'] == d['microbiome_pred'], 1, 0)\n",
    "d['consensus'] = np.where((d['endo_pred'] == 'Uncertain') & (d['microbiome_pred'] == 'Unknown'), 1, d['consensus'])\n",
    "d['categorical_consensus'] = np.where(d['endo_pred'] == d['microbiome_pred'], 'consensus', 'no consensus')\n",
    "d['categorical_consensus'] = np.where((d['endo_pred'] == 'Uncertain') & (d['microbiome_pred'] == 'Unknown'), 'consensus', d['categorical_consensus'])"
   ]
  },
  {
   "cell_type": "markdown",
   "metadata": {},
   "source": [
    "## Which proportion of the samples are predicted identical by both Endogenous DNA and Sourcepredict ?"
   ]
  },
  {
   "cell_type": "code",
   "execution_count": 18,
   "metadata": {},
   "outputs": [
    {
     "data": {
      "text/html": [
       "<div>\n",
       "<style scoped>\n",
       "    .dataframe tbody tr th:only-of-type {\n",
       "        vertical-align: middle;\n",
       "    }\n",
       "\n",
       "    .dataframe tbody tr th {\n",
       "        vertical-align: top;\n",
       "    }\n",
       "\n",
       "    .dataframe thead th {\n",
       "        text-align: right;\n",
       "    }\n",
       "</style>\n",
       "<table border=\"1\" class=\"dataframe\">\n",
       "  <thead>\n",
       "    <tr style=\"text-align: right;\">\n",
       "      <th></th>\n",
       "      <th>endo_pred</th>\n",
       "      <th>microbiome_pred</th>\n",
       "      <th>consensus</th>\n",
       "      <th>categorical_consensus</th>\n",
       "    </tr>\n",
       "  </thead>\n",
       "  <tbody>\n",
       "    <tr>\n",
       "      <th>AHP001</th>\n",
       "      <td>Dog</td>\n",
       "      <td>Unknown</td>\n",
       "      <td>0</td>\n",
       "      <td>no consensus</td>\n",
       "    </tr>\n",
       "    <tr>\n",
       "      <th>AHP002</th>\n",
       "      <td>Dog</td>\n",
       "      <td>Unknown</td>\n",
       "      <td>0</td>\n",
       "      <td>no consensus</td>\n",
       "    </tr>\n",
       "    <tr>\n",
       "      <th>AHP003</th>\n",
       "      <td>Dog</td>\n",
       "      <td>Unknown</td>\n",
       "      <td>0</td>\n",
       "      <td>no consensus</td>\n",
       "    </tr>\n",
       "    <tr>\n",
       "      <th>AHP004</th>\n",
       "      <td>Dog</td>\n",
       "      <td>Dog</td>\n",
       "      <td>1</td>\n",
       "      <td>consensus</td>\n",
       "    </tr>\n",
       "    <tr>\n",
       "      <th>BRF001</th>\n",
       "      <td>Dog</td>\n",
       "      <td>Unknown</td>\n",
       "      <td>0</td>\n",
       "      <td>no consensus</td>\n",
       "    </tr>\n",
       "    <tr>\n",
       "      <th>CBA001</th>\n",
       "      <td>Dog</td>\n",
       "      <td>Unknown</td>\n",
       "      <td>0</td>\n",
       "      <td>no consensus</td>\n",
       "    </tr>\n",
       "    <tr>\n",
       "      <th>CMN001</th>\n",
       "      <td>Dog</td>\n",
       "      <td>Unknown</td>\n",
       "      <td>0</td>\n",
       "      <td>no consensus</td>\n",
       "    </tr>\n",
       "    <tr>\n",
       "      <th>DRL001</th>\n",
       "      <td>Dog</td>\n",
       "      <td>Unknown</td>\n",
       "      <td>0</td>\n",
       "      <td>no consensus</td>\n",
       "    </tr>\n",
       "    <tr>\n",
       "      <th>ECO004</th>\n",
       "      <td>Uncertain</td>\n",
       "      <td>Unknown</td>\n",
       "      <td>1</td>\n",
       "      <td>consensus</td>\n",
       "    </tr>\n",
       "    <tr>\n",
       "      <th>LEI010</th>\n",
       "      <td>Uncertain</td>\n",
       "      <td>Unknown</td>\n",
       "      <td>1</td>\n",
       "      <td>consensus</td>\n",
       "    </tr>\n",
       "    <tr>\n",
       "      <th>MLP001</th>\n",
       "      <td>Dog</td>\n",
       "      <td>Unknown</td>\n",
       "      <td>0</td>\n",
       "      <td>no consensus</td>\n",
       "    </tr>\n",
       "    <tr>\n",
       "      <th>TRO001</th>\n",
       "      <td>Dog</td>\n",
       "      <td>Unknown</td>\n",
       "      <td>0</td>\n",
       "      <td>no consensus</td>\n",
       "    </tr>\n",
       "    <tr>\n",
       "      <th>YRK001</th>\n",
       "      <td>Dog</td>\n",
       "      <td>Dog</td>\n",
       "      <td>1</td>\n",
       "      <td>consensus</td>\n",
       "    </tr>\n",
       "    <tr>\n",
       "      <th>ZSM002</th>\n",
       "      <td>Dog</td>\n",
       "      <td>Human</td>\n",
       "      <td>0</td>\n",
       "      <td>no consensus</td>\n",
       "    </tr>\n",
       "    <tr>\n",
       "      <th>ZSM005</th>\n",
       "      <td>Human</td>\n",
       "      <td>Human</td>\n",
       "      <td>1</td>\n",
       "      <td>consensus</td>\n",
       "    </tr>\n",
       "    <tr>\n",
       "      <th>ZSM023</th>\n",
       "      <td>Dog</td>\n",
       "      <td>Human</td>\n",
       "      <td>0</td>\n",
       "      <td>no consensus</td>\n",
       "    </tr>\n",
       "    <tr>\n",
       "      <th>ZSM025</th>\n",
       "      <td>Uncertain</td>\n",
       "      <td>Human</td>\n",
       "      <td>0</td>\n",
       "      <td>no consensus</td>\n",
       "    </tr>\n",
       "    <tr>\n",
       "      <th>ZSM027</th>\n",
       "      <td>Uncertain</td>\n",
       "      <td>Human</td>\n",
       "      <td>0</td>\n",
       "      <td>no consensus</td>\n",
       "    </tr>\n",
       "    <tr>\n",
       "      <th>ZSM028</th>\n",
       "      <td>Uncertain</td>\n",
       "      <td>Human</td>\n",
       "      <td>0</td>\n",
       "      <td>no consensus</td>\n",
       "    </tr>\n",
       "    <tr>\n",
       "      <th>ZSM029</th>\n",
       "      <td>Dog</td>\n",
       "      <td>Human</td>\n",
       "      <td>0</td>\n",
       "      <td>no consensus</td>\n",
       "    </tr>\n",
       "    <tr>\n",
       "      <th>ZSM031</th>\n",
       "      <td>Uncertain</td>\n",
       "      <td>Human</td>\n",
       "      <td>0</td>\n",
       "      <td>no consensus</td>\n",
       "    </tr>\n",
       "  </tbody>\n",
       "</table>\n",
       "</div>"
      ],
      "text/plain": [
       "        endo_pred microbiome_pred  consensus categorical_consensus\n",
       "AHP001        Dog         Unknown          0          no consensus\n",
       "AHP002        Dog         Unknown          0          no consensus\n",
       "AHP003        Dog         Unknown          0          no consensus\n",
       "AHP004        Dog             Dog          1             consensus\n",
       "BRF001        Dog         Unknown          0          no consensus\n",
       "CBA001        Dog         Unknown          0          no consensus\n",
       "CMN001        Dog         Unknown          0          no consensus\n",
       "DRL001        Dog         Unknown          0          no consensus\n",
       "ECO004  Uncertain         Unknown          1             consensus\n",
       "LEI010  Uncertain         Unknown          1             consensus\n",
       "MLP001        Dog         Unknown          0          no consensus\n",
       "TRO001        Dog         Unknown          0          no consensus\n",
       "YRK001        Dog             Dog          1             consensus\n",
       "ZSM002        Dog           Human          0          no consensus\n",
       "ZSM005      Human           Human          1             consensus\n",
       "ZSM023        Dog           Human          0          no consensus\n",
       "ZSM025  Uncertain           Human          0          no consensus\n",
       "ZSM027  Uncertain           Human          0          no consensus\n",
       "ZSM028  Uncertain           Human          0          no consensus\n",
       "ZSM029        Dog           Human          0          no consensus\n",
       "ZSM031  Uncertain           Human          0          no consensus"
      ]
     },
     "execution_count": 18,
     "metadata": {},
     "output_type": "execute_result"
    }
   ],
   "source": [
    "d[['endo_pred','microbiome_pred','consensus','categorical_consensus']].sort_index()"
   ]
  },
  {
   "cell_type": "code",
   "execution_count": 19,
   "metadata": {},
   "outputs": [
    {
     "data": {
      "text/plain": [
       "23.809523809523807"
      ]
     },
     "execution_count": 19,
     "metadata": {},
     "output_type": "execute_result"
    }
   ],
   "source": [
    "d['consensus'].sum()/d['consensus'].count()*100"
   ]
  },
  {
   "cell_type": "code",
   "execution_count": 20,
   "metadata": {},
   "outputs": [],
   "source": [
    "d['coproID_prediction'] = ['Unknown'] * d.shape[0]\n",
    "d['coproID_prediction'] = np.where(d['coproID_proba_Canis_familiaris'] > 0.5, 'Dog', d['coproID_prediction'])\n",
    "d['coproID_prediction'] = np.where(d['coproID_proba_Homo_sapiens'] > 0.5, 'Human', d['coproID_prediction'])"
   ]
  },
  {
   "cell_type": "code",
   "execution_count": 21,
   "metadata": {},
   "outputs": [],
   "source": [
    "d[['coproID_proba_Canis_familiaris','coproID_proba_Homo_sapiens', 'coproID_prediction']]\n",
    "d['grepel_name'] = np.where(d['coproID_prediction'] != 'Unknown', d.index, None)"
   ]
  },
  {
   "cell_type": "code",
   "execution_count": 22,
   "metadata": {},
   "outputs": [],
   "source": [
    "species_text = pd.DataFrame()"
   ]
  },
  {
   "cell_type": "code",
   "execution_count": 23,
   "metadata": {},
   "outputs": [],
   "source": [
    "species_text['x'] = [0.25, 0.75, 0.75, 0.25]\n",
    "species_text['y'] = [0.25, 0.25, 0.75, 0.75]\n",
    "species_text['text'] = ['Unknown', 'Dog', 'Unknown', 'Human']"
   ]
  },
  {
   "cell_type": "code",
   "execution_count": 24,
   "metadata": {},
   "outputs": [],
   "source": [
    "d['color_pred'] = -1*d['coproID_proba_Canis_familiaris']+d['coproID_proba_Homo_sapiens']"
   ]
  },
  {
   "cell_type": "code",
   "execution_count": 25,
   "metadata": {},
   "outputs": [
    {
     "name": "stderr",
     "output_type": "stream",
     "text": [
      "/projects1/users/borry/15_miniconda3/lib/python3.7/site-packages/plotnine/ggplot.py:719: PlotnineWarning: Saving 6.4 x 4.8 in image.\n",
      "  from_inches(height, units), units), PlotnineWarning)\n",
      "/projects1/users/borry/15_miniconda3/lib/python3.7/site-packages/plotnine/ggplot.py:720: PlotnineWarning: Filename: results/figure5A.png\n",
      "  warn('Filename: {}'.format(filename), PlotnineWarning)\n",
      "/projects1/users/borry/15_miniconda3/lib/python3.7/site-packages/plotnine/layer.py:453: PlotnineWarning: geom_text : Removed 15 rows containing missing values.\n",
      "  self.data = self.geom.handle_na(self.data)\n",
      "/projects1/users/borry/15_miniconda3/lib/python3.7/site-packages/plotnine/ggplot.py:735: MatplotlibDeprecationWarning: \n",
      "The frameon kwarg was deprecated in Matplotlib 3.1 and will be removed in 3.3. Use facecolor instead.\n",
      "  fig.savefig(filename, **fig_kwargs)\n",
      "/projects1/users/borry/15_miniconda3/lib/python3.7/site-packages/plotnine/layer.py:453: PlotnineWarning: geom_text : Removed 15 rows containing missing values.\n",
      "  self.data = self.geom.handle_na(self.data)\n"
     ]
    },
    {
     "data": {
      "image/png": "[encoded data removed]",
      "text/plain": [
       "<Figure size 640x480 with 1 Axes>"
      ]
     },
     "metadata": {},
     "output_type": "display_data"
    },
    {
     "data": {
      "text/plain": [
       "<ggplot: (8737403186671)>"
      ]
     },
     "execution_count": 25,
     "metadata": {},
     "output_type": "execute_result"
    }
   ],
   "source": [
    "p = ggplot(d, aes(x = 'coproID_proba_Canis_familiaris',y = 'coproID_proba_Homo_sapiens', label='grepel_name'))\n",
    "# p = p + geom_point(aes(fill=\"coproID_prediction\", shape=\"sample_type\"), color='black', stroke=0.1, size=6, alpha = 0.8)\n",
    "p = p + geom_point(aes(fill=\"color_pred\", shape=\"sample_type\"), color='black', stroke=0.1, size=6, alpha = 0.8)\n",
    "p = p + theme_classic() + labs(x='coproID proba Dog',y = 'coproID proba Human')\n",
    "p = p +  geom_text(size=6, adjust_text= {\n",
    "    'expand_points': (2, 2),\n",
    "    'expand_objects': (1.5, 2),\n",
    "    'arrowprops': {\n",
    "        'arrowstyle': '-',\n",
    "        'color': 'darkgrey'\n",
    "    },\n",
    "    'on_basemap':True\n",
    "})\n",
    "p = p + geom_text(aes(label='plot_id'), size = 4.5, fontweight = 'bold', color='white')\n",
    "p = p + geom_text(data=species_text, mapping=aes(x='x',y='y', label='text'), alpha=0.3, color='grey')\n",
    "p = p + geom_hline(yintercept=0.5, linetype='dashed', alpha=0.1) \n",
    "p = p + geom_vline(xintercept=0.5, linetype='dashed', alpha=0.1)\n",
    "p = p + scale_shape_manual(name='Sample', values={'Coprolite':'X', 'Archaelogical sediment':'P'})\n",
    "# p = p + scale_fill_manual(name='Predicted Organism', values = {'Human':'#c44e00', 'Dog':'#2166ac', 'Unknown':'#a2a3a1'})\n",
    "p = p + scale_fill_gradient2(low='#2166ac', mid='lightgrey',high='#c44e00', labels = ['Dog','Uncertain','Human'])\n",
    "p = p + coord_cartesian(xlim=[0,1],ylim=[0,1])\n",
    "p = p + labs(fill='Predicted species')\n",
    "p.save(\"results/figure5A.png\", dpi=300)\n",
    "p"
   ]
  },
  {
   "cell_type": "code",
   "execution_count": 26,
   "metadata": {},
   "outputs": [],
   "source": [
    "species_text2 = species_text"
   ]
  },
  {
   "cell_type": "code",
   "execution_count": 27,
   "metadata": {},
   "outputs": [],
   "source": [
    "species_text2['text'] = ['Uncertain','Uncertain','Human','Uncertain']"
   ]
  },
  {
   "cell_type": "code",
   "execution_count": 61,
   "metadata": {},
   "outputs": [
    {
     "name": "stderr",
     "output_type": "stream",
     "text": [
      "/projects1/users/borry/15_miniconda3/lib/python3.7/site-packages/plotnine/ggplot.py:719: PlotnineWarning: Saving 6.4 x 4.8 in image.\n",
      "  from_inches(height, units), units), PlotnineWarning)\n",
      "/projects1/users/borry/15_miniconda3/lib/python3.7/site-packages/plotnine/ggplot.py:720: PlotnineWarning: Filename: results/figure5B.png\n",
      "  warn('Filename: {}'.format(filename), PlotnineWarning)\n",
      "/projects1/users/borry/15_miniconda3/lib/python3.7/site-packages/plotnine/ggplot.py:735: MatplotlibDeprecationWarning: \n",
      "The frameon kwarg was deprecated in Matplotlib 3.1 and will be removed in 3.3. Use facecolor instead.\n",
      "  fig.savefig(filename, **fig_kwargs)\n"
     ]
    },
    {
     "data": {
      "image/png": "[encoded data removed]",
      "text/plain": [
       "<Figure size 640x480 with 1 Axes>"
      ]
     },
     "metadata": {},
     "output_type": "display_data"
    },
    {
     "data": {
      "text/plain": [
       "<ggplot: (-9223363299552045501)>"
      ]
     },
     "execution_count": 61,
     "metadata": {},
     "output_type": "execute_result"
    }
   ],
   "source": [
    "p2 = ggplot(data=d.query('coproID_proba_Canis_familiaris < 0.5'))\n",
    "p2 = p2 + geom_point(aes(x='normalized_bp_proportion_aligned_Homo_sapiens',y='metagenomic_proportion_Homo_sapiens', fill='coproID_proba_Homo_sapiens', shape=\"sample_type\"), color='black', stroke=0.1, size=6)\n",
    "p2 = p2 + geom_hline(yintercept=0.5, linetype='dashed', alpha=0.1) \n",
    "p2 = p2 + geom_vline(xintercept=0.5, linetype='dashed', alpha=0.1)\n",
    "p2 = p2 + geom_text(aes(label='plot_id', x='normalized_bp_proportion_aligned_Homo_sapiens',y='metagenomic_proportion_Homo_sapiens'), size = 4.5, fontweight = 'bold', color='white')\n",
    "p2 = p2 + scale_shape_manual(name='Sample', values={'Coprolite':'X', 'Archaelogical sediment':'P'})\n",
    "p2 = p2 + scale_fill_gradient(low='lightgrey',high='#c44e00', limits=[0,1], labels=['Unknown','','','','Human'], name='coproID $Homo\\ sapiens$ prediction')\n",
    "# p2 = p2 + scale_fill_manual(name='Predicted Organism', values = {'Human':'#c44e00', 'Dog':'#2166ac', 'Unknown':'#a2a3a1'})\n",
    "p2 = p2 + theme_classic() + labs(x='Endogenous Human probability',y = 'Microbiome composition Human probability')\n",
    "p2 = p2 + coord_cartesian(xlim=[0,1],ylim=[0,1])\n",
    "p2 = p2 + theme(legend_position = 'top')\n",
    "p2.save(\"results/figure5B.png\", dpi=300)\n",
    "p2"
   ]
  },
  {
   "cell_type": "code",
   "execution_count": null,
   "metadata": {},
   "outputs": [],
   "source": []
  },
  {
   "cell_type": "code",
   "execution_count": 29,
   "metadata": {},
   "outputs": [],
   "source": [
    "species_text3 = species_text2\n",
    "species_text3['text'] = ['Uncertain','Uncertain','Dog','Uncertain']"
   ]
  },
  {
   "cell_type": "code",
   "execution_count": 177,
   "metadata": {},
   "outputs": [
    {
     "data": {
      "text/html": [
       "<div>\n",
       "<style scoped>\n",
       "    .dataframe tbody tr th:only-of-type {\n",
       "        vertical-align: middle;\n",
       "    }\n",
       "\n",
       "    .dataframe tbody tr th {\n",
       "        vertical-align: top;\n",
       "    }\n",
       "\n",
       "    .dataframe thead th {\n",
       "        text-align: right;\n",
       "    }\n",
       "</style>\n",
       "<table border=\"1\" class=\"dataframe\">\n",
       "  <thead>\n",
       "    <tr style=\"text-align: right;\">\n",
       "      <th></th>\n",
       "      <th>normalized_bp_proportion_aligned_Homo_sapiens</th>\n",
       "      <th>normalized_bp_proportion_aligned_Canis_familiaris</th>\n",
       "      <th>metagenomic_proportion_Homo_sapiens</th>\n",
       "      <th>metagenomic_proportion_Canis_familiaris</th>\n",
       "      <th>coproID_proba_Canis_familiaris</th>\n",
       "      <th>coproID_proba_Homo_sapiens</th>\n",
       "      <th>sample_type</th>\n",
       "      <th>plot_id</th>\n",
       "    </tr>\n",
       "  </thead>\n",
       "  <tbody>\n",
       "    <tr>\n",
       "      <th>AHP004</th>\n",
       "      <td>0.008974</td>\n",
       "      <td>0.991026</td>\n",
       "      <td>0.105530</td>\n",
       "      <td>0.526756</td>\n",
       "      <td>0.522029</td>\n",
       "      <td>0.000947</td>\n",
       "      <td>Coprolite</td>\n",
       "      <td>12</td>\n",
       "    </tr>\n",
       "    <tr>\n",
       "      <th>YRK001</th>\n",
       "      <td>0.002837</td>\n",
       "      <td>0.997163</td>\n",
       "      <td>0.023322</td>\n",
       "      <td>0.948685</td>\n",
       "      <td>0.945994</td>\n",
       "      <td>0.000066</td>\n",
       "      <td>Coprolite</td>\n",
       "      <td>13</td>\n",
       "    </tr>\n",
       "    <tr>\n",
       "      <th>ZSM005</th>\n",
       "      <td>0.870368</td>\n",
       "      <td>0.129632</td>\n",
       "      <td>0.921762</td>\n",
       "      <td>0.050223</td>\n",
       "      <td>0.006510</td>\n",
       "      <td>0.802273</td>\n",
       "      <td>Coprolite</td>\n",
       "      <td>02</td>\n",
       "    </tr>\n",
       "    <tr>\n",
       "      <th>ZSM025</th>\n",
       "      <td>0.638976</td>\n",
       "      <td>0.361024</td>\n",
       "      <td>0.921811</td>\n",
       "      <td>0.050226</td>\n",
       "      <td>0.018133</td>\n",
       "      <td>0.589015</td>\n",
       "      <td>Coprolite</td>\n",
       "      <td>04</td>\n",
       "    </tr>\n",
       "    <tr>\n",
       "      <th>ZSM027</th>\n",
       "      <td>0.539659</td>\n",
       "      <td>0.460341</td>\n",
       "      <td>0.921762</td>\n",
       "      <td>0.050223</td>\n",
       "      <td>0.023120</td>\n",
       "      <td>0.497438</td>\n",
       "      <td>Coprolite</td>\n",
       "      <td>05</td>\n",
       "    </tr>\n",
       "    <tr>\n",
       "      <th>ZSM028</th>\n",
       "      <td>0.543846</td>\n",
       "      <td>0.456154</td>\n",
       "      <td>0.921762</td>\n",
       "      <td>0.050223</td>\n",
       "      <td>0.022909</td>\n",
       "      <td>0.501297</td>\n",
       "      <td>Coprolite</td>\n",
       "      <td>06</td>\n",
       "    </tr>\n",
       "    <tr>\n",
       "      <th>ZSM031</th>\n",
       "      <td>0.586025</td>\n",
       "      <td>0.413975</td>\n",
       "      <td>0.921762</td>\n",
       "      <td>0.050223</td>\n",
       "      <td>0.020791</td>\n",
       "      <td>0.540175</td>\n",
       "      <td>Coprolite</td>\n",
       "      <td>08</td>\n",
       "    </tr>\n",
       "  </tbody>\n",
       "</table>\n",
       "</div>"
      ],
      "text/plain": [
       "        normalized_bp_proportion_aligned_Homo_sapiens  \\\n",
       "AHP004                                       0.008974   \n",
       "YRK001                                       0.002837   \n",
       "ZSM005                                       0.870368   \n",
       "ZSM025                                       0.638976   \n",
       "ZSM027                                       0.539659   \n",
       "ZSM028                                       0.543846   \n",
       "ZSM031                                       0.586025   \n",
       "\n",
       "        normalized_bp_proportion_aligned_Canis_familiaris  \\\n",
       "AHP004                                           0.991026   \n",
       "YRK001                                           0.997163   \n",
       "ZSM005                                           0.129632   \n",
       "ZSM025                                           0.361024   \n",
       "ZSM027                                           0.460341   \n",
       "ZSM028                                           0.456154   \n",
       "ZSM031                                           0.413975   \n",
       "\n",
       "        metagenomic_proportion_Homo_sapiens  \\\n",
       "AHP004                             0.105530   \n",
       "YRK001                             0.023322   \n",
       "ZSM005                             0.921762   \n",
       "ZSM025                             0.921811   \n",
       "ZSM027                             0.921762   \n",
       "ZSM028                             0.921762   \n",
       "ZSM031                             0.921762   \n",
       "\n",
       "        metagenomic_proportion_Canis_familiaris  \\\n",
       "AHP004                                 0.526756   \n",
       "YRK001                                 0.948685   \n",
       "ZSM005                                 0.050223   \n",
       "ZSM025                                 0.050226   \n",
       "ZSM027                                 0.050223   \n",
       "ZSM028                                 0.050223   \n",
       "ZSM031                                 0.050223   \n",
       "\n",
       "        coproID_proba_Canis_familiaris  coproID_proba_Homo_sapiens  \\\n",
       "AHP004                        0.522029                    0.000947   \n",
       "YRK001                        0.945994                    0.000066   \n",
       "ZSM005                        0.006510                    0.802273   \n",
       "ZSM025                        0.018133                    0.589015   \n",
       "ZSM027                        0.023120                    0.497438   \n",
       "ZSM028                        0.022909                    0.501297   \n",
       "ZSM031                        0.020791                    0.540175   \n",
       "\n",
       "       sample_type plot_id  \n",
       "AHP004   Coprolite      12  \n",
       "YRK001   Coprolite      13  \n",
       "ZSM005   Coprolite      02  \n",
       "ZSM025   Coprolite      04  \n",
       "ZSM027   Coprolite      05  \n",
       "ZSM028   Coprolite      06  \n",
       "ZSM031   Coprolite      08  "
      ]
     },
     "execution_count": 177,
     "metadata": {},
     "output_type": "execute_result"
    }
   ],
   "source": [
    "d.query('sample_type == \"Coprolite\"').query('coproID_proba_Canis_familiaris >= 0.4 or coproID_proba_Homo_sapiens >= 0.4')"
   ]
  },
  {
   "cell_type": "code",
   "execution_count": 65,
   "metadata": {},
   "outputs": [
    {
     "name": "stderr",
     "output_type": "stream",
     "text": [
      "/projects1/users/borry/15_miniconda3/lib/python3.7/site-packages/plotnine/ggplot.py:719: PlotnineWarning: Saving 6.4 x 4.8 in image.\n",
      "  from_inches(height, units), units), PlotnineWarning)\n",
      "/projects1/users/borry/15_miniconda3/lib/python3.7/site-packages/plotnine/ggplot.py:720: PlotnineWarning: Filename: results/figure5C.png\n",
      "  warn('Filename: {}'.format(filename), PlotnineWarning)\n",
      "/projects1/users/borry/15_miniconda3/lib/python3.7/site-packages/plotnine/ggplot.py:735: MatplotlibDeprecationWarning: \n",
      "The frameon kwarg was deprecated in Matplotlib 3.1 and will be removed in 3.3. Use facecolor instead.\n",
      "  fig.savefig(filename, **fig_kwargs)\n"
     ]
    },
    {
     "data": {
      "image/png": "[encoded data removed]",
      "text/plain": [
       "<Figure size 640x480 with 1 Axes>"
      ]
     },
     "metadata": {},
     "output_type": "display_data"
    },
    {
     "data": {
      "text/plain": [
       "<ggplot: (-9223363299547323143)>"
      ]
     },
     "execution_count": 65,
     "metadata": {},
     "output_type": "execute_result"
    }
   ],
   "source": [
    "p3 = ggplot(data=d.query('coproID_proba_Homo_sapiens < 0.5'))\n",
    "p3 = p3 + geom_point(aes(x='normalized_bp_proportion_aligned_Canis_familiaris',y='metagenomic_proportion_Canis_familiaris', fill='coproID_proba_Canis_familiaris', shape=\"sample_type\"), color='black', stroke=0.1, size=6)\n",
    "p3 = p3 + geom_hline(yintercept=0.5, linetype='dashed', alpha=0.1) \n",
    "p3 = p3 + geom_vline(xintercept=0.5, linetype='dashed', alpha=0.1)\n",
    "p3 = p3 + geom_text(mapping=aes(x='normalized_bp_proportion_aligned_Canis_familiaris',y='metagenomic_proportion_Canis_familiaris', label='plot_id'), size = 4.5, fontweight = 'bold', color='white')\n",
    "p3 = p3 + scale_shape_manual(name='Sample', values={'Coprolite':'X', 'Archaelogical sediment':'P'})\n",
    "p3 = p3 + scale_fill_gradient(low='lightgrey',high='#2166ac', limits=[0,1], labels=['Unknown','','','','Dog'], name='coproID $Canis\\ familiaris$ prediction')\n",
    "# p3 = p3 + scale_fill_manual(name='Predicted Organism', values = {'Human':'#c44e00', 'Dog':'#2166ac', 'Unknown':'#a2a3a1'})\n",
    "p3 = p3 + theme_classic() + labs(x='Endogenous Dog probability',y = 'Microbiome composition Dog probability')\n",
    "p3 = p3 + coord_cartesian(xlim=[0,1],ylim=[0,1])\n",
    "p3 = p3 + theme(legend_position = 'top')\n",
    "p3.save(\"results/figure5C.png\", dpi=300)\n",
    "p3"
   ]
  },
  {
   "cell_type": "code",
   "execution_count": 166,
   "metadata": {},
   "outputs": [],
   "source": [
    "d_cop = d.sort_values('plot_id').query('sample_type == \"Coprolite\"')"
   ]
  },
  {
   "cell_type": "code",
   "execution_count": 168,
   "metadata": {},
   "outputs": [],
   "source": [
    "fig5d_table = d_cop['normalized_bp_proportion_aligned_Homo_sapiens'].append(d_cop['metagenomic_proportion_Homo_sapiens']).to_frame(name='prediction').assign(type=['endogenous DNA']*d_cop.shape[0]+['Sourcepredict']*d_cop.shape[0])\n",
    "fig5d_table['sample'] = pd.Categorical(fig5d_table.index, categories=d_cop.index)"
   ]
  },
  {
   "cell_type": "code",
   "execution_count": 169,
   "metadata": {},
   "outputs": [
    {
     "data": {
      "text/html": [
       "<div>\n",
       "<style scoped>\n",
       "    .dataframe tbody tr th:only-of-type {\n",
       "        vertical-align: middle;\n",
       "    }\n",
       "\n",
       "    .dataframe tbody tr th {\n",
       "        vertical-align: top;\n",
       "    }\n",
       "\n",
       "    .dataframe thead th {\n",
       "        text-align: right;\n",
       "    }\n",
       "</style>\n",
       "<table border=\"1\" class=\"dataframe\">\n",
       "  <thead>\n",
       "    <tr style=\"text-align: right;\">\n",
       "      <th></th>\n",
       "      <th>prediction</th>\n",
       "      <th>type</th>\n",
       "      <th>sample</th>\n",
       "    </tr>\n",
       "  </thead>\n",
       "  <tbody>\n",
       "    <tr>\n",
       "      <th>ZSM002</th>\n",
       "      <td>0.002132</td>\n",
       "      <td>endogenous DNA</td>\n",
       "      <td>ZSM002</td>\n",
       "    </tr>\n",
       "    <tr>\n",
       "      <th>ZSM005</th>\n",
       "      <td>0.870368</td>\n",
       "      <td>endogenous DNA</td>\n",
       "      <td>ZSM005</td>\n",
       "    </tr>\n",
       "    <tr>\n",
       "      <th>ZSM023</th>\n",
       "      <td>0.001828</td>\n",
       "      <td>endogenous DNA</td>\n",
       "      <td>ZSM023</td>\n",
       "    </tr>\n",
       "    <tr>\n",
       "      <th>ZSM025</th>\n",
       "      <td>0.638976</td>\n",
       "      <td>endogenous DNA</td>\n",
       "      <td>ZSM025</td>\n",
       "    </tr>\n",
       "    <tr>\n",
       "      <th>ZSM027</th>\n",
       "      <td>0.539659</td>\n",
       "      <td>endogenous DNA</td>\n",
       "      <td>ZSM027</td>\n",
       "    </tr>\n",
       "  </tbody>\n",
       "</table>\n",
       "</div>"
      ],
      "text/plain": [
       "        prediction            type  sample\n",
       "ZSM002    0.002132  endogenous DNA  ZSM002\n",
       "ZSM005    0.870368  endogenous DNA  ZSM005\n",
       "ZSM023    0.001828  endogenous DNA  ZSM023\n",
       "ZSM025    0.638976  endogenous DNA  ZSM025\n",
       "ZSM027    0.539659  endogenous DNA  ZSM027"
      ]
     },
     "execution_count": 169,
     "metadata": {},
     "output_type": "execute_result"
    }
   ],
   "source": [
    "fig5d_table.head()"
   ]
  },
  {
   "cell_type": "code",
   "execution_count": 178,
   "metadata": {},
   "outputs": [
    {
     "name": "stderr",
     "output_type": "stream",
     "text": [
      "/projects1/users/borry/15_miniconda3/lib/python3.7/site-packages/plotnine/ggplot.py:719: PlotnineWarning: Saving 6.4 x 4.8 in image.\n",
      "  from_inches(height, units), units), PlotnineWarning)\n",
      "/projects1/users/borry/15_miniconda3/lib/python3.7/site-packages/plotnine/ggplot.py:720: PlotnineWarning: Filename: results/figure7A.png\n",
      "  warn('Filename: {}'.format(filename), PlotnineWarning)\n",
      "/projects1/users/borry/15_miniconda3/lib/python3.7/site-packages/plotnine/ggplot.py:735: MatplotlibDeprecationWarning: \n",
      "The frameon kwarg was deprecated in Matplotlib 3.1 and will be removed in 3.3. Use facecolor instead.\n",
      "  fig.savefig(filename, **fig_kwargs)\n"
     ]
    },
    {
     "data": {
      "image/png": "[encoded data removed]",
      "text/plain": [
       "<Figure size 640x480 with 1 Axes>"
      ]
     },
     "metadata": {},
     "output_type": "display_data"
    },
    {
     "data": {
      "text/plain": [
       "<ggplot: (-9223363299548520199)>"
      ]
     },
     "execution_count": 178,
     "metadata": {},
     "output_type": "execute_result"
    }
   ],
   "source": [
    "p4 = ggplot(data=fig5d_table, mapping=aes(x='sample', y='prediction', fill='type')) \n",
    "p4 += geom_bar(position='dodge', stat='identity', color='black')\n",
    "p4 += geom_hline(yintercept=0.5, linetype='dashed', alpha=0.3)\n",
    "p4 += scale_fill_manual(name='Prediction type', values={'endogenous DNA':'#ff0000', 'Sourcepredict':'#a70000'})\n",
    "p4 += theme_classic()\n",
    "p4 += theme(axis_text_x = element_text(angle = 90))\n",
    "p4 += labs(x=\"\")\n",
    "p4 += theme(legend_position = 'top')\n",
    "p4 += coord_cartesian(ylim=[0,1])\n",
    "p4.save(\"results/figure7A.png\", dpi=300)\n",
    "p4"
   ]
  },
  {
   "cell_type": "code",
   "execution_count": 172,
   "metadata": {},
   "outputs": [],
   "source": [
    "fig5e_table = d_cop['normalized_bp_proportion_aligned_Canis_familiaris'].append(d_cop['metagenomic_proportion_Canis_familiaris']).to_frame(name='prediction').assign(type=['endogenous DNA']*d_cop.shape[0]+['Sourcepredict']*d_cop.shape[0])\n",
    "fig5e_table['sample'] = pd.Categorical(fig5e_table.index, categories=d_cop.index)"
   ]
  },
  {
   "cell_type": "code",
   "execution_count": 179,
   "metadata": {},
   "outputs": [
    {
     "name": "stderr",
     "output_type": "stream",
     "text": [
      "/projects1/users/borry/15_miniconda3/lib/python3.7/site-packages/plotnine/ggplot.py:719: PlotnineWarning: Saving 6.4 x 4.8 in image.\n",
      "  from_inches(height, units), units), PlotnineWarning)\n",
      "/projects1/users/borry/15_miniconda3/lib/python3.7/site-packages/plotnine/ggplot.py:720: PlotnineWarning: Filename: results/figure7B.png\n",
      "  warn('Filename: {}'.format(filename), PlotnineWarning)\n",
      "/projects1/users/borry/15_miniconda3/lib/python3.7/site-packages/plotnine/ggplot.py:735: MatplotlibDeprecationWarning: \n",
      "The frameon kwarg was deprecated in Matplotlib 3.1 and will be removed in 3.3. Use facecolor instead.\n",
      "  fig.savefig(filename, **fig_kwargs)\n"
     ]
    },
    {
     "data": {
      "image/png": "[encoded data removed]",
      "text/plain": [
       "<Figure size 640x480 with 1 Axes>"
      ]
     },
     "metadata": {},
     "output_type": "display_data"
    },
    {
     "data": {
      "text/plain": [
       "<ggplot: (8737306106074)>"
      ]
     },
     "execution_count": 179,
     "metadata": {},
     "output_type": "execute_result"
    }
   ],
   "source": [
    "p5 = ggplot(data=fig5e_table, mapping=aes(x='sample', y='prediction', fill='type')) \n",
    "p5 += geom_bar(position='dodge', stat='identity', color='black')\n",
    "p5 += geom_hline(yintercept=0.5, linetype='dashed', alpha=0.3)\n",
    "p5 += scale_fill_manual(name='Prediction type', values={'endogenous DNA':'#478be7', 'Sourcepredict':'#144496'})\n",
    "p5 += theme_classic()\n",
    "p5 += theme(axis_text_x = element_text(angle = 90))\n",
    "p5 += labs(x=\"\")\n",
    "p5 += theme(legend_position = 'top')\n",
    "p5 += coord_cartesian(ylim=[0,1])\n",
    "p5.save(\"results/figure7B.png\", dpi=300)\n",
    "p5"
   ]
  }
 ],
 "metadata": {
  "kernelspec": {
   "display_name": "Python [conda env:root] *",
   "language": "python",
   "name": "conda-root-py"
  },
  "language_info": {
   "codemirror_mode": {
    "name": "ipython",
    "version": 3
   },
   "file_extension": ".py",
   "mimetype": "text/x-python",
   "name": "python",
   "nbconvert_exporter": "python",
   "pygments_lexer": "ipython3",
   "version": "3.7.3"
  }
 },
 "nbformat": 4,
 "nbformat_minor": 4
}
