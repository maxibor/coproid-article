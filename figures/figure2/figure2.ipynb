{
 "cells": [
  {
   "cell_type": "markdown",
   "metadata": {},
   "source": [
    "# Figure 2: Host DNA percentage"
   ]
  },
  {
   "cell_type": "markdown",
   "metadata": {},
   "source": [
    "## A: Human host DNA percentage"
   ]
  },
  {
   "cell_type": "markdown",
   "metadata": {},
   "source": [
    "Importing libraries"
   ]
  },
  {
   "cell_type": "code",
   "execution_count": 3,
   "metadata": {},
   "outputs": [],
   "source": [
    "import multiprocessing\n",
    "import pandas as pd\n",
    "import subprocess\n",
    "import pysam\n",
    "import os\n",
    "from tqdm import tqdm\n",
    "from functools import partial\n",
    "import matplotlib.pyplot as plt\n",
    "import seaborn as sns\n",
    "from scipy import stats\n",
    "import re\n",
    "import ptitprince as pt\n",
    "from plotnine import *"
   ]
  },
  {
   "cell_type": "markdown",
   "metadata": {},
   "source": [
    "### Summary of BAM files generate by [Anonymap](https://github.com/maxibor/anonymap)\n",
    "\n",
    "|     Lab    |    Contact    | Origin of samples | Number of samples | Reference human genome used | Westernized ?|\n",
    "|:----------:|:-------------:|:-----------------:|:-----------------:|:---------------------------:|:-------------|\n",
    "| Kostic Lab | Marsha Wibowo |         ?         |         49        |            GRCh38           |      yes     |\n",
    "|  Lewis Lab |  Tanvi Honap  |    Burkina Faso   |         69        |             hg19            |       no     | \n",
    "|PRJEB35961 BGISEQ |     -     |    China          |         39        |             GRCh38          |     yes    |"
   ]
  },
  {
   "cell_type": "markdown",
   "metadata": {},
   "source": [
    "Setting up the list of bam files"
   ]
  },
  {
   "cell_type": "code",
   "execution_count": 4,
   "metadata": {},
   "outputs": [],
   "source": [
    "human_non_western_bam_dir = \"../../data/lewis_lab\"\n",
    "human_non_western_bams = [i for i in os.listdir(human_non_western_bam_dir) if i.endswith(\".bam\")]\n",
    "human_western_bam_dir = \"../../data/kostic_lab\" \n",
    "human_western_bams = [i for i in os.listdir(human_western_bam_dir) if i.endswith(\".bam\")]"
   ]
  },
  {
   "cell_type": "markdown",
   "metadata": {},
   "source": [
    "Defining functions to parse alignment files"
   ]
  },
  {
   "cell_type": "code",
   "execution_count": 10,
   "metadata": {},
   "outputs": [],
   "source": [
    "def bam_index(bam, bamdir):\n",
    "    #print(bam)\n",
    "    cmd = f\"samtools index {bamdir}/{bam}\"\n",
    "    try:\n",
    "        #print(cmd)\n",
    "        subprocess.check_output(cmd, shell=True)\n",
    "    except subprocess.CalledProcessError:\n",
    "        #print(f\"Error indexing {bam}\")\n",
    "        pass"
   ]
  },
  {
   "cell_type": "code",
   "execution_count": 11,
   "metadata": {},
   "outputs": [],
   "source": [
    "def perChromosome(chr, bam, min_id, min_len):\n",
    "    mapped = 0\n",
    "    bamfile = pysam.AlignmentFile(bam, \"rb\")\n",
    "    reads = bamfile.fetch(chr, multiple_iterators=True)\n",
    "    for read in reads:\n",
    "        try:\n",
    "            cigar = read.get_cigar_stats()[0]\n",
    "            cigar_d = {'M':cigar[0], 'I': cigar[1], 'D': cigar[2], 'NM': cigar[-1]}\n",
    "            aln_cols = cigar_d['M']+cigar_d['I']+cigar_d['D']\n",
    "            nm = cigar_d['NM']\n",
    "            if cigar_d['M'] == 0:\n",
    "                continue\n",
    "            else:\n",
    "                identity = (aln_cols-nm)/(aln_cols)\n",
    "                if identity >= min_id and aln_cols > min_len :\n",
    "                    mapped +=1\n",
    "        except:\n",
    "            continue\n",
    "    return(mapped)\n",
    "\n",
    "def getNumberMappedReadsMultiprocess(bam, processes, min_id, min_len):\n",
    "    try:\n",
    "        bamfile = pysam.AlignmentFile(bam, \"rb\")\n",
    "    except ValueError as e:\n",
    "        print(e)\n",
    "    chrs = bamfile.references\n",
    "\n",
    "    perChromosomePartial = partial(\n",
    "        perChromosome, bam=bam, min_id = min_id, min_len = min_len)\n",
    "    p = multiprocessing.Pool(processes)\n",
    "    result = p.imap_unordered(perChromosomePartial, chrs)\n",
    "    p.close()\n",
    "    p.join()\n",
    "    mapped = sum(result)\n",
    "    total = bamfile.mapped + bamfile.unmapped\n",
    "    #print(f\"filtered: {mapped}, mapped: {bamfile.mapped}, unmapped: {bamfile.unmapped}, total: {bamfile.mapped + bamfile.unmapped}\")\n",
    "    return({bam.split(\"/\")[-1].split(\".\")[0]:[mapped, total]})   "
   ]
  },
  {
   "cell_type": "markdown",
   "metadata": {},
   "source": [
    "#### Handling westernized bam files "
   ]
  },
  {
   "cell_type": "code",
   "execution_count": null,
   "metadata": {},
   "outputs": [],
   "source": [
    "index_western = partial(bam_index, bamdir = human_western_bam_dir)\n",
    "with multiprocessing.Pool(10) as p:\n",
    "    p.map(index_western, human_western_bams)"
   ]
  },
  {
   "cell_type": "code",
   "execution_count": null,
   "metadata": {},
   "outputs": [],
   "source": [
    "western_res = {}\n",
    "for i in tqdm(human_western_bams):\n",
    "    print(f\"{human_western_bam_dir}/{i}\")\n",
    "    western_res.update(getNumberMappedReadsMultiprocess(bam = f\"{human_western_bam_dir}/{i}\", processes=10, min_id = 0.95, min_len=20))"
   ]
  },
  {
   "cell_type": "code",
   "execution_count": 11,
   "metadata": {},
   "outputs": [],
   "source": [
    "western_human = pd.DataFrame(western_res).T\n",
    "western_human.columns = 'human_count','all_count'\n",
    "western_human[\"percentage_endo\"] = western_human['human_count']/western_human['all_count']*100"
   ]
  },
  {
   "cell_type": "code",
   "execution_count": 12,
   "metadata": {},
   "outputs": [
    {
     "data": {
      "text/html": [
       "<div>\n",
       "<style scoped>\n",
       "    .dataframe tbody tr th:only-of-type {\n",
       "        vertical-align: middle;\n",
       "    }\n",
       "\n",
       "    .dataframe tbody tr th {\n",
       "        vertical-align: top;\n",
       "    }\n",
       "\n",
       "    .dataframe thead th {\n",
       "        text-align: right;\n",
       "    }\n",
       "</style>\n",
       "<table border=\"1\" class=\"dataframe\">\n",
       "  <thead>\n",
       "    <tr style=\"text-align: right;\">\n",
       "      <th></th>\n",
       "      <th>human_count</th>\n",
       "      <th>all_count</th>\n",
       "      <th>percentage_endo</th>\n",
       "    </tr>\n",
       "  </thead>\n",
       "  <tbody>\n",
       "    <tr>\n",
       "      <th>E5</th>\n",
       "      <td>175600</td>\n",
       "      <td>11487470</td>\n",
       "      <td>1.528622</td>\n",
       "    </tr>\n",
       "    <tr>\n",
       "      <th>F4</th>\n",
       "      <td>183259</td>\n",
       "      <td>9696234</td>\n",
       "      <td>1.890002</td>\n",
       "    </tr>\n",
       "    <tr>\n",
       "      <th>E2</th>\n",
       "      <td>214203</td>\n",
       "      <td>8327324</td>\n",
       "      <td>2.572291</td>\n",
       "    </tr>\n",
       "    <tr>\n",
       "      <th>E1</th>\n",
       "      <td>227278</td>\n",
       "      <td>10907632</td>\n",
       "      <td>2.083660</td>\n",
       "    </tr>\n",
       "    <tr>\n",
       "      <th>B10</th>\n",
       "      <td>375059</td>\n",
       "      <td>11695702</td>\n",
       "      <td>3.206811</td>\n",
       "    </tr>\n",
       "  </tbody>\n",
       "</table>\n",
       "</div>"
      ],
      "text/plain": [
       "     human_count  all_count  percentage_endo\n",
       "E5        175600   11487470         1.528622\n",
       "F4        183259    9696234         1.890002\n",
       "E2        214203    8327324         2.572291\n",
       "E1        227278   10907632         2.083660\n",
       "B10       375059   11695702         3.206811"
      ]
     },
     "execution_count": 12,
     "metadata": {},
     "output_type": "execute_result"
    }
   ],
   "source": [
    "western_human.head()"
   ]
  },
  {
   "cell_type": "code",
   "execution_count": 13,
   "metadata": {},
   "outputs": [
    {
     "data": {
      "text/plain": [
       "count    49.000000\n",
       "mean      1.808109\n",
       "std       0.806107\n",
       "min       0.409995\n",
       "25%       1.258292\n",
       "50%       1.667870\n",
       "75%       2.228570\n",
       "max       3.731088\n",
       "Name: percentage_endo, dtype: float64"
      ]
     },
     "execution_count": 13,
     "metadata": {},
     "output_type": "execute_result"
    }
   ],
   "source": [
    "western_human['percentage_endo'].describe()"
   ]
  },
  {
   "cell_type": "code",
   "execution_count": null,
   "metadata": {},
   "outputs": [],
   "source": [
    "western_human.to_csv(\"results/western_human.csv\")"
   ]
  },
  {
   "cell_type": "code",
   "execution_count": 8,
   "metadata": {},
   "outputs": [],
   "source": [
    "western_human = pd.read_csv(\"results/western_human.csv\", index_col=0)"
   ]
  },
  {
   "cell_type": "code",
   "execution_count": 9,
   "metadata": {},
   "outputs": [
    {
     "data": {
      "text/html": [
       "<div>\n",
       "<style scoped>\n",
       "    .dataframe tbody tr th:only-of-type {\n",
       "        vertical-align: middle;\n",
       "    }\n",
       "\n",
       "    .dataframe tbody tr th {\n",
       "        vertical-align: top;\n",
       "    }\n",
       "\n",
       "    .dataframe thead th {\n",
       "        text-align: right;\n",
       "    }\n",
       "</style>\n",
       "<table border=\"1\" class=\"dataframe\">\n",
       "  <thead>\n",
       "    <tr style=\"text-align: right;\">\n",
       "      <th></th>\n",
       "      <th>human_count</th>\n",
       "      <th>all_count</th>\n",
       "      <th>percentage_endo</th>\n",
       "    </tr>\n",
       "  </thead>\n",
       "  <tbody>\n",
       "    <tr>\n",
       "      <th>E5</th>\n",
       "      <td>175600</td>\n",
       "      <td>11487470</td>\n",
       "      <td>1.528622</td>\n",
       "    </tr>\n",
       "    <tr>\n",
       "      <th>F4</th>\n",
       "      <td>183259</td>\n",
       "      <td>9696234</td>\n",
       "      <td>1.890002</td>\n",
       "    </tr>\n",
       "    <tr>\n",
       "      <th>E2</th>\n",
       "      <td>214203</td>\n",
       "      <td>8327324</td>\n",
       "      <td>2.572291</td>\n",
       "    </tr>\n",
       "    <tr>\n",
       "      <th>E1</th>\n",
       "      <td>227278</td>\n",
       "      <td>10907632</td>\n",
       "      <td>2.083660</td>\n",
       "    </tr>\n",
       "    <tr>\n",
       "      <th>B10</th>\n",
       "      <td>375059</td>\n",
       "      <td>11695702</td>\n",
       "      <td>3.206811</td>\n",
       "    </tr>\n",
       "  </tbody>\n",
       "</table>\n",
       "</div>"
      ],
      "text/plain": [
       "     human_count  all_count  percentage_endo\n",
       "E5        175600   11487470         1.528622\n",
       "F4        183259    9696234         1.890002\n",
       "E2        214203    8327324         2.572291\n",
       "E1        227278   10907632         2.083660\n",
       "B10       375059   11695702         3.206811"
      ]
     },
     "execution_count": 9,
     "metadata": {},
     "output_type": "execute_result"
    }
   ],
   "source": [
    "western_human.head()"
   ]
  },
  {
   "cell_type": "code",
   "execution_count": 10,
   "metadata": {},
   "outputs": [],
   "source": [
    "western_human['organism'] = western_human.shape[0]*['Westernized human']"
   ]
  },
  {
   "cell_type": "markdown",
   "metadata": {},
   "source": [
    "## Chinese PRJEB35961 BGISEQ samples"
   ]
  },
  {
   "cell_type": "code",
   "execution_count": 141,
   "metadata": {},
   "outputs": [],
   "source": [
    "cn_dir = \"../../data/PRJEB35961_bgiseq\"\n",
    "cn_bams = [i for i in os.listdir(cn_dir) if i.endswith(\"aligned.bam\")]"
   ]
  },
  {
   "cell_type": "code",
   "execution_count": null,
   "metadata": {},
   "outputs": [],
   "source": [
    "index_chinese = partial(bam_index, bamdir = cn_dir)\n",
    "with multiprocessing.Pool(10) as p:\n",
    "    p.map(index_chinese, cn_bam)"
   ]
  },
  {
   "cell_type": "code",
   "execution_count": 143,
   "metadata": {},
   "outputs": [
    {
     "name": "stderr",
     "output_type": "stream",
     "text": [
      "100%|██████████| 40/40 [00:58<00:00,  1.52s/it]\n"
     ]
    }
   ],
   "source": [
    "cn_mapped = {}\n",
    "for i in tqdm(cn_bams):\n",
    "    try:\n",
    "        cn_mapped.update(getNumberMappedReadsMultiprocess(f\"{cn_dir}/{i}\", processes=10, min_id=0.95, min_len=20))\n",
    "    except:\n",
    "        continue"
   ]
  },
  {
   "cell_type": "code",
   "execution_count": 144,
   "metadata": {},
   "outputs": [],
   "source": [
    "cn_human = pd.DataFrame(cn_mapped).T\n",
    "cn_human.columns = ['human_count','all_count']\n",
    "cn_human[\"percentage_endo\"] = cn_human['human_count']/cn_human['all_count']*100"
   ]
  },
  {
   "cell_type": "code",
   "execution_count": 145,
   "metadata": {},
   "outputs": [],
   "source": [
    "cn_human.to_csv(\"results/chinese_PRJEB35961.csv\")"
   ]
  },
  {
   "cell_type": "code",
   "execution_count": 5,
   "metadata": {},
   "outputs": [],
   "source": [
    "cn_human = pd.read_csv(\"results/chinese_PRJEB35961.csv\", index_col=0)"
   ]
  },
  {
   "cell_type": "code",
   "execution_count": 6,
   "metadata": {},
   "outputs": [],
   "source": [
    "cn_human['organism'] =  cn_human.shape[0] * ['Westernized human']"
   ]
  },
  {
   "cell_type": "code",
   "execution_count": 7,
   "metadata": {},
   "outputs": [
    {
     "data": {
      "text/plain": [
       "count    39.000000\n",
       "mean      0.020529\n",
       "std       0.037909\n",
       "min       0.000037\n",
       "25%       0.000274\n",
       "50%       0.001878\n",
       "75%       0.023942\n",
       "max       0.178762\n",
       "Name: percentage_endo, dtype: float64"
      ]
     },
     "execution_count": 7,
     "metadata": {},
     "output_type": "execute_result"
    }
   ],
   "source": [
    "cn_human['percentage_endo'].describe()"
   ]
  },
  {
   "cell_type": "markdown",
   "metadata": {},
   "source": [
    "#### Handling non westernized bam files "
   ]
  },
  {
   "cell_type": "markdown",
   "metadata": {},
   "source": [
    "Because these files were anonymized for the mapping position as well, we can not index them and have to parse them manually from sam files"
   ]
  },
  {
   "cell_type": "code",
   "execution_count": null,
   "metadata": {},
   "outputs": [],
   "source": [
    "def bam2sam(bamfile, bamdir):\n",
    "    print(bamfile)\n",
    "    basename = bamfile.split(\".\")[0]\n",
    "    cmd = f\"samtools view {bamdir}/{bamfile} > {bamdir}/{basename}.sam\"\n",
    "    print(cmd)\n",
    "    subprocess.check_output(cmd, shell = True)"
   ]
  },
  {
   "cell_type": "code",
   "execution_count": null,
   "metadata": {},
   "outputs": [],
   "source": [
    "non_western_bam2sam = partial(bam2sam, bamdir = human_non_western_bam_dir)\n",
    "with multiprocessing.Pool(10) as p:\n",
    "    p.map(western_bam2sam, human_non_western_bams)"
   ]
  },
  {
   "cell_type": "code",
   "execution_count": 17,
   "metadata": {},
   "outputs": [],
   "source": [
    "regex = re.compile(\"(\\d*)[MID]\")\n",
    "def samline(sam, regex=regex, min_id = 0.95, min_len=20):\n",
    "    cnt = 0\n",
    "    all_cnt = 0\n",
    "    print(sam)\n",
    "    with open(sam, 'r') as f:\n",
    "        for l in f:\n",
    "            lsplit = l.split()\n",
    "            cigar = lsplit[5]\n",
    "            all_cnt +=1\n",
    "            if len(cigar) > 1:\n",
    "                nm = int(lsplit[16].split(':')[-1])\n",
    "                al_len = sum([int(i) for i in re.findall(regex, cigar)])\n",
    "                ident = (al_len - nm)/al_len\n",
    "                if ident >= min_id and al_len>min_len:\n",
    "                    cnt+=1\n",
    "            else:\n",
    "                continue\n",
    "    return({sam:[cnt,all_cnt]})"
   ]
  },
  {
   "cell_type": "code",
   "execution_count": 18,
   "metadata": {},
   "outputs": [],
   "source": [
    "human_non_western_sams = [i for i in os.listdir(human_non_western_bam_dir) if i.endswith(\".sam\")]"
   ]
  },
  {
   "cell_type": "code",
   "execution_count": 20,
   "metadata": {},
   "outputs": [
    {
     "name": "stdout",
     "output_type": "stream",
     "text": [
      "../../data/lewis_lab/bftm030236.sam\n",
      "../../data/lewis_lab/bftm0401ecol39.sam\n",
      "../../data/lewis_lab/bftm140428.sam\n",
      "../../data/lewis_lab/bftm140127.sam\n",
      "../../data/lewis_lab/bftm070332.sam\n",
      "../../data/lewis_lab/bftm130122.sam\n",
      "../../data/lewis_lab/bftm2301ext33.sam\n",
      "../../data/lewis_lab/bftm220210.sam\n",
      "../../data/lewis_lab/bftm180134.sam\n",
      "../../data/lewis_lab/bftm1003ext22.sam\n",
      "../../data/lewis_lab/bftm280135.sam\n",
      "../../data/lewis_lab/bftm140341.sam\n",
      "../../data/lewis_lab/bftm2401ext31.sam\n",
      "../../data/lewis_lab/bftm1502ecol15.sam\n",
      "../../data/lewis_lab/bftm100113.sam\n",
      "../../data/lewis_lab/bftm230440.sam\n",
      "../../data/lewis_lab/bftm190220.sam\n",
      "../../data/lewis_lab/bftm2103ext32.sam\n",
      "../../data/lewis_lab/bftm0202ext20.sam\n",
      "../../data/lewis_lab/bftm0803ext30.sam\n",
      "../../data/lewis_lab/bftm30016.sam\n",
      "../../data/lewis_lab/bftm1002ecol4.sam\n",
      "../../data/lewis_lab/bftm110237.sam\n",
      "../../data/lewis_lab/bftm2204ext27.sam\n",
      "../../data/lewis_lab/bftm1104ecol11.sam\n",
      "../../data/lewis_lab/bftm270223.sam\n",
      "../../data/lewis_lab/bftm040212.sam\n",
      "../../data/lewis_lab/bftm2101ext26.sam\n",
      "../../data/lewis_lab/bftm2601ext24.sam\n",
      "../../data/lewis_lab/bftm0701ecol12.sam\n",
      "../../data/lewis_lab/bftm09037.sam\n",
      "../../data/lewis_lab/bftm3003ext25.sam\n",
      "../../data/lewis_lab/bftm0604ecol14.sam\n",
      "../../data/lewis_lab/bftm2801ext35.sam\n",
      "../../data/lewis_lab/bftm150339.sam\n",
      "../../data/lewis_lab/bftm060125.sam\n",
      "../../data/lewis_lab/bftm0601ext18.sam\n",
      "../../data/lewis_lab/bftm290124.sam\n",
      "../../data/lewis_lab/bftm2301ecol5.sam\n",
      "../../data/lewis_lab/bftm1303ext17.sam\n",
      "../../data/lewis_lab/bftm1601ecol9.sam\n",
      "../../data/lewis_lab/bftm050238.sam\n",
      "../../data/lewis_lab/bftm030111.sam\n",
      "../../data/lewis_lab/bftm1104ext21.sam\n",
      "../../data/lewis_lab/bftm1704ext28.sam\n",
      "../../data/lewis_lab/bftm26043.sam\n",
      "../../data/lewis_lab/bftm3004ext36.sam\n",
      "../../data/lewis_lab/bftm0101ecol.sam\n",
      "../../data/lewis_lab/bftm110126.sam\n",
      "../../data/lewis_lab/bftm1603ecol2.sam\n",
      "../../data/lewis_lab/bftm150117.sam\n",
      "../../data/lewis_lab/bftm2304ext34.sam\n",
      "../../data/lewis_lab/bftm120433.sam\n",
      "../../data/lewis_lab/bftm220116.sam\n",
      "../../data/lewis_lab/bftm1701ecol6.sam\n",
      "../../data/lewis_lab/bftm17021.sam\n",
      "../../data/lewis_lab/bftm200129.sam\n",
      "../../data/lewis_lab/bftm2704ext23.sam\n",
      "../../data/lewis_lab/bftm1402ext19.sam\n",
      "../../data/lewis_lab/bftm22034.sam\n",
      "../../data/lewis_lab/bftm2504ecol13.sam\n",
      "../../data/lewis_lab/bftm080215.sam\n",
      "../../data/lewis_lab/bftm200318.sam\n",
      "../../data/lewis_lab/bftm0902ecol40.sam\n",
      "../../data/lewis_lab/bftm2002ext29.sam\n",
      "../../data/lewis_lab/bftm080321.sam\n",
      "../../data/lewis_lab/bftm01028.sam\n",
      "../../data/lewis_lab/bftm010319.sam\n",
      "../../data/lewis_lab/bftm2501ecol7.sam\n"
     ]
    },
    {
     "name": "stderr",
     "output_type": "stream",
     "text": [
      "\n",
      "\n",
      "  0%|          | 0/69 [00:00<?, ?it/s]\u001b[A\u001b[A\n",
      "\n",
      "100%|██████████| 69/69 [00:00<00:00, 42868.76it/s]\u001b[A\u001b[A"
     ]
    }
   ],
   "source": [
    "with multiprocessing.Pool(10) as p:\n",
    "    res = list(tqdm(p.map(samline, [f\"{human_non_western_bam_dir}/{s}\" for s in human_non_western_sams]), total=len(human_non_western_sams)))"
   ]
  },
  {
   "cell_type": "code",
   "execution_count": 21,
   "metadata": {},
   "outputs": [],
   "source": [
    "result_non_western = {}\n",
    "for d in res:\n",
    "    result_non_western.update(d)"
   ]
  },
  {
   "cell_type": "code",
   "execution_count": 22,
   "metadata": {},
   "outputs": [],
   "source": [
    "non_western_human = pd.DataFrame(result_non_western).T\n",
    "non_western_human = non_western_human.set_index(pd.Series(non_western_human.index.str.split(\"/lewis_lab/\", expand=True).to_frame().iloc[:,1], name=\"sample\"))\n",
    "non_western_human.columns = ['human_count','all_count']\n",
    "non_western_human['percentage_endo'] = non_western_human['human_count']/non_western_human['all_count']*100"
   ]
  },
  {
   "cell_type": "code",
   "execution_count": 23,
   "metadata": {},
   "outputs": [
    {
     "data": {
      "text/html": [
       "<div>\n",
       "<style scoped>\n",
       "    .dataframe tbody tr th:only-of-type {\n",
       "        vertical-align: middle;\n",
       "    }\n",
       "\n",
       "    .dataframe tbody tr th {\n",
       "        vertical-align: top;\n",
       "    }\n",
       "\n",
       "    .dataframe thead th {\n",
       "        text-align: right;\n",
       "    }\n",
       "</style>\n",
       "<table border=\"1\" class=\"dataframe\">\n",
       "  <thead>\n",
       "    <tr style=\"text-align: right;\">\n",
       "      <th></th>\n",
       "      <th>human_count</th>\n",
       "      <th>all_count</th>\n",
       "      <th>percentage_endo</th>\n",
       "    </tr>\n",
       "    <tr>\n",
       "      <th>sample</th>\n",
       "      <th></th>\n",
       "      <th></th>\n",
       "      <th></th>\n",
       "    </tr>\n",
       "  </thead>\n",
       "  <tbody>\n",
       "    <tr>\n",
       "      <th>bftm030236.sam</th>\n",
       "      <td>79010</td>\n",
       "      <td>27571762</td>\n",
       "      <td>0.286561</td>\n",
       "    </tr>\n",
       "    <tr>\n",
       "      <th>bftm1502ecol15.sam</th>\n",
       "      <td>39878</td>\n",
       "      <td>51388140</td>\n",
       "      <td>0.077602</td>\n",
       "    </tr>\n",
       "    <tr>\n",
       "      <th>bftm130122.sam</th>\n",
       "      <td>13086</td>\n",
       "      <td>41265242</td>\n",
       "      <td>0.031712</td>\n",
       "    </tr>\n",
       "    <tr>\n",
       "      <th>bftm100113.sam</th>\n",
       "      <td>1330862</td>\n",
       "      <td>100223950</td>\n",
       "      <td>1.327888</td>\n",
       "    </tr>\n",
       "    <tr>\n",
       "      <th>bftm0401ecol39.sam</th>\n",
       "      <td>35016</td>\n",
       "      <td>42149188</td>\n",
       "      <td>0.083076</td>\n",
       "    </tr>\n",
       "  </tbody>\n",
       "</table>\n",
       "</div>"
      ],
      "text/plain": [
       "                    human_count  all_count  percentage_endo\n",
       "sample                                                     \n",
       "bftm030236.sam            79010   27571762         0.286561\n",
       "bftm1502ecol15.sam        39878   51388140         0.077602\n",
       "bftm130122.sam            13086   41265242         0.031712\n",
       "bftm100113.sam          1330862  100223950         1.327888\n",
       "bftm0401ecol39.sam        35016   42149188         0.083076"
      ]
     },
     "execution_count": 23,
     "metadata": {},
     "output_type": "execute_result"
    }
   ],
   "source": [
    "non_western_human.head()"
   ]
  },
  {
   "cell_type": "code",
   "execution_count": 24,
   "metadata": {},
   "outputs": [
    {
     "data": {
      "text/plain": [
       "count    69.000000\n",
       "mean      0.869732\n",
       "std       2.394456\n",
       "min       0.012917\n",
       "25%       0.039799\n",
       "50%       0.090369\n",
       "75%       0.300655\n",
       "max      13.101175\n",
       "Name: percentage_endo, dtype: float64"
      ]
     },
     "execution_count": 24,
     "metadata": {},
     "output_type": "execute_result"
    }
   ],
   "source": [
    "non_western_human['percentage_endo'].describe()"
   ]
  },
  {
   "cell_type": "code",
   "execution_count": 26,
   "metadata": {},
   "outputs": [],
   "source": [
    "non_western_human.to_csv(\"results/non_western_human.csv\")"
   ]
  },
  {
   "cell_type": "code",
   "execution_count": 11,
   "metadata": {},
   "outputs": [],
   "source": [
    "non_western_human = pd.read_csv(\"results/non_western_human.csv\", index_col=0)"
   ]
  },
  {
   "cell_type": "code",
   "execution_count": 12,
   "metadata": {},
   "outputs": [],
   "source": [
    "non_western_human['organism'] = non_western_human.shape[0]*['Non westernized Human']"
   ]
  },
  {
   "cell_type": "code",
   "execution_count": 13,
   "metadata": {},
   "outputs": [],
   "source": [
    "non_western_human = non_western_human[non_western_human['percentage_endo'] < 5] "
   ]
  },
  {
   "cell_type": "code",
   "execution_count": 14,
   "metadata": {},
   "outputs": [
    {
     "data": {
      "text/plain": [
       "count    66.000000\n",
       "mean      0.410199\n",
       "std       0.977017\n",
       "min       0.012917\n",
       "25%       0.039307\n",
       "50%       0.084137\n",
       "75%       0.289112\n",
       "max       4.837813\n",
       "Name: percentage_endo, dtype: float64"
      ]
     },
     "execution_count": 14,
     "metadata": {},
     "output_type": "execute_result"
    }
   ],
   "source": [
    "non_western_human['percentage_endo'].describe()"
   ]
  },
  {
   "cell_type": "markdown",
   "metadata": {},
   "source": [
    "## B: Dog host DNA percentage"
   ]
  },
  {
   "cell_type": "code",
   "execution_count": 13,
   "metadata": {},
   "outputs": [],
   "source": [
    "dog_dir = \"../../data/dog_PRJEB20308\""
   ]
  },
  {
   "cell_type": "code",
   "execution_count": 14,
   "metadata": {},
   "outputs": [],
   "source": [
    "dog_bams= [i for i in os.listdir(dog_dir) if i.endswith(\".unfiltered.aligned.bam\")]"
   ]
  },
  {
   "cell_type": "code",
   "execution_count": 15,
   "metadata": {},
   "outputs": [
    {
     "name": "stderr",
     "output_type": "stream",
     "text": [
      "100%|██████████| 150/150 [00:50<00:00,  2.46it/s]\n"
     ]
    }
   ],
   "source": [
    "index_dog = partial(bam_index, bamdir = dog_dir)\n",
    "with multiprocessing.Pool(10) as p:\n",
    "    list(tqdm(p.imap(index_dog, dog_bams), total = len(dog_bams)))"
   ]
  },
  {
   "cell_type": "code",
   "execution_count": 16,
   "metadata": {},
   "outputs": [
    {
     "name": "stderr",
     "output_type": "stream",
     "text": [
      "100%|██████████| 150/150 [00:35<00:00,  5.42it/s]\n"
     ]
    }
   ],
   "source": [
    "dog_mapped = {}\n",
    "for i in tqdm(dog_bams):\n",
    "    try:\n",
    "        dog_mapped.update(getNumberMappedReadsMultiprocess(f\"{dog_dir}/{i}\", processes=10, min_id=0.95, min_len=20))\n",
    "    except:\n",
    "        continue"
   ]
  },
  {
   "cell_type": "code",
   "execution_count": 17,
   "metadata": {},
   "outputs": [],
   "source": [
    "dog_count = pd.DataFrame(dog_mapped).T"
   ]
  },
  {
   "cell_type": "code",
   "execution_count": 18,
   "metadata": {},
   "outputs": [],
   "source": [
    "dog_count.columns = ['human_count','all_count']"
   ]
  },
  {
   "cell_type": "code",
   "execution_count": 19,
   "metadata": {},
   "outputs": [],
   "source": [
    "dog_count['percentage_endo'] = dog_count['human_count']/dog_count['all_count']*100"
   ]
  },
  {
   "cell_type": "code",
   "execution_count": 20,
   "metadata": {},
   "outputs": [],
   "source": [
    "dog_count['organism'] = ['Dog']*dog_count.shape[0]"
   ]
  },
  {
   "cell_type": "code",
   "execution_count": null,
   "metadata": {},
   "outputs": [],
   "source": [
    "dog_count.to_csv(\"results/dogs.csv\")"
   ]
  },
  {
   "cell_type": "code",
   "execution_count": 16,
   "metadata": {},
   "outputs": [],
   "source": [
    "dog_count = pd.read_csv('results/dogs.csv')"
   ]
  },
  {
   "cell_type": "markdown",
   "metadata": {},
   "source": [
    "# C: Combining results"
   ]
  },
  {
   "cell_type": "code",
   "execution_count": 17,
   "metadata": {},
   "outputs": [],
   "source": [
    "endo = western_human.append(non_western_human).append(dog_count)"
   ]
  },
  {
   "cell_type": "code",
   "execution_count": 18,
   "metadata": {},
   "outputs": [
    {
     "data": {
      "text/plain": [
       "Dog                      150\n",
       "Non westernized Human     66\n",
       "Westernized human         49\n",
       "Name: organism, dtype: int64"
      ]
     },
     "execution_count": 18,
     "metadata": {},
     "output_type": "execute_result"
    }
   ],
   "source": [
    "endo['organism'].value_counts()"
   ]
  },
  {
   "cell_type": "markdown",
   "metadata": {},
   "source": [
    "## Color palette:\n",
    "- Westernized human: '#b2182b'\n",
    "- Non Westernized human: '#ef8a62'\n",
    "- '#fddbc7'\n",
    "- '#d1e5f0'\n",
    "- '#67a9cf'\n",
    "- Dog: '#2166ac'"
   ]
  },
  {
   "cell_type": "code",
   "execution_count": 45,
   "metadata": {},
   "outputs": [
    {
     "name": "stderr",
     "output_type": "stream",
     "text": [
      "/projects1/users/borry/15_miniconda3/lib/python3.6/site-packages/plotnine/ggplot.py:706: UserWarning: Saving 6.4 x 4.8 in image.\n",
      "  from_inches(height, units), units))\n",
      "/projects1/users/borry/15_miniconda3/lib/python3.6/site-packages/plotnine/ggplot.py:707: UserWarning: Filename: results/figure2.png\n",
      "  warn('Filename: {}'.format(filename))\n"
     ]
    },
    {
     "data": {
      "image/png": "[encoded data removed]",
      "text/plain": [
       "<Figure size 640x480 with 1 Axes>"
      ]
     },
     "metadata": {},
     "output_type": "display_data"
    }
   ],
   "source": [
    "p = ggplot(endo, aes(x=\"organism\", y=\"percentage_endo\")) + geom_violin(aes(fill=\"organism\"))\n",
    "p = p + geom_boxplot(alpha=0.1, width=0.2) + geom_dotplot(aes(fill='organism'),binaxis='y', stackdir='center', binwidth=0.05, alpha=0.2, stackratio = 0.4)\n",
    "p = p + labs(title = 'Endogenous DNA per source', subtitle = \"A subtitle\",x = '', y='endogenous DNA (%)') \n",
    "p = p + theme_classic() + theme(legend_position = (0.7,0.7))\n",
    "p = p + scale_fill_manual(name = \"Source\", values = {\"Dog\":\"#2166ac\",\"Non westernized Human\":\"#ef8a62\",\"Westernized human\":\"#b2182b\"})\n",
    "p.draw()\n",
    "p.save('results/figure2.png', dpi=300)"
   ]
  },
  {
   "cell_type": "markdown",
   "metadata": {},
   "source": [
    "### Testing for group median inequality\n",
    "\"The Kruskal-Wallis H-test tests the null hypothesis that the population median of all of the groups are equal.\""
   ]
  },
  {
   "cell_type": "code",
   "execution_count": 31,
   "metadata": {},
   "outputs": [],
   "source": [
    "dog_endo = endo.loc[endo.index[endo['organism'] == 'Dog'],'percentage_endo']\n",
    "w_human_endo = endo.loc[endo.index[endo['organism'] == 'Westernized human'],'percentage_endo']\n",
    "nw_human_endo = endo.loc[endo.index[endo['organism'] == 'Non westernized Human'],'percentage_endo']                      "
   ]
  },
  {
   "cell_type": "code",
   "execution_count": 32,
   "metadata": {},
   "outputs": [
    {
     "data": {
      "text/plain": [
       "1.037823801043944e-26"
      ]
     },
     "execution_count": 32,
     "metadata": {},
     "output_type": "execute_result"
    }
   ],
   "source": [
    "stats.kruskal(dog_endo, w_human_endo, nw_human_endo).pvalue"
   ]
  },
  {
   "cell_type": "markdown",
   "metadata": {},
   "source": [
    "The *p value* is < 0.05, there is a difference between the medians of the three sources"
   ]
  },
  {
   "cell_type": "markdown",
   "metadata": {},
   "source": [
    "\"The one-way ANOVA tests the null hypothesis that two or more groups have the same population mean.\""
   ]
  },
  {
   "cell_type": "code",
   "execution_count": 33,
   "metadata": {},
   "outputs": [
    {
     "data": {
      "text/plain": [
       "3.4193515302052062e-43"
      ]
     },
     "execution_count": 33,
     "metadata": {},
     "output_type": "execute_result"
    }
   ],
   "source": [
    "stats.f_oneway(dog_endo, w_human_endo, nw_human_endo).pvalue"
   ]
  },
  {
   "cell_type": "markdown",
   "metadata": {},
   "source": [
    "The p value is < 0.05, there is a difference between the means of the three sources"
   ]
  },
  {
   "cell_type": "markdown",
   "metadata": {},
   "source": [
    "#### Dog vs Non westernized human"
   ]
  },
  {
   "cell_type": "markdown",
   "metadata": {},
   "source": [
    "\"This is a two-sided test for the null hypothesis that 2 independent samples have identical average (expected) values.\""
   ]
  },
  {
   "cell_type": "code",
   "execution_count": 34,
   "metadata": {},
   "outputs": [
    {
     "data": {
      "text/plain": [
       "Ttest_indResult(statistic=-2.511641976848075, pvalue=0.014451907070305855)"
      ]
     },
     "execution_count": 34,
     "metadata": {},
     "output_type": "execute_result"
    }
   ],
   "source": [
    "stats.ttest_ind(dog_endo, nw_human_endo, equal_var=False)"
   ]
  },
  {
   "cell_type": "markdown",
   "metadata": {},
   "source": [
    "Non identical in means (H0 rejected)"
   ]
  },
  {
   "cell_type": "markdown",
   "metadata": {},
   "source": [
    "#### Dog vs Human"
   ]
  },
  {
   "cell_type": "code",
   "execution_count": 35,
   "metadata": {},
   "outputs": [],
   "source": [
    "human_endo= endo.loc[endo.index[endo['organism'].isin(['Westernized human','Non westernized Human'])] ,'percentage_endo']"
   ]
  },
  {
   "cell_type": "code",
   "execution_count": 36,
   "metadata": {},
   "outputs": [
    {
     "data": {
      "text/plain": [
       "count    115.000000\n",
       "mean       1.005830\n",
       "std        1.140143\n",
       "min        0.012917\n",
       "25%        0.069201\n",
       "50%        0.457735\n",
       "75%        1.660680\n",
       "max        4.837813\n",
       "Name: percentage_endo, dtype: float64"
      ]
     },
     "execution_count": 36,
     "metadata": {},
     "output_type": "execute_result"
    }
   ],
   "source": [
    "human_endo.describe()"
   ]
  },
  {
   "cell_type": "code",
   "execution_count": 37,
   "metadata": {},
   "outputs": [
    {
     "data": {
      "text/plain": [
       "count    150.000000\n",
       "mean       0.106391\n",
       "std        0.158886\n",
       "min        0.005393\n",
       "25%        0.018799\n",
       "50%        0.041548\n",
       "75%        0.100043\n",
       "max        0.865627\n",
       "Name: percentage_endo, dtype: float64"
      ]
     },
     "execution_count": 37,
     "metadata": {},
     "output_type": "execute_result"
    }
   ],
   "source": [
    "dog_endo.describe()"
   ]
  },
  {
   "cell_type": "code",
   "execution_count": 38,
   "metadata": {},
   "outputs": [
    {
     "data": {
      "text/plain": [
       "Ttest_indResult(statistic=-8.397549567642862, pvalue=1.2039614141507107e-13)"
      ]
     },
     "execution_count": 38,
     "metadata": {},
     "output_type": "execute_result"
    }
   ],
   "source": [
    "stats.ttest_ind(dog_endo, human_endo, equal_var=False)"
   ]
  },
  {
   "cell_type": "markdown",
   "metadata": {},
   "source": [
    "Non identical in means (H0 rejected)"
   ]
  }
 ],
 "metadata": {
  "kernelspec": {
   "display_name": "Python 3",
   "language": "python",
   "name": "python3"
  },
  "language_info": {
   "codemirror_mode": {
    "name": "ipython",
    "version": 3
   },
   "file_extension": ".py",
   "mimetype": "text/x-python",
   "name": "python",
   "nbconvert_exporter": "python",
   "pygments_lexer": "ipython3",
   "version": "3.6.8"
  }
 },
 "nbformat": 4,
 "nbformat_minor": 2
}
