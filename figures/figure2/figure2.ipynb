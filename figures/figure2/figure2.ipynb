{
 "cells": [
  {
   "cell_type": "markdown",
   "metadata": {},
   "source": [
    "# Figure 2: Host DNA percentage"
   ]
  },
  {
   "cell_type": "markdown",
   "metadata": {},
   "source": [
    "## A: Human host DNA percentage"
   ]
  },
  {
   "cell_type": "markdown",
   "metadata": {},
   "source": [
    "Importing libraries"
   ]
  },
  {
   "cell_type": "code",
   "execution_count": 1,
   "metadata": {},
   "outputs": [],
   "source": [
    "import multiprocessing\n",
    "import pandas as pd\n",
    "import subprocess\n",
    "import pysam\n",
    "import os\n",
    "from tqdm import tqdm\n",
    "from functools import partial\n",
    "import matplotlib.pyplot as plt\n",
    "import seaborn as sns\n",
    "from scipy import stats\n",
    "import re\n",
    "import ptitprince as pt\n",
    "from plotnine import *"
   ]
  },
  {
   "cell_type": "markdown",
   "metadata": {},
   "source": [
    "### Summary of BAM files generate by [Anonymap](https://github.com/maxibor/anonymap)\n",
    "\n",
    "|     Lab    |    Contact    | Origin of samples | Number of samples | Reference human genome used | Westernized ?|\n",
    "|:----------:|:-------------:|:-----------------:|:-----------------:|:---------------------------:|:-------------|\n",
    "| Kostic Lab | Marsha Wibowo |         ?         |         49        |            GRCh38           |      yes     |\n",
    "|  Lewis Lab |  Tanvi Honap  |    Burkina Faso   |         69        |             hg19            |       no     | \n",
    "|PRJEB35961 BGISEQ |     -     |    China          |         39        |             GRCh38          |     yes    |"
   ]
  },
  {
   "cell_type": "markdown",
   "metadata": {},
   "source": [
    "Setting up the list of bam files"
   ]
  },
  {
   "cell_type": "code",
   "execution_count": 9,
   "metadata": {},
   "outputs": [],
   "source": [
    "human_non_western_bam_dir = \"../../data/lewis_lab\"\n",
    "human_non_western_bams = [i for i in os.listdir(human_non_western_bam_dir) if i.endswith(\".bam\")]\n",
    "human_western_bam_dir = \"../../data/kostic_lab\" \n",
    "human_western_bams = [i for i in os.listdir(human_western_bam_dir) if i.endswith(\".bam\")]"
   ]
  },
  {
   "cell_type": "markdown",
   "metadata": {},
   "source": [
    "Defining filtering values:"
   ]
  },
  {
   "cell_type": "code",
   "execution_count": 10,
   "metadata": {},
   "outputs": [],
   "source": [
    "min_id = 0.95\n",
    "min_len = 20"
   ]
  },
  {
   "cell_type": "markdown",
   "metadata": {},
   "source": [
    "Defining functions to parse alignment files"
   ]
  },
  {
   "cell_type": "code",
   "execution_count": 10,
   "metadata": {},
   "outputs": [],
   "source": [
    "def bam_index(bam, bamdir):\n",
    "    #print(bam)\n",
    "    cmd = f\"samtools index {bamdir}/{bam}\"\n",
    "    try:\n",
    "        #print(cmd)\n",
    "        subprocess.check_output(cmd, shell=True)\n",
    "    except subprocess.CalledProcessError:\n",
    "        #print(f\"Error indexing {bam}\")\n",
    "        pass"
   ]
  },
  {
   "cell_type": "code",
   "execution_count": 11,
   "metadata": {},
   "outputs": [],
   "source": [
    "def perChromosome(chr, bam, min_id, min_len):\n",
    "    mapped = 0\n",
    "    bamfile = pysam.AlignmentFile(bam, \"rb\")\n",
    "    reads = bamfile.fetch(chr, multiple_iterators=True)\n",
    "    for read in reads:\n",
    "        try:\n",
    "            cigar = read.get_cigar_stats()[0]\n",
    "            cigar_d = {'M':cigar[0], 'I': cigar[1], 'D': cigar[2], 'NM': cigar[-1]}\n",
    "            aln_cols = cigar_d['M']+cigar_d['I']+cigar_d['D']\n",
    "            nm = cigar_d['NM']\n",
    "            if cigar_d['M'] == 0:\n",
    "                continue\n",
    "            else:\n",
    "                identity = (aln_cols-nm)/(aln_cols)\n",
    "                if identity >= min_id and aln_cols >= min_len :\n",
    "                    mapped +=1\n",
    "        except:\n",
    "            continue\n",
    "    return(mapped)\n",
    "\n",
    "def getNumberMappedReadsMultiprocess(bam, processes, min_id, min_len):\n",
    "    try:\n",
    "        bamfile = pysam.AlignmentFile(bam, \"rb\")\n",
    "    except ValueError as e:\n",
    "        print(e)\n",
    "    chrs = bamfile.references\n",
    "\n",
    "    perChromosomePartial = partial(\n",
    "        perChromosome, bam=bam, min_id = min_id, min_len = min_len)\n",
    "    p = multiprocessing.Pool(processes)\n",
    "    result = p.imap_unordered(perChromosomePartial, chrs)\n",
    "    p.close()\n",
    "    p.join()\n",
    "    mapped = sum(result)\n",
    "    total = bamfile.mapped + bamfile.unmapped\n",
    "    return({bam.split(\"/\")[-1].split(\".\")[0]:[mapped, total]})   "
   ]
  },
  {
   "cell_type": "markdown",
   "metadata": {},
   "source": [
    "#### Handling westernized bam files "
   ]
  },
  {
   "cell_type": "code",
   "execution_count": null,
   "metadata": {},
   "outputs": [],
   "source": [
    "index_western = partial(bam_index, bamdir = human_western_bam_dir)\n",
    "with multiprocessing.Pool(10) as p:\n",
    "    p.map(index_western, human_western_bams)"
   ]
  },
  {
   "cell_type": "code",
   "execution_count": 12,
   "metadata": {},
   "outputs": [
    {
     "name": "stderr",
     "output_type": "stream",
     "text": [
      "100%|██████████| 49/49 [00:37<00:00,  1.37it/s]\n"
     ]
    }
   ],
   "source": [
    "western_res = {}\n",
    "for i in tqdm(human_western_bams):\n",
    "    western_res.update(getNumberMappedReadsMultiprocess(bam = f\"{human_western_bam_dir}/{i}\", processes=10, min_id = min_id, min_len=min_len))"
   ]
  },
  {
   "cell_type": "code",
   "execution_count": 14,
   "metadata": {},
   "outputs": [],
   "source": [
    "western_human = pd.DataFrame(western_res).T\n",
    "western_human.columns = 'human_count','all_count'\n",
    "western_human[\"percentage_endo\"] = western_human['human_count']/western_human['all_count']*100"
   ]
  },
  {
   "cell_type": "code",
   "execution_count": 15,
   "metadata": {},
   "outputs": [
    {
     "data": {
      "text/html": [
       "<div>\n",
       "<style scoped>\n",
       "    .dataframe tbody tr th:only-of-type {\n",
       "        vertical-align: middle;\n",
       "    }\n",
       "\n",
       "    .dataframe tbody tr th {\n",
       "        vertical-align: top;\n",
       "    }\n",
       "\n",
       "    .dataframe thead th {\n",
       "        text-align: right;\n",
       "    }\n",
       "</style>\n",
       "<table border=\"1\" class=\"dataframe\">\n",
       "  <thead>\n",
       "    <tr style=\"text-align: right;\">\n",
       "      <th></th>\n",
       "      <th>human_count</th>\n",
       "      <th>all_count</th>\n",
       "      <th>percentage_endo</th>\n",
       "    </tr>\n",
       "  </thead>\n",
       "  <tbody>\n",
       "    <tr>\n",
       "      <th>E5</th>\n",
       "      <td>175600</td>\n",
       "      <td>11487470</td>\n",
       "      <td>1.528622</td>\n",
       "    </tr>\n",
       "    <tr>\n",
       "      <th>F4</th>\n",
       "      <td>183259</td>\n",
       "      <td>9696234</td>\n",
       "      <td>1.890002</td>\n",
       "    </tr>\n",
       "    <tr>\n",
       "      <th>E2</th>\n",
       "      <td>214203</td>\n",
       "      <td>8327324</td>\n",
       "      <td>2.572291</td>\n",
       "    </tr>\n",
       "    <tr>\n",
       "      <th>E1</th>\n",
       "      <td>227278</td>\n",
       "      <td>10907632</td>\n",
       "      <td>2.083660</td>\n",
       "    </tr>\n",
       "    <tr>\n",
       "      <th>B10</th>\n",
       "      <td>375059</td>\n",
       "      <td>11695702</td>\n",
       "      <td>3.206811</td>\n",
       "    </tr>\n",
       "  </tbody>\n",
       "</table>\n",
       "</div>"
      ],
      "text/plain": [
       "     human_count  all_count  percentage_endo\n",
       "E5        175600   11487470         1.528622\n",
       "F4        183259    9696234         1.890002\n",
       "E2        214203    8327324         2.572291\n",
       "E1        227278   10907632         2.083660\n",
       "B10       375059   11695702         3.206811"
      ]
     },
     "execution_count": 15,
     "metadata": {},
     "output_type": "execute_result"
    }
   ],
   "source": [
    "western_human.head()"
   ]
  },
  {
   "cell_type": "code",
   "execution_count": 16,
   "metadata": {},
   "outputs": [
    {
     "data": {
      "text/plain": [
       "count    49.000000\n",
       "mean      1.808109\n",
       "std       0.806107\n",
       "min       0.409995\n",
       "25%       1.258292\n",
       "50%       1.667870\n",
       "75%       2.228570\n",
       "max       3.731088\n",
       "Name: percentage_endo, dtype: float64"
      ]
     },
     "execution_count": 16,
     "metadata": {},
     "output_type": "execute_result"
    }
   ],
   "source": [
    "western_human['percentage_endo'].describe()"
   ]
  },
  {
   "cell_type": "code",
   "execution_count": 17,
   "metadata": {},
   "outputs": [],
   "source": [
    "western_human.to_csv(\"results/western_human.csv\")"
   ]
  },
  {
   "cell_type": "code",
   "execution_count": 2,
   "metadata": {},
   "outputs": [],
   "source": [
    "western_human = pd.read_csv(\"results/western_human.csv\", index_col=0)"
   ]
  },
  {
   "cell_type": "code",
   "execution_count": 6,
   "metadata": {},
   "outputs": [
    {
     "data": {
      "text/html": [
       "<div>\n",
       "<style scoped>\n",
       "    .dataframe tbody tr th:only-of-type {\n",
       "        vertical-align: middle;\n",
       "    }\n",
       "\n",
       "    .dataframe tbody tr th {\n",
       "        vertical-align: top;\n",
       "    }\n",
       "\n",
       "    .dataframe thead th {\n",
       "        text-align: right;\n",
       "    }\n",
       "</style>\n",
       "<table border=\"1\" class=\"dataframe\">\n",
       "  <thead>\n",
       "    <tr style=\"text-align: right;\">\n",
       "      <th></th>\n",
       "      <th>human_count</th>\n",
       "      <th>all_count</th>\n",
       "      <th>percentage_endo</th>\n",
       "    </tr>\n",
       "  </thead>\n",
       "  <tbody>\n",
       "    <tr>\n",
       "      <th>E5</th>\n",
       "      <td>175600</td>\n",
       "      <td>11487470</td>\n",
       "      <td>1.528622</td>\n",
       "    </tr>\n",
       "    <tr>\n",
       "      <th>F4</th>\n",
       "      <td>183259</td>\n",
       "      <td>9696234</td>\n",
       "      <td>1.890002</td>\n",
       "    </tr>\n",
       "    <tr>\n",
       "      <th>E2</th>\n",
       "      <td>214203</td>\n",
       "      <td>8327324</td>\n",
       "      <td>2.572291</td>\n",
       "    </tr>\n",
       "    <tr>\n",
       "      <th>E1</th>\n",
       "      <td>227278</td>\n",
       "      <td>10907632</td>\n",
       "      <td>2.083660</td>\n",
       "    </tr>\n",
       "    <tr>\n",
       "      <th>B10</th>\n",
       "      <td>375059</td>\n",
       "      <td>11695702</td>\n",
       "      <td>3.206811</td>\n",
       "    </tr>\n",
       "  </tbody>\n",
       "</table>\n",
       "</div>"
      ],
      "text/plain": [
       "     human_count  all_count  percentage_endo\n",
       "E5        175600   11487470         1.528622\n",
       "F4        183259    9696234         1.890002\n",
       "E2        214203    8327324         2.572291\n",
       "E1        227278   10907632         2.083660\n",
       "B10       375059   11695702         3.206811"
      ]
     },
     "execution_count": 6,
     "metadata": {},
     "output_type": "execute_result"
    }
   ],
   "source": [
    "western_human.head()"
   ]
  },
  {
   "cell_type": "code",
   "execution_count": 3,
   "metadata": {},
   "outputs": [],
   "source": [
    "western_human['organism'] = western_human.shape[0]*['Westernized human / Urban']"
   ]
  },
  {
   "cell_type": "markdown",
   "metadata": {},
   "source": [
    "#### Handling non westernized bam files "
   ]
  },
  {
   "cell_type": "markdown",
   "metadata": {},
   "source": [
    "Because these files were anonymized for the mapping position as well, we can not index them and have to parse them manually from sam files"
   ]
  },
  {
   "cell_type": "code",
   "execution_count": null,
   "metadata": {},
   "outputs": [],
   "source": [
    "def bam2sam(bamfile, bamdir):\n",
    "    print(bamfile)\n",
    "    basename = bamfile.split(\".\")[0]\n",
    "    cmd = f\"samtools view {bamdir}/{bamfile} > {bamdir}/{basename}.sam\"\n",
    "    print(cmd)\n",
    "    subprocess.check_output(cmd, shell = True)"
   ]
  },
  {
   "cell_type": "code",
   "execution_count": null,
   "metadata": {},
   "outputs": [],
   "source": [
    "non_western_bam2sam = partial(bam2sam, bamdir = human_non_western_bam_dir)\n",
    "with multiprocessing.Pool(10) as p:\n",
    "    p.map(western_bam2sam, human_non_western_bams)"
   ]
  },
  {
   "cell_type": "code",
   "execution_count": 63,
   "metadata": {},
   "outputs": [],
   "source": [
    "regex = re.compile(\"(\\d*)[MID]\")\n",
    "def samline(sam, regex=regex, min_id = min_id, min_len=min_len):\n",
    "    print(sam)\n",
    "    cnt = 0\n",
    "    all_cnt = 0\n",
    "    with open(sam, 'r') as f:\n",
    "        for l in f:\n",
    "            lsplit = l.split()\n",
    "            cigar = lsplit[5]\n",
    "            all_cnt +=1\n",
    "            if len(cigar) > 1:\n",
    "                tags = lsplit[16:18]\n",
    "                for i in tags:\n",
    "                    if i.split(':')[0] == 'NM':\n",
    "                        nm = int(i.split(':')[-1])\n",
    "                        break\n",
    "                al_len = sum([int(i) for i in re.findall(regex, cigar)])\n",
    "                ident = (al_len - nm)/al_len\n",
    "                if ident >= min_id and al_len>=min_len:\n",
    "                    cnt+=1\n",
    "            else:\n",
    "                continue\n",
    "    return({sam:[cnt,all_cnt]})"
   ]
  },
  {
   "cell_type": "code",
   "execution_count": 58,
   "metadata": {},
   "outputs": [],
   "source": [
    "human_non_western_sams = [i for i in os.listdir(human_non_western_bam_dir) if i.endswith(\".sam\")]"
   ]
  },
  {
   "cell_type": "code",
   "execution_count": 64,
   "metadata": {},
   "outputs": [
    {
     "name": "stderr",
     "output_type": "stream",
     "text": [
      "\n",
      "  0%|          | 0/69 [00:00<?, ?it/s]"
     ]
    },
    {
     "name": "stdout",
     "output_type": "stream",
     "text": [
      "../../data/lewis_lab/bftm130122.sam\n"
     ]
    },
    {
     "name": "stderr",
     "output_type": "stream",
     "text": [
      "\u001b[A"
     ]
    },
    {
     "name": "stdout",
     "output_type": "stream",
     "text": [
      "../../data/lewis_lab/bftm230440.sam\n",
      "../../data/lewis_lab/bftm1502ecol15.sam\n",
      "../../data/lewis_lab/bftm030236.sam\n",
      "../../data/lewis_lab/bftm280135.sam\n",
      "../../data/lewis_lab/bftm100113.sam\n",
      "../../data/lewis_lab/bftm2301ext33.sam\n",
      "../../data/lewis_lab/bftm2401ext31.sam\n",
      "../../data/lewis_lab/bftm070332.sam\n",
      "../../data/lewis_lab/bftm0401ecol39.sam\n"
     ]
    },
    {
     "name": "stderr",
     "output_type": "stream",
     "text": [
      "\n",
      "  1%|▏         | 1/69 [00:47<54:11, 47.81s/it]\u001b[A"
     ]
    },
    {
     "name": "stdout",
     "output_type": "stream",
     "text": [
      "../../data/lewis_lab/bftm140428.sam\n"
     ]
    },
    {
     "name": "stderr",
     "output_type": "stream",
     "text": [
      "\n",
      "  3%|▎         | 2/69 [01:08<44:14, 39.62s/it]\u001b[A"
     ]
    },
    {
     "name": "stdout",
     "output_type": "stream",
     "text": [
      "../../data/lewis_lab/bftm2103ext32.sam\n"
     ]
    },
    {
     "name": "stderr",
     "output_type": "stream",
     "text": [
      "\n",
      "  4%|▍         | 3/69 [01:11<31:30, 28.65s/it]\u001b[A"
     ]
    },
    {
     "name": "stdout",
     "output_type": "stream",
     "text": [
      "../../data/lewis_lab/bftm140127.sam\n"
     ]
    },
    {
     "name": "stderr",
     "output_type": "stream",
     "text": [
      "\n",
      "  6%|▌         | 4/69 [01:13<22:23, 20.67s/it]\u001b[A"
     ]
    },
    {
     "name": "stdout",
     "output_type": "stream",
     "text": [
      "../../data/lewis_lab/bftm040212.sam\n"
     ]
    },
    {
     "name": "stderr",
     "output_type": "stream",
     "text": [
      "\n",
      "  7%|▋         | 5/69 [01:47<26:26, 24.79s/it]\u001b[A"
     ]
    },
    {
     "name": "stdout",
     "output_type": "stream",
     "text": [
      "../../data/lewis_lab/bftm220210.sam\n"
     ]
    },
    {
     "name": "stderr",
     "output_type": "stream",
     "text": [
      "\n",
      "  9%|▊         | 6/69 [01:53<20:05, 19.14s/it]"
     ]
    },
    {
     "name": "stdout",
     "output_type": "stream",
     "text": [
      "../../data/lewis_lab/bftm110237.sam\n"
     ]
    },
    {
     "name": "stderr",
     "output_type": "stream",
     "text": [
      "\u001b[A\n",
      " 10%|█         | 7/69 [02:03<16:51, 16.31s/it]\u001b[A"
     ]
    },
    {
     "name": "stdout",
     "output_type": "stream",
     "text": [
      "../../data/lewis_lab/bftm1003ext22.sam\n"
     ]
    },
    {
     "name": "stderr",
     "output_type": "stream",
     "text": [
      "\n",
      " 12%|█▏        | 8/69 [02:18<16:12, 15.95s/it]\u001b[A"
     ]
    },
    {
     "name": "stdout",
     "output_type": "stream",
     "text": [
      "../../data/lewis_lab/bftm190220.sam\n"
     ]
    },
    {
     "name": "stderr",
     "output_type": "stream",
     "text": [
      "\n",
      " 13%|█▎        | 9/69 [02:20<11:47, 11.80s/it]\u001b[A"
     ]
    },
    {
     "name": "stdout",
     "output_type": "stream",
     "text": [
      "../../data/lewis_lab/bftm180134.sam\n"
     ]
    },
    {
     "name": "stderr",
     "output_type": "stream",
     "text": [
      "\n",
      " 14%|█▍        | 10/69 [03:08<22:22, 22.75s/it]\u001b[A"
     ]
    },
    {
     "name": "stdout",
     "output_type": "stream",
     "text": [
      "../../data/lewis_lab/bftm140341.sam\n"
     ]
    },
    {
     "name": "stderr",
     "output_type": "stream",
     "text": [
      "\n",
      " 16%|█▌        | 11/69 [03:22<19:24, 20.09s/it]\u001b[A"
     ]
    },
    {
     "name": "stdout",
     "output_type": "stream",
     "text": [
      "../../data/lewis_lab/bftm0202ext20.sam\n"
     ]
    },
    {
     "name": "stderr",
     "output_type": "stream",
     "text": [
      "\n",
      " 17%|█▋        | 12/69 [03:23<13:33, 14.27s/it]"
     ]
    },
    {
     "name": "stdout",
     "output_type": "stream",
     "text": [
      "../../data/lewis_lab/bftm270223.sam\n"
     ]
    },
    {
     "name": "stderr",
     "output_type": "stream",
     "text": [
      "\u001b[A\n",
      " 19%|█▉        | 13/69 [03:36<12:54, 13.84s/it]\u001b[A"
     ]
    },
    {
     "name": "stdout",
     "output_type": "stream",
     "text": [
      "../../data/lewis_lab/bftm0803ext30.sam\n"
     ]
    },
    {
     "name": "stderr",
     "output_type": "stream",
     "text": [
      "\n",
      " 20%|██        | 14/69 [04:00<15:23, 16.80s/it]"
     ]
    },
    {
     "name": "stdout",
     "output_type": "stream",
     "text": [
      "../../data/lewis_lab/bftm1002ecol4.sam\n"
     ]
    },
    {
     "name": "stderr",
     "output_type": "stream",
     "text": [
      "\u001b[A\n",
      " 22%|██▏       | 15/69 [04:23<16:53, 18.77s/it]\u001b[A"
     ]
    },
    {
     "name": "stdout",
     "output_type": "stream",
     "text": [
      "../../data/lewis_lab/bftm30016.sam\n"
     ]
    },
    {
     "name": "stderr",
     "output_type": "stream",
     "text": [
      "\n",
      " 23%|██▎       | 16/69 [04:32<13:51, 15.70s/it]\u001b[A"
     ]
    },
    {
     "name": "stdout",
     "output_type": "stream",
     "text": [
      "../../data/lewis_lab/bftm0601ext18.sam\n"
     ]
    },
    {
     "name": "stderr",
     "output_type": "stream",
     "text": [
      "\n",
      " 25%|██▍       | 17/69 [05:00<17:01, 19.65s/it]\u001b[A"
     ]
    },
    {
     "name": "stdout",
     "output_type": "stream",
     "text": [
      "../../data/lewis_lab/bftm2204ext27.sam\n"
     ]
    },
    {
     "name": "stderr",
     "output_type": "stream",
     "text": [
      "\n",
      " 26%|██▌       | 18/69 [05:40<21:46, 25.61s/it]\u001b[A"
     ]
    },
    {
     "name": "stdout",
     "output_type": "stream",
     "text": [
      "../../data/lewis_lab/bftm2801ext35.sam\n"
     ]
    },
    {
     "name": "stderr",
     "output_type": "stream",
     "text": [
      "\n",
      " 28%|██▊       | 19/69 [05:46<16:34, 19.89s/it]\u001b[A"
     ]
    },
    {
     "name": "stdout",
     "output_type": "stream",
     "text": [
      "../../data/lewis_lab/bftm1104ecol11.sam\n"
     ]
    },
    {
     "name": "stderr",
     "output_type": "stream",
     "text": [
      "\n",
      " 29%|██▉       | 20/69 [05:50<12:13, 14.97s/it]\u001b[A"
     ]
    },
    {
     "name": "stdout",
     "output_type": "stream",
     "text": [
      "../../data/lewis_lab/bftm060125.sam\n"
     ]
    },
    {
     "name": "stderr",
     "output_type": "stream",
     "text": [
      "\n",
      " 30%|███       | 21/69 [05:50<08:30, 10.63s/it]\u001b[A"
     ]
    },
    {
     "name": "stdout",
     "output_type": "stream",
     "text": [
      "../../data/lewis_lab/bftm2101ext26.sam\n"
     ]
    },
    {
     "name": "stderr",
     "output_type": "stream",
     "text": [
      "\n",
      " 32%|███▏      | 22/69 [06:01<08:17, 10.60s/it]"
     ]
    },
    {
     "name": "stdout",
     "output_type": "stream",
     "text": [
      "../../data/lewis_lab/bftm1303ext17.sam\n"
     ]
    },
    {
     "name": "stderr",
     "output_type": "stream",
     "text": [
      "\u001b[A\n",
      " 33%|███▎      | 23/69 [06:13<08:24, 10.96s/it]\u001b[A"
     ]
    },
    {
     "name": "stdout",
     "output_type": "stream",
     "text": [
      "../../data/lewis_lab/bftm2601ext24.sam\n"
     ]
    },
    {
     "name": "stderr",
     "output_type": "stream",
     "text": [
      "\n",
      " 35%|███▍      | 24/69 [06:34<10:34, 14.10s/it]\u001b[A"
     ]
    },
    {
     "name": "stdout",
     "output_type": "stream",
     "text": [
      "../../data/lewis_lab/bftm050238.sam\n"
     ]
    },
    {
     "name": "stderr",
     "output_type": "stream",
     "text": [
      "\n",
      " 36%|███▌      | 25/69 [06:40<08:32, 11.65s/it]\u001b[A"
     ]
    },
    {
     "name": "stdout",
     "output_type": "stream",
     "text": [
      "../../data/lewis_lab/bftm0701ecol12.sam\n"
     ]
    },
    {
     "name": "stderr",
     "output_type": "stream",
     "text": [
      "\n",
      " 38%|███▊      | 26/69 [07:11<12:26, 17.35s/it]\u001b[A"
     ]
    },
    {
     "name": "stdout",
     "output_type": "stream",
     "text": [
      "../../data/lewis_lab/bftm290124.sam\n"
     ]
    },
    {
     "name": "stderr",
     "output_type": "stream",
     "text": [
      "\n",
      " 39%|███▉      | 27/69 [07:23<11:00, 15.73s/it]"
     ]
    },
    {
     "name": "stdout",
     "output_type": "stream",
     "text": [
      "../../data/lewis_lab/bftm09037.sam\n"
     ]
    },
    {
     "name": "stderr",
     "output_type": "stream",
     "text": [
      "\u001b[A\n",
      " 41%|████      | 28/69 [07:48<12:39, 18.53s/it]\u001b[A"
     ]
    },
    {
     "name": "stdout",
     "output_type": "stream",
     "text": [
      "../../data/lewis_lab/bftm030111.sam\n"
     ]
    },
    {
     "name": "stderr",
     "output_type": "stream",
     "text": [
      "\n",
      " 42%|████▏     | 29/69 [08:04<11:49, 17.73s/it]\u001b[A"
     ]
    },
    {
     "name": "stdout",
     "output_type": "stream",
     "text": [
      "../../data/lewis_lab/bftm3003ext25.sam\n"
     ]
    },
    {
     "name": "stderr",
     "output_type": "stream",
     "text": [
      "\n",
      " 43%|████▎     | 30/69 [08:13<09:47, 15.07s/it]"
     ]
    },
    {
     "name": "stdout",
     "output_type": "stream",
     "text": [
      "../../data/lewis_lab/bftm1601ecol9.sam\n"
     ]
    },
    {
     "name": "stderr",
     "output_type": "stream",
     "text": [
      "\u001b[A\n",
      " 45%|████▍     | 31/69 [08:20<08:02, 12.70s/it]\u001b[A"
     ]
    },
    {
     "name": "stdout",
     "output_type": "stream",
     "text": [
      "../../data/lewis_lab/bftm0604ecol14.sam\n"
     ]
    },
    {
     "name": "stderr",
     "output_type": "stream",
     "text": [
      "\n",
      " 46%|████▋     | 32/69 [08:27<06:45, 10.95s/it]\u001b[A"
     ]
    },
    {
     "name": "stdout",
     "output_type": "stream",
     "text": [
      "../../data/lewis_lab/bftm1704ext28.sam\n"
     ]
    },
    {
     "name": "stderr",
     "output_type": "stream",
     "text": [
      "\n",
      " 48%|████▊     | 33/69 [08:38<06:34, 10.96s/it]"
     ]
    },
    {
     "name": "stdout",
     "output_type": "stream",
     "text": [
      "../../data/lewis_lab/bftm150339.sam\n"
     ]
    },
    {
     "name": "stderr",
     "output_type": "stream",
     "text": [
      "\u001b[A\n",
      " 49%|████▉     | 34/69 [08:54<07:18, 12.53s/it]"
     ]
    },
    {
     "name": "stdout",
     "output_type": "stream",
     "text": [
      "../../data/lewis_lab/bftm110126.sam\n"
     ]
    },
    {
     "name": "stderr",
     "output_type": "stream",
     "text": [
      "\u001b[A\n",
      " 51%|█████     | 35/69 [09:09<07:34, 13.36s/it]"
     ]
    },
    {
     "name": "stdout",
     "output_type": "stream",
     "text": [
      "../../data/lewis_lab/bftm2301ecol5.sam\n"
     ]
    },
    {
     "name": "stderr",
     "output_type": "stream",
     "text": [
      "\u001b[A\n",
      " 52%|█████▏    | 36/69 [09:30<08:38, 15.70s/it]\u001b[A"
     ]
    },
    {
     "name": "stdout",
     "output_type": "stream",
     "text": [
      "../../data/lewis_lab/bftm2704ext23.sam\n"
     ]
    },
    {
     "name": "stderr",
     "output_type": "stream",
     "text": [
      "\n",
      " 54%|█████▎    | 37/69 [09:32<06:12, 11.65s/it]\u001b[A"
     ]
    },
    {
     "name": "stdout",
     "output_type": "stream",
     "text": [
      "../../data/lewis_lab/bftm1104ext21.sam\n"
     ]
    },
    {
     "name": "stderr",
     "output_type": "stream",
     "text": [
      "\n"
     ]
    },
    {
     "name": "stdout",
     "output_type": "stream",
     "text": [
      "../../data/lewis_lab/bftm1603ecol2.sam\n"
     ]
    },
    {
     "name": "stderr",
     "output_type": "stream",
     "text": [
      " 55%|█████▌    | 38/69 [10:30<13:09, 25.47s/it]\u001b[A\n",
      " 57%|█████▋    | 39/69 [10:33<09:22, 18.76s/it]\u001b[A"
     ]
    },
    {
     "name": "stdout",
     "output_type": "stream",
     "text": [
      "../../data/lewis_lab/bftm26043.sam\n"
     ]
    },
    {
     "name": "stderr",
     "output_type": "stream",
     "text": [
      "\n",
      " 58%|█████▊    | 40/69 [10:42<07:38, 15.79s/it]"
     ]
    },
    {
     "name": "stdout",
     "output_type": "stream",
     "text": [
      "../../data/lewis_lab/bftm1701ecol6.sam\n"
     ]
    },
    {
     "name": "stderr",
     "output_type": "stream",
     "text": [
      "\u001b[A\n",
      " 59%|█████▉    | 41/69 [10:44<05:21, 11.49s/it]\u001b[A"
     ]
    },
    {
     "name": "stdout",
     "output_type": "stream",
     "text": [
      "../../data/lewis_lab/bftm3004ext36.sam\n"
     ]
    },
    {
     "name": "stderr",
     "output_type": "stream",
     "text": [
      "\n",
      " 61%|██████    | 42/69 [10:52<04:42, 10.47s/it]\u001b[A"
     ]
    },
    {
     "name": "stdout",
     "output_type": "stream",
     "text": [
      "../../data/lewis_lab/bftm220116.sam\n"
     ]
    },
    {
     "name": "stderr",
     "output_type": "stream",
     "text": [
      "\n",
      " 62%|██████▏   | 43/69 [11:24<07:24, 17.08s/it]\u001b[A"
     ]
    },
    {
     "name": "stdout",
     "output_type": "stream",
     "text": [
      "../../data/lewis_lab/bftm0101ecol.sam\n"
     ]
    },
    {
     "name": "stderr",
     "output_type": "stream",
     "text": [
      "\n",
      " 64%|██████▍   | 44/69 [11:42<07:10, 17.22s/it]\u001b[A"
     ]
    },
    {
     "name": "stdout",
     "output_type": "stream",
     "text": [
      "../../data/lewis_lab/bftm2504ecol13.sam\n"
     ]
    },
    {
     "name": "stderr",
     "output_type": "stream",
     "text": [
      "\n",
      " 65%|██████▌   | 45/69 [11:53<06:10, 15.45s/it]\u001b[A"
     ]
    },
    {
     "name": "stdout",
     "output_type": "stream",
     "text": [
      "../../data/lewis_lab/bftm150117.sam\n"
     ]
    },
    {
     "name": "stderr",
     "output_type": "stream",
     "text": [
      "\n",
      " 67%|██████▋   | 46/69 [11:57<04:37, 12.06s/it]"
     ]
    },
    {
     "name": "stdout",
     "output_type": "stream",
     "text": [
      "../../data/lewis_lab/bftm080321.sam\n"
     ]
    },
    {
     "name": "stderr",
     "output_type": "stream",
     "text": [
      "\u001b[A\n",
      " 68%|██████▊   | 47/69 [12:21<05:42, 15.56s/it]"
     ]
    },
    {
     "name": "stdout",
     "output_type": "stream",
     "text": [
      "../../data/lewis_lab/bftm2304ext34.sam\n"
     ]
    },
    {
     "name": "stderr",
     "output_type": "stream",
     "text": [
      "\u001b[A\n",
      " 70%|██████▉   | 48/69 [12:39<05:44, 16.41s/it]\u001b[A"
     ]
    },
    {
     "name": "stdout",
     "output_type": "stream",
     "text": [
      "../../data/lewis_lab/bftm1402ext19.sam\n"
     ]
    },
    {
     "name": "stderr",
     "output_type": "stream",
     "text": [
      "\n",
      " 71%|███████   | 49/69 [12:56<05:28, 16.44s/it]\u001b[A"
     ]
    },
    {
     "name": "stdout",
     "output_type": "stream",
     "text": [
      "../../data/lewis_lab/bftm120433.sam\n"
     ]
    },
    {
     "name": "stderr",
     "output_type": "stream",
     "text": [
      "\n",
      " 72%|███████▏  | 50/69 [12:58<03:51, 12.21s/it]\u001b[A"
     ]
    },
    {
     "name": "stdout",
     "output_type": "stream",
     "text": [
      "../../data/lewis_lab/bftm22034.sam\n"
     ]
    },
    {
     "name": "stderr",
     "output_type": "stream",
     "text": [
      "\n",
      " 74%|███████▍  | 51/69 [13:20<04:31, 15.07s/it]"
     ]
    },
    {
     "name": "stdout",
     "output_type": "stream",
     "text": [
      "../../data/lewis_lab/bftm17021.sam\n"
     ]
    },
    {
     "name": "stderr",
     "output_type": "stream",
     "text": [
      "\u001b[A\n",
      " 75%|███████▌  | 52/69 [13:54<05:53, 20.80s/it]\u001b[A"
     ]
    },
    {
     "name": "stdout",
     "output_type": "stream",
     "text": [
      "../../data/lewis_lab/bftm080215.sam\n"
     ]
    },
    {
     "name": "stderr",
     "output_type": "stream",
     "text": [
      "\n",
      " 77%|███████▋  | 53/69 [14:22<06:09, 23.09s/it]\u001b[A"
     ]
    },
    {
     "name": "stdout",
     "output_type": "stream",
     "text": [
      "../../data/lewis_lab/bftm200129.sam\n"
     ]
    },
    {
     "name": "stderr",
     "output_type": "stream",
     "text": [
      "\n",
      " 78%|███████▊  | 54/69 [14:28<04:28, 17.89s/it]\u001b[A"
     ]
    },
    {
     "name": "stdout",
     "output_type": "stream",
     "text": [
      "../../data/lewis_lab/bftm01028.sam\n"
     ]
    },
    {
     "name": "stderr",
     "output_type": "stream",
     "text": [
      "\n",
      " 80%|███████▉  | 55/69 [14:33<03:15, 13.96s/it]\u001b[A"
     ]
    },
    {
     "name": "stdout",
     "output_type": "stream",
     "text": [
      "../../data/lewis_lab/bftm200318.sam\n"
     ]
    },
    {
     "name": "stderr",
     "output_type": "stream",
     "text": [
      "\n",
      " 81%|████████  | 56/69 [14:37<02:22, 11.00s/it]"
     ]
    },
    {
     "name": "stdout",
     "output_type": "stream",
     "text": [
      "../../data/lewis_lab/bftm2501ecol7.sam\n"
     ]
    },
    {
     "name": "stderr",
     "output_type": "stream",
     "text": [
      "\u001b[A\n",
      " 83%|████████▎ | 57/69 [14:44<01:58,  9.89s/it]\u001b[A"
     ]
    },
    {
     "name": "stdout",
     "output_type": "stream",
     "text": [
      "../../data/lewis_lab/bftm0902ecol40.sam\n"
     ]
    },
    {
     "name": "stderr",
     "output_type": "stream",
     "text": [
      "\n",
      " 84%|████████▍ | 58/69 [14:49<01:30,  8.20s/it]"
     ]
    },
    {
     "name": "stdout",
     "output_type": "stream",
     "text": [
      "../../data/lewis_lab/bftm010319.sam\n"
     ]
    },
    {
     "name": "stderr",
     "output_type": "stream",
     "text": [
      "\u001b[A\n",
      " 86%|████████▌ | 59/69 [15:07<01:52, 11.30s/it]\u001b[A"
     ]
    },
    {
     "name": "stdout",
     "output_type": "stream",
     "text": [
      "../../data/lewis_lab/bftm2002ext29.sam\n"
     ]
    },
    {
     "name": "stderr",
     "output_type": "stream",
     "text": [
      "\n",
      " 87%|████████▋ | 60/69 [15:44<02:51, 19.09s/it]\u001b[A\n",
      " 88%|████████▊ | 61/69 [15:56<02:15, 16.91s/it]\u001b[A\n",
      " 90%|████████▉ | 62/69 [16:06<01:43, 14.72s/it]\u001b[A\n",
      " 91%|█████████▏| 63/69 [16:24<01:35, 15.85s/it]\u001b[A\n",
      " 93%|█████████▎| 64/69 [16:51<01:34, 18.96s/it]\u001b[A\n",
      " 94%|█████████▍| 65/69 [16:59<01:03, 15.80s/it]\u001b[A\n",
      " 96%|█████████▌| 66/69 [17:12<00:44, 14.94s/it]\u001b[A\n",
      " 97%|█████████▋| 67/69 [17:25<00:28, 14.38s/it]\u001b[A\n",
      " 99%|█████████▊| 68/69 [17:34<00:12, 12.88s/it]\u001b[A\n",
      "100%|██████████| 69/69 [17:56<00:00, 15.44s/it]\u001b[A"
     ]
    }
   ],
   "source": [
    "with multiprocessing.Pool(10) as p:\n",
    "    res = list(tqdm(p.imap_unordered(samline, [f\"{human_non_western_bam_dir}/{s}\" for s in human_non_western_sams]), total=len(human_non_western_sams)))"
   ]
  },
  {
   "cell_type": "code",
   "execution_count": 65,
   "metadata": {},
   "outputs": [],
   "source": [
    "result_non_western = {}\n",
    "for d in res:\n",
    "    result_non_western.update(d)"
   ]
  },
  {
   "cell_type": "code",
   "execution_count": 66,
   "metadata": {},
   "outputs": [],
   "source": [
    "non_western_human = pd.DataFrame(result_non_western).T\n",
    "non_western_human = non_western_human.set_index(pd.Series(non_western_human.index.str.split(\"/lewis_lab/\", expand=True).to_frame().iloc[:,1], name=\"sample\"))\n",
    "non_western_human.columns = ['human_count','all_count']\n",
    "non_western_human['percentage_endo'] = non_western_human['human_count']/non_western_human['all_count']*100"
   ]
  },
  {
   "cell_type": "code",
   "execution_count": 67,
   "metadata": {},
   "outputs": [
    {
     "data": {
      "text/html": [
       "<div>\n",
       "<style scoped>\n",
       "    .dataframe tbody tr th:only-of-type {\n",
       "        vertical-align: middle;\n",
       "    }\n",
       "\n",
       "    .dataframe tbody tr th {\n",
       "        vertical-align: top;\n",
       "    }\n",
       "\n",
       "    .dataframe thead th {\n",
       "        text-align: right;\n",
       "    }\n",
       "</style>\n",
       "<table border=\"1\" class=\"dataframe\">\n",
       "  <thead>\n",
       "    <tr style=\"text-align: right;\">\n",
       "      <th></th>\n",
       "      <th>human_count</th>\n",
       "      <th>all_count</th>\n",
       "      <th>percentage_endo</th>\n",
       "    </tr>\n",
       "    <tr>\n",
       "      <th>sample</th>\n",
       "      <th></th>\n",
       "      <th></th>\n",
       "      <th></th>\n",
       "    </tr>\n",
       "  </thead>\n",
       "  <tbody>\n",
       "    <tr>\n",
       "      <th>bftm2301ext33.sam</th>\n",
       "      <td>55095</td>\n",
       "      <td>18796990</td>\n",
       "      <td>0.293105</td>\n",
       "    </tr>\n",
       "    <tr>\n",
       "      <th>bftm070332.sam</th>\n",
       "      <td>49029</td>\n",
       "      <td>26437410</td>\n",
       "      <td>0.185453</td>\n",
       "    </tr>\n",
       "    <tr>\n",
       "      <th>bftm030236.sam</th>\n",
       "      <td>77452</td>\n",
       "      <td>27571762</td>\n",
       "      <td>0.280911</td>\n",
       "    </tr>\n",
       "    <tr>\n",
       "      <th>bftm2401ext31.sam</th>\n",
       "      <td>7908</td>\n",
       "      <td>28078268</td>\n",
       "      <td>0.028164</td>\n",
       "    </tr>\n",
       "    <tr>\n",
       "      <th>bftm130122.sam</th>\n",
       "      <td>12870</td>\n",
       "      <td>41265242</td>\n",
       "      <td>0.031188</td>\n",
       "    </tr>\n",
       "  </tbody>\n",
       "</table>\n",
       "</div>"
      ],
      "text/plain": [
       "                   human_count  all_count  percentage_endo\n",
       "sample                                                    \n",
       "bftm2301ext33.sam        55095   18796990         0.293105\n",
       "bftm070332.sam           49029   26437410         0.185453\n",
       "bftm030236.sam           77452   27571762         0.280911\n",
       "bftm2401ext31.sam         7908   28078268         0.028164\n",
       "bftm130122.sam           12870   41265242         0.031188"
      ]
     },
     "execution_count": 67,
     "metadata": {},
     "output_type": "execute_result"
    }
   ],
   "source": [
    "non_western_human.head()"
   ]
  },
  {
   "cell_type": "code",
   "execution_count": 70,
   "metadata": {},
   "outputs": [
    {
     "data": {
      "text/plain": [
       "count    69.000000\n",
       "mean      0.849359\n",
       "std       2.334063\n",
       "min       0.012799\n",
       "25%       0.039551\n",
       "50%       0.088550\n",
       "75%       0.293105\n",
       "max      12.722235\n",
       "Name: percentage_endo, dtype: float64"
      ]
     },
     "execution_count": 70,
     "metadata": {},
     "output_type": "execute_result"
    }
   ],
   "source": [
    "non_western_human['percentage_endo'].describe()"
   ]
  },
  {
   "cell_type": "code",
   "execution_count": 71,
   "metadata": {},
   "outputs": [],
   "source": [
    "non_western_human.to_csv(\"results/non_western_human.csv\")"
   ]
  },
  {
   "cell_type": "code",
   "execution_count": 4,
   "metadata": {},
   "outputs": [],
   "source": [
    "non_western_human = pd.read_csv(\"results/non_western_human.csv\", index_col=0)"
   ]
  },
  {
   "cell_type": "code",
   "execution_count": 5,
   "metadata": {},
   "outputs": [],
   "source": [
    "non_western_human['organism'] = non_western_human.shape[0]*['Non westernized human / Rural']"
   ]
  },
  {
   "cell_type": "markdown",
   "metadata": {},
   "source": [
    "## B: Dog host DNA percentage"
   ]
  },
  {
   "cell_type": "code",
   "execution_count": 76,
   "metadata": {},
   "outputs": [],
   "source": [
    "dog_dir = \"../../data/dog_PRJEB20308\""
   ]
  },
  {
   "cell_type": "code",
   "execution_count": 78,
   "metadata": {},
   "outputs": [],
   "source": [
    "dog_bams= [i for i in os.listdir(dog_dir) if i.endswith(\".unfiltered.aligned.bam\")]"
   ]
  },
  {
   "cell_type": "code",
   "execution_count": 15,
   "metadata": {},
   "outputs": [
    {
     "name": "stderr",
     "output_type": "stream",
     "text": [
      "100%|██████████| 150/150 [00:50<00:00,  2.46it/s]\n"
     ]
    }
   ],
   "source": [
    "index_dog = partial(bam_index, bamdir = dog_dir)\n",
    "with multiprocessing.Pool(10) as p:\n",
    "    list(tqdm(p.imap(index_dog, dog_bams), total = len(dog_bams)))"
   ]
  },
  {
   "cell_type": "code",
   "execution_count": 79,
   "metadata": {},
   "outputs": [
    {
     "name": "stderr",
     "output_type": "stream",
     "text": [
      "\n",
      "  0%|          | 0/150 [00:00<?, ?it/s]\u001b[A\n",
      "  1%|          | 1/150 [00:00<01:05,  2.26it/s]\u001b[A\n",
      "  1%|▏         | 2/150 [00:00<01:01,  2.41it/s]\u001b[A\n",
      "  2%|▏         | 3/150 [00:01<01:00,  2.44it/s]\u001b[A\n",
      "  3%|▎         | 4/150 [00:01<00:57,  2.52it/s]\u001b[A\n",
      "  3%|▎         | 5/150 [00:01<00:56,  2.59it/s]\u001b[A\n",
      "  4%|▍         | 6/150 [00:02<00:56,  2.53it/s]\u001b[A\n",
      "  5%|▍         | 7/150 [00:02<00:57,  2.49it/s]\u001b[A\n",
      "  5%|▌         | 8/150 [00:03<00:58,  2.41it/s]\u001b[A\n",
      "  6%|▌         | 9/150 [00:03<00:55,  2.56it/s]\u001b[A\n",
      "  7%|▋         | 10/150 [00:03<00:55,  2.53it/s]\u001b[A\n",
      "  7%|▋         | 11/150 [00:04<00:55,  2.53it/s]\u001b[A\n",
      "  8%|▊         | 12/150 [00:04<00:51,  2.67it/s]\u001b[A\n",
      "  9%|▊         | 13/150 [00:05<00:58,  2.35it/s]\u001b[A\n",
      "  9%|▉         | 14/150 [00:05<00:53,  2.54it/s]\u001b[A\n",
      " 10%|█         | 15/150 [00:05<00:51,  2.63it/s]\u001b[A\n",
      " 11%|█         | 16/150 [00:06<00:49,  2.69it/s]\u001b[A\n",
      " 11%|█▏        | 17/150 [00:06<00:47,  2.79it/s]\u001b[A\n",
      " 12%|█▏        | 18/150 [00:06<00:46,  2.84it/s]\u001b[A\n",
      " 13%|█▎        | 19/150 [00:07<00:46,  2.83it/s]\u001b[A\n",
      " 13%|█▎        | 20/150 [00:07<00:56,  2.29it/s]\u001b[A\n",
      " 14%|█▍        | 21/150 [00:08<00:53,  2.39it/s]\u001b[A\n",
      " 15%|█▍        | 22/150 [00:08<00:50,  2.55it/s]\u001b[A\n",
      " 15%|█▌        | 23/150 [00:08<00:47,  2.67it/s]\u001b[A\n",
      " 16%|█▌        | 24/150 [00:09<00:46,  2.73it/s]\u001b[A\n",
      " 17%|█▋        | 25/150 [00:09<00:45,  2.77it/s]\u001b[A\n",
      " 17%|█▋        | 26/150 [00:09<00:43,  2.87it/s]\u001b[A\n",
      " 18%|█▊        | 27/150 [00:10<00:42,  2.90it/s]\u001b[A\n",
      " 19%|█▊        | 28/150 [00:10<00:43,  2.78it/s]\u001b[A\n",
      " 19%|█▉        | 29/150 [00:11<00:44,  2.69it/s]\u001b[A\n",
      " 20%|██        | 30/150 [00:11<00:42,  2.81it/s]\u001b[A\n",
      " 21%|██        | 31/150 [00:11<00:39,  2.98it/s]\u001b[A\n",
      " 21%|██▏       | 32/150 [00:12<00:39,  2.99it/s]\u001b[A\n",
      " 22%|██▏       | 33/150 [00:12<00:40,  2.92it/s]\u001b[A\n",
      " 23%|██▎       | 34/150 [00:12<00:39,  2.93it/s]\u001b[A\n",
      " 23%|██▎       | 35/150 [00:13<00:40,  2.81it/s]\u001b[A\n",
      " 24%|██▍       | 36/150 [00:13<00:40,  2.81it/s]\u001b[A\n",
      " 25%|██▍       | 37/150 [00:14<00:47,  2.38it/s]\u001b[A\n",
      " 25%|██▌       | 38/150 [00:14<00:44,  2.53it/s]\u001b[A\n",
      " 26%|██▌       | 39/150 [00:14<00:43,  2.56it/s]\u001b[A\n",
      " 27%|██▋       | 40/150 [00:15<00:41,  2.65it/s]\u001b[A\n",
      " 27%|██▋       | 41/150 [00:15<00:39,  2.73it/s]\u001b[A\n",
      " 28%|██▊       | 42/150 [00:15<00:39,  2.72it/s]\u001b[A\n",
      " 29%|██▊       | 43/150 [00:16<00:43,  2.46it/s]\u001b[A\n",
      " 29%|██▉       | 44/150 [00:16<00:44,  2.40it/s]\u001b[A\n",
      " 30%|███       | 45/150 [00:17<00:52,  2.01it/s]\u001b[A\n",
      " 31%|███       | 46/150 [00:17<00:46,  2.23it/s]\u001b[A\n",
      " 31%|███▏      | 47/150 [00:18<00:46,  2.23it/s]\u001b[A\n",
      " 32%|███▏      | 48/150 [00:18<00:41,  2.47it/s]\u001b[A\n",
      " 33%|███▎      | 49/150 [00:18<00:38,  2.63it/s]\u001b[A\n",
      " 33%|███▎      | 50/150 [00:19<00:36,  2.77it/s]\u001b[A\n",
      " 34%|███▍      | 51/150 [00:19<00:33,  2.93it/s]\u001b[A\n",
      " 35%|███▍      | 52/150 [00:19<00:33,  2.95it/s]\u001b[A\n",
      " 35%|███▌      | 53/150 [00:20<00:32,  3.03it/s]\u001b[A\n",
      " 36%|███▌      | 54/150 [00:20<00:32,  2.92it/s]\u001b[A\n",
      " 37%|███▋      | 55/150 [00:20<00:34,  2.76it/s]\u001b[A\n",
      " 37%|███▋      | 56/150 [00:21<00:32,  2.92it/s]\u001b[A\n",
      " 38%|███▊      | 57/150 [00:21<00:32,  2.89it/s]\u001b[A\n",
      " 39%|███▊      | 58/150 [00:21<00:33,  2.73it/s]\u001b[A\n",
      " 39%|███▉      | 59/150 [00:22<00:32,  2.81it/s]\u001b[A\n",
      " 40%|████      | 60/150 [00:22<00:31,  2.87it/s]\u001b[A\n",
      " 41%|████      | 61/150 [00:22<00:32,  2.73it/s]\u001b[A\n",
      " 41%|████▏     | 62/150 [00:23<00:30,  2.85it/s]\u001b[A\n",
      " 42%|████▏     | 63/150 [00:23<00:30,  2.81it/s]\u001b[A\n",
      " 43%|████▎     | 64/150 [00:24<00:30,  2.83it/s]\u001b[A\n",
      " 43%|████▎     | 65/150 [00:24<00:32,  2.62it/s]\u001b[A\n",
      " 44%|████▍     | 66/150 [00:24<00:30,  2.74it/s]\u001b[A\n",
      " 45%|████▍     | 67/150 [00:25<00:29,  2.85it/s]\u001b[A\n",
      " 45%|████▌     | 68/150 [00:25<00:28,  2.90it/s]\u001b[A\n",
      " 46%|████▌     | 69/150 [00:25<00:27,  2.97it/s]\u001b[A\n",
      " 47%|████▋     | 70/150 [00:26<00:26,  3.01it/s]\u001b[A\n",
      " 47%|████▋     | 71/150 [00:26<00:27,  2.84it/s]\u001b[A\n",
      " 48%|████▊     | 72/150 [00:26<00:28,  2.69it/s]\u001b[A\n",
      " 49%|████▊     | 73/150 [00:27<00:27,  2.85it/s]\u001b[A\n",
      " 49%|████▉     | 74/150 [00:27<00:26,  2.91it/s]\u001b[A\n",
      " 50%|█████     | 75/150 [00:27<00:27,  2.75it/s]\u001b[A\n",
      " 51%|█████     | 76/150 [00:28<00:33,  2.20it/s]\u001b[A\n",
      " 51%|█████▏    | 77/150 [00:28<00:30,  2.37it/s]\u001b[A\n",
      " 52%|█████▏    | 78/150 [00:29<00:29,  2.44it/s]\u001b[A\n",
      " 53%|█████▎    | 79/150 [00:29<00:27,  2.61it/s]\u001b[A\n",
      " 53%|█████▎    | 80/150 [00:30<00:26,  2.65it/s]\u001b[A\n",
      " 54%|█████▍    | 81/150 [00:30<00:25,  2.75it/s]\u001b[A\n",
      " 55%|█████▍    | 82/150 [00:30<00:23,  2.88it/s]\u001b[A\n",
      " 55%|█████▌    | 83/150 [00:30<00:22,  2.94it/s]\u001b[A\n",
      " 56%|█████▌    | 84/150 [00:31<00:23,  2.83it/s]\u001b[A\n",
      " 57%|█████▋    | 85/150 [00:31<00:22,  2.84it/s]\u001b[A\n",
      " 57%|█████▋    | 86/150 [00:32<00:25,  2.52it/s]\u001b[A\n",
      " 58%|█████▊    | 87/150 [00:32<00:24,  2.54it/s]\u001b[A\n",
      " 59%|█████▊    | 88/150 [00:32<00:24,  2.55it/s]\u001b[A\n",
      " 59%|█████▉    | 89/150 [00:33<00:22,  2.68it/s]\u001b[A\n",
      " 60%|██████    | 90/150 [00:34<00:29,  2.05it/s]\u001b[A\n",
      " 61%|██████    | 91/150 [00:34<00:26,  2.22it/s]\u001b[A\n",
      " 61%|██████▏   | 92/150 [00:34<00:24,  2.37it/s]\u001b[A\n",
      " 62%|██████▏   | 93/150 [00:35<00:22,  2.50it/s]\u001b[A\n",
      " 63%|██████▎   | 94/150 [00:35<00:25,  2.16it/s]\u001b[A\n",
      " 63%|██████▎   | 95/150 [00:36<00:23,  2.38it/s]\u001b[A\n",
      " 64%|██████▍   | 96/150 [00:36<00:22,  2.45it/s]\u001b[A\n",
      " 65%|██████▍   | 97/150 [00:36<00:20,  2.55it/s]\u001b[A\n",
      " 65%|██████▌   | 98/150 [00:37<00:21,  2.42it/s]\u001b[A\n",
      " 66%|██████▌   | 99/150 [00:37<00:22,  2.29it/s]\u001b[A\n",
      " 67%|██████▋   | 100/150 [00:38<00:22,  2.18it/s]\u001b[A\n",
      " 67%|██████▋   | 101/150 [00:38<00:20,  2.35it/s]\u001b[A\n",
      " 68%|██████▊   | 102/150 [00:38<00:19,  2.45it/s]\u001b[A\n",
      " 69%|██████▊   | 103/150 [00:39<00:18,  2.53it/s]\u001b[A\n",
      " 69%|██████▉   | 104/150 [00:39<00:17,  2.61it/s]\u001b[A\n",
      " 70%|███████   | 105/150 [00:40<00:16,  2.71it/s]\u001b[A\n",
      " 71%|███████   | 106/150 [00:40<00:18,  2.40it/s]\u001b[A\n",
      " 71%|███████▏  | 107/150 [00:40<00:17,  2.44it/s]\u001b[A\n",
      " 72%|███████▏  | 108/150 [00:41<00:16,  2.47it/s]\u001b[A\n",
      " 73%|███████▎  | 109/150 [00:41<00:17,  2.40it/s]\u001b[A\n",
      " 73%|███████▎  | 110/150 [00:42<00:16,  2.49it/s]\u001b[A\n",
      " 74%|███████▍  | 111/150 [00:42<00:15,  2.54it/s]\u001b[A\n",
      " 75%|███████▍  | 112/150 [00:42<00:14,  2.63it/s]\u001b[A\n",
      " 75%|███████▌  | 113/150 [00:43<00:16,  2.29it/s]\u001b[A\n",
      " 76%|███████▌  | 114/150 [00:43<00:14,  2.48it/s]\u001b[A\n",
      " 77%|███████▋  | 115/150 [00:44<00:14,  2.39it/s]\u001b[A\n",
      " 77%|███████▋  | 116/150 [00:44<00:13,  2.57it/s]\u001b[A\n",
      " 78%|███████▊  | 117/150 [00:44<00:13,  2.52it/s]\u001b[A\n",
      " 79%|███████▊  | 118/150 [00:45<00:12,  2.62it/s]\u001b[A\n",
      " 79%|███████▉  | 119/150 [00:45<00:11,  2.78it/s]\u001b[A\n",
      " 80%|████████  | 120/150 [00:45<00:10,  2.87it/s]\u001b[A\n",
      " 81%|████████  | 121/150 [00:46<00:10,  2.84it/s]\u001b[A\n",
      " 81%|████████▏ | 122/150 [00:46<00:09,  2.88it/s]\u001b[A\n",
      " 82%|████████▏ | 123/150 [00:47<00:09,  2.82it/s]\u001b[A\n",
      " 83%|████████▎ | 124/150 [00:47<00:10,  2.56it/s]\u001b[A\n",
      " 83%|████████▎ | 125/150 [00:47<00:09,  2.53it/s]\u001b[A\n",
      " 84%|████████▍ | 126/150 [00:48<00:09,  2.59it/s]\u001b[A\n",
      " 85%|████████▍ | 127/150 [00:48<00:08,  2.74it/s]\u001b[A\n",
      " 85%|████████▌ | 128/150 [00:48<00:08,  2.65it/s]\u001b[A\n",
      " 86%|████████▌ | 129/150 [00:49<00:08,  2.50it/s]\u001b[A\n",
      " 87%|████████▋ | 130/150 [00:49<00:08,  2.47it/s]\u001b[A\n",
      " 87%|████████▋ | 131/150 [00:50<00:07,  2.59it/s]\u001b[A\n",
      " 88%|████████▊ | 132/150 [00:50<00:06,  2.65it/s]\u001b[A\n",
      " 89%|████████▊ | 133/150 [00:50<00:06,  2.69it/s]\u001b[A\n",
      " 89%|████████▉ | 134/150 [00:51<00:05,  2.79it/s]\u001b[A\n",
      " 90%|█████████ | 135/150 [00:51<00:05,  2.75it/s]\u001b[A\n",
      " 91%|█████████ | 136/150 [00:51<00:05,  2.79it/s]\u001b[A\n",
      " 91%|█████████▏| 137/150 [00:52<00:05,  2.52it/s]\u001b[A\n",
      " 92%|█████████▏| 138/150 [00:52<00:05,  2.39it/s]\u001b[A\n",
      " 93%|█████████▎| 139/150 [00:53<00:04,  2.42it/s]\u001b[A\n",
      " 93%|█████████▎| 140/150 [00:53<00:04,  2.41it/s]\u001b[A\n",
      " 94%|█████████▍| 141/150 [00:54<00:03,  2.41it/s]\u001b[A\n",
      " 95%|█████████▍| 142/150 [00:54<00:03,  2.52it/s]\u001b[A\n",
      " 95%|█████████▌| 143/150 [00:54<00:02,  2.63it/s]\u001b[A\n",
      " 96%|█████████▌| 144/150 [00:55<00:02,  2.24it/s]\u001b[A\n",
      " 97%|█████████▋| 145/150 [00:55<00:02,  2.43it/s]\u001b[A\n",
      " 97%|█████████▋| 146/150 [00:56<00:01,  2.54it/s]\u001b[A\n",
      " 98%|█████████▊| 147/150 [00:56<00:01,  2.59it/s]\u001b[A\n",
      " 99%|█████████▊| 148/150 [00:56<00:00,  2.60it/s]\u001b[A\n",
      " 99%|█████████▉| 149/150 [00:57<00:00,  2.02it/s]\u001b[A\n",
      "100%|██████████| 150/150 [00:57<00:00,  2.21it/s]\u001b[A"
     ]
    }
   ],
   "source": [
    "dog_mapped = {}\n",
    "for i in tqdm(dog_bams):\n",
    "    try:\n",
    "        dog_mapped.update(getNumberMappedReadsMultiprocess(f\"{dog_dir}/{i}\", processes=10, min_id=min_id, min_len=min_len))\n",
    "    except:\n",
    "        continue"
   ]
  },
  {
   "cell_type": "code",
   "execution_count": 80,
   "metadata": {},
   "outputs": [],
   "source": [
    "dog_count = pd.DataFrame(dog_mapped).T"
   ]
  },
  {
   "cell_type": "code",
   "execution_count": 81,
   "metadata": {},
   "outputs": [],
   "source": [
    "dog_count.columns = ['dog_count','all_count']"
   ]
  },
  {
   "cell_type": "code",
   "execution_count": 82,
   "metadata": {},
   "outputs": [],
   "source": [
    "dog_count['percentage_endo'] = dog_count['dog_count']/dog_count['all_count']*100"
   ]
  },
  {
   "cell_type": "code",
   "execution_count": 83,
   "metadata": {},
   "outputs": [],
   "source": [
    "dog_count['organism'] = ['Dog']*dog_count.shape[0]"
   ]
  },
  {
   "cell_type": "code",
   "execution_count": 84,
   "metadata": {},
   "outputs": [],
   "source": [
    "dog_count.to_csv(\"results/dogs.csv\")"
   ]
  },
  {
   "cell_type": "code",
   "execution_count": 6,
   "metadata": {},
   "outputs": [],
   "source": [
    "dog_count = pd.read_csv('results/dogs.csv')"
   ]
  },
  {
   "cell_type": "markdown",
   "metadata": {},
   "source": [
    "# C: Combining results"
   ]
  },
  {
   "cell_type": "code",
   "execution_count": 7,
   "metadata": {},
   "outputs": [],
   "source": [
    "endo = (western_human[['percentage_endo','organism']]\n",
    "       .append(non_western_human[['percentage_endo','organism']])\n",
    "       .append(dog_count[['percentage_endo','organism']]))"
   ]
  },
  {
   "cell_type": "code",
   "execution_count": 8,
   "metadata": {},
   "outputs": [],
   "source": [
    "endo['organism'] = pd.Categorical(endo.organism, categories= ['Non westernized human / Rural', 'Westernized human / Urban', 'Dog'], ordered=True)"
   ]
  },
  {
   "cell_type": "code",
   "execution_count": 9,
   "metadata": {},
   "outputs": [],
   "source": [
    "endo_median = endo.groupby('organism')['percentage_endo'].median().round(2).to_frame().reset_index()"
   ]
  },
  {
   "cell_type": "code",
   "execution_count": 10,
   "metadata": {},
   "outputs": [
    {
     "data": {
      "text/html": [
       "<div>\n",
       "<style scoped>\n",
       "    .dataframe tbody tr th:only-of-type {\n",
       "        vertical-align: middle;\n",
       "    }\n",
       "\n",
       "    .dataframe tbody tr th {\n",
       "        vertical-align: top;\n",
       "    }\n",
       "\n",
       "    .dataframe thead th {\n",
       "        text-align: right;\n",
       "    }\n",
       "</style>\n",
       "<table border=\"1\" class=\"dataframe\">\n",
       "  <thead>\n",
       "    <tr style=\"text-align: right;\">\n",
       "      <th></th>\n",
       "      <th>organism</th>\n",
       "      <th>percentage_endo</th>\n",
       "    </tr>\n",
       "  </thead>\n",
       "  <tbody>\n",
       "    <tr>\n",
       "      <th>0</th>\n",
       "      <td>Non westernized human / Rural</td>\n",
       "      <td>0.09</td>\n",
       "    </tr>\n",
       "    <tr>\n",
       "      <th>1</th>\n",
       "      <td>Westernized human / Urban</td>\n",
       "      <td>1.67</td>\n",
       "    </tr>\n",
       "    <tr>\n",
       "      <th>2</th>\n",
       "      <td>Dog</td>\n",
       "      <td>0.04</td>\n",
       "    </tr>\n",
       "  </tbody>\n",
       "</table>\n",
       "</div>"
      ],
      "text/plain": [
       "                        organism  percentage_endo\n",
       "0  Non westernized human / Rural             0.09\n",
       "1      Westernized human / Urban             1.67\n",
       "2                            Dog             0.04"
      ]
     },
     "execution_count": 10,
     "metadata": {},
     "output_type": "execute_result"
    }
   ],
   "source": [
    "endo_median"
   ]
  },
  {
   "cell_type": "markdown",
   "metadata": {},
   "source": [
    "## Color palette:\n",
    "- Westernized human / Urban: '#c40000'\n",
    "- Non westernized human / Rural: '#ff7b00'\n",
    "- Unknown: '#a2a3a1'\n",
    "- Soil: '#75a51c'\n",
    "- Dog: '#2166ac'"
   ]
  },
  {
   "cell_type": "code",
   "execution_count": 16,
   "metadata": {},
   "outputs": [
    {
     "name": "stderr",
     "output_type": "stream",
     "text": [
      "/projects1/users/borry/15_miniconda3/envs/coproid_article/lib/python3.6/site-packages/plotnine/positions/position.py:201: PlotnineWarning: position_dodge requires non-overlapping x intervals\n",
      "  warn(msg.format(cls.__name__), PlotnineWarning)\n",
      "/projects1/users/borry/15_miniconda3/envs/coproid_article/lib/python3.6/site-packages/plotnine/ggplot.py:706: PlotnineWarning: Saving 6.4 x 4.8 in image.\n",
      "  from_inches(height, units), units), PlotnineWarning)\n",
      "/projects1/users/borry/15_miniconda3/envs/coproid_article/lib/python3.6/site-packages/plotnine/ggplot.py:707: PlotnineWarning: Filename: results/figure2.png\n",
      "  warn('Filename: {}'.format(filename), PlotnineWarning)\n",
      "/projects1/users/borry/15_miniconda3/envs/coproid_article/lib/python3.6/site-packages/plotnine/positions/position.py:201: PlotnineWarning: position_dodge requires non-overlapping x intervals\n",
      "  warn(msg.format(cls.__name__), PlotnineWarning)\n"
     ]
    },
    {
     "data": {
      "image/png": "[encoded data removed]",
      "text/plain": [
       "<Figure size 640x480 with 1 Axes>"
      ]
     },
     "metadata": {},
     "output_type": "display_data"
    }
   ],
   "source": [
    "p = ggplot(endo, aes(x=\"organism\", y=\"percentage_endo\")) + geom_violin(aes(fill=\"organism\"))\n",
    "p = p + geom_violin(aes(fill='organism'), width=1.5)\n",
    "p = p + geom_boxplot(alpha=0.1, width=0.2) \n",
    "p = p + geom_text(data = endo_median, mapping = aes(x='organism',y='percentage_endo',label='percentage_endo'), size = 6, nudge_x=-0.2, nudge_y=0.25)\n",
    "# p = p + geom_dotplot(aes(fill='organism'),binaxis='y', stackdir='center', binwidth=0.05, alpha=0.2, stackratio = 0.4)\n",
    "p = p + labs(title = 'Endogenous DNA per source', subtitle = \"A subtitle\",x = '', y='endogenous DNA (%)') \n",
    "# p = p + theme_classic() + theme(legend_position = (0.7,0.7), axis_text_x=element_text(angle=45, hjust=1))\n",
    "p = p + theme_classic() + theme(legend_position = (0.7,0.7), axis_text_x=element_blank())\n",
    "p = p + scale_fill_manual(name = \"Source\", values = {\"Dog\":\"#2166ac\",\"Non westernized human / Rural\":\"#ff7b00\",\"Westernized human / Urban\":\"#c40000\"})\n",
    "p.draw()\n",
    "p.save('results/figure2.png', dpi=300)"
   ]
  },
  {
   "cell_type": "markdown",
   "metadata": {},
   "source": [
    "## Statistical testing"
   ]
  },
  {
   "cell_type": "code",
   "execution_count": 31,
   "metadata": {},
   "outputs": [],
   "source": [
    "dog_endo = endo.loc[endo.index[endo['organism'] == 'Dog'],'percentage_endo']\n",
    "w_human_endo = endo.loc[endo.index[endo['organism'] == 'Westernized human / Urban'],'percentage_endo']\n",
    "nw_human_endo = endo.loc[endo.index[endo['organism'] == 'Non westernized human / Rural'],'percentage_endo'] "
   ]
  },
  {
   "cell_type": "markdown",
   "metadata": {},
   "source": [
    "\"The Kruskal-Wallis H-test tests the null hypothesis that the population median of all of the groups are equal.\""
   ]
  },
  {
   "cell_type": "code",
   "execution_count": 32,
   "metadata": {},
   "outputs": [
    {
     "data": {
      "text/plain": [
       "3.2017915333474645e-26"
      ]
     },
     "execution_count": 32,
     "metadata": {},
     "output_type": "execute_result"
    }
   ],
   "source": [
    "stats.kruskal(dog_endo, w_human_endo, nw_human_endo).pvalue"
   ]
  },
  {
   "cell_type": "markdown",
   "metadata": {},
   "source": [
    "The *p value* is < 0.05, there is a difference between the medians of the three sources"
   ]
  },
  {
   "cell_type": "markdown",
   "metadata": {},
   "source": [
    "\"The one-way ANOVA tests the null hypothesis that two or more groups have the same population mean.\""
   ]
  },
  {
   "cell_type": "code",
   "execution_count": 33,
   "metadata": {},
   "outputs": [
    {
     "data": {
      "text/plain": [
       "8.426575776074285e-15"
      ]
     },
     "execution_count": 33,
     "metadata": {},
     "output_type": "execute_result"
    }
   ],
   "source": [
    "stats.f_oneway(dog_endo, w_human_endo, nw_human_endo).pvalue"
   ]
  },
  {
   "cell_type": "markdown",
   "metadata": {},
   "source": [
    "The p value is < 0.05, there is a difference between the means of the three sources"
   ]
  },
  {
   "cell_type": "markdown",
   "metadata": {},
   "source": [
    "#### Dog vs Non westernized human"
   ]
  },
  {
   "cell_type": "markdown",
   "metadata": {},
   "source": [
    "\"This is a two-sided test for the null hypothesis that 2 independent samples have identical average (expected) values.\""
   ]
  },
  {
   "cell_type": "code",
   "execution_count": 36,
   "metadata": {},
   "outputs": [
    {
     "data": {
      "text/plain": [
       "Ttest_indResult(statistic=-2.64131451444152, pvalue=0.0102284646688581)"
      ]
     },
     "execution_count": 36,
     "metadata": {},
     "output_type": "execute_result"
    }
   ],
   "source": [
    "stats.ttest_ind(dog_endo, nw_human_endo, equal_var=False)"
   ]
  },
  {
   "cell_type": "markdown",
   "metadata": {},
   "source": [
    "The p value is < 0.05: non identical in means (H0 rejected)"
   ]
  },
  {
   "cell_type": "markdown",
   "metadata": {},
   "source": [
    "#### Dog vs Westernized human"
   ]
  },
  {
   "cell_type": "code",
   "execution_count": 37,
   "metadata": {},
   "outputs": [
    {
     "data": {
      "text/plain": [
       "Ttest_indResult(statistic=-14.684350754698706, pvalue=1.286150271412474e-19)"
      ]
     },
     "execution_count": 37,
     "metadata": {},
     "output_type": "execute_result"
    }
   ],
   "source": [
    "stats.ttest_ind(dog_endo, w_human_endo, equal_var=False)"
   ]
  },
  {
   "cell_type": "markdown",
   "metadata": {},
   "source": [
    "The p value is < 0.05: non identical in means (H0 rejected)"
   ]
  },
  {
   "cell_type": "markdown",
   "metadata": {},
   "source": [
    "#### Westernized human vs Non Westernized human"
   ]
  },
  {
   "cell_type": "code",
   "execution_count": 38,
   "metadata": {},
   "outputs": [
    {
     "data": {
      "text/plain": [
       "Ttest_indResult(statistic=3.1572036006776965, pvalue=0.0021735106827545287)"
      ]
     },
     "execution_count": 38,
     "metadata": {},
     "output_type": "execute_result"
    }
   ],
   "source": [
    "stats.ttest_ind(w_human_endo, nw_human_endo, equal_var=False)"
   ]
  },
  {
   "cell_type": "markdown",
   "metadata": {},
   "source": [
    "The p value is < 0.05: non identical in means (H0 rejected)"
   ]
  },
  {
   "cell_type": "markdown",
   "metadata": {},
   "source": [
    "#### Dog vs all Human"
   ]
  },
  {
   "cell_type": "code",
   "execution_count": 39,
   "metadata": {},
   "outputs": [],
   "source": [
    "human_endo= endo.loc[endo.index[endo['organism'].isin(['Westernized human / Urban','Non westernized human / Rural'])] ,'percentage_endo']"
   ]
  },
  {
   "cell_type": "code",
   "execution_count": 40,
   "metadata": {},
   "outputs": [
    {
     "data": {
      "text/plain": [
       "count    118.000000\n",
       "mean       1.247484\n",
       "std        1.912581\n",
       "min        0.012799\n",
       "25%        0.070754\n",
       "50%        0.485618\n",
       "75%        1.846473\n",
       "max       12.722235\n",
       "Name: percentage_endo, dtype: float64"
      ]
     },
     "execution_count": 40,
     "metadata": {},
     "output_type": "execute_result"
    }
   ],
   "source": [
    "human_endo.describe()"
   ]
  },
  {
   "cell_type": "code",
   "execution_count": 41,
   "metadata": {},
   "outputs": [
    {
     "data": {
      "text/plain": [
       "count    150.000000\n",
       "mean       0.106391\n",
       "std        0.158886\n",
       "min        0.005393\n",
       "25%        0.018799\n",
       "50%        0.041548\n",
       "75%        0.100043\n",
       "max        0.865627\n",
       "Name: percentage_endo, dtype: float64"
      ]
     },
     "execution_count": 41,
     "metadata": {},
     "output_type": "execute_result"
    }
   ],
   "source": [
    "dog_endo.describe()"
   ]
  },
  {
   "cell_type": "code",
   "execution_count": 42,
   "metadata": {},
   "outputs": [
    {
     "data": {
      "text/plain": [
       "Ttest_indResult(statistic=-6.463484127567583, pvalue=2.3870509561751575e-09)"
      ]
     },
     "execution_count": 42,
     "metadata": {},
     "output_type": "execute_result"
    }
   ],
   "source": [
    "stats.ttest_ind(dog_endo, human_endo, equal_var=False)"
   ]
  },
  {
   "cell_type": "markdown",
   "metadata": {},
   "source": [
    "The p value is < 0.05: non identical in means (H0 rejected)"
   ]
  }
 ],
 "metadata": {
  "kernelspec": {
   "display_name": "Python [conda env:coproid_article] *",
   "language": "python",
   "name": "conda-env-coproid_article-py"
  },
  "language_info": {
   "codemirror_mode": {
    "name": "ipython",
    "version": 3
   },
   "file_extension": ".py",
   "mimetype": "text/x-python",
   "name": "python",
   "nbconvert_exporter": "python",
   "pygments_lexer": "ipython3",
   "version": "3.6.8"
  }
 },
 "nbformat": 4,
 "nbformat_minor": 2
}
