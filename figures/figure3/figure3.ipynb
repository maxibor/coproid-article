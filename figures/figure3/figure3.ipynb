{
 "cells": [
  {
   "cell_type": "markdown",
   "metadata": {},
   "source": [
    "# Figure 3: Modern population t-SNE embedding"
   ]
  },
  {
   "cell_type": "code",
   "execution_count": 1,
   "metadata": {},
   "outputs": [],
   "source": [
    "import pandas as pd\n",
    "import skbio\n",
    "import sklearn\n",
    "from plotnine import *\n",
    "import numpy as np\n",
    "import multiprocessing\n",
    "from functools import partial\n",
    "from ete3 import NCBITaxa\n",
    "from io import StringIO\n",
    "from skbio.diversity import beta_diversity\n",
    "from skbio.stats.ordination import pcoa as skbio_mds\n",
    "from sklearn.manifold import TSNE\n",
    "from sklearn.neighbors import KNeighborsClassifier\n",
    "from sklearn.model_selection import GridSearchCV\n",
    "from sklearn.model_selection import train_test_split\n",
    "from sklearn.calibration import CalibratedClassifierCV\n",
    "from sklearn.model_selection import cross_val_score\n",
    "from sklearn import metrics\n",
    "from skbio import TreeNode"
   ]
  },
  {
   "cell_type": "code",
   "execution_count": 2,
   "metadata": {},
   "outputs": [],
   "source": [
    "seed=42\n",
    "np.random.seed(seed)"
   ]
  },
  {
   "cell_type": "code",
   "execution_count": 3,
   "metadata": {},
   "outputs": [],
   "source": [
    "modern_sources = pd.read_csv(\"../../data/sourcepredict/modern_gut_microbiomes_sources.csv\", index_col=0)\n",
    "modern_labels = pd.read_csv(\"../../data/sourcepredict/modern_gut_microbiomes_labels.csv\", index_col=0)\n",
    "source_labels = pd.read_csv(\"../../tables/table_s3_reference_sample_acc_list.csv\", sep=\";\", index_col=0)"
   ]
  },
  {
   "cell_type": "code",
   "execution_count": 4,
   "metadata": {},
   "outputs": [],
   "source": [
    "source_labels = source_labels.set_index(source_labels.index.str.replace(\" \",\"\"))"
   ]
  },
  {
   "cell_type": "code",
   "execution_count": 5,
   "metadata": {},
   "outputs": [],
   "source": [
    "def gmpr_size_factor(col, ar):\n",
    "    pr = np.apply_along_axis(lambda x: np.divide(ar[:, col], x), 0, ar)\n",
    "    pr[np.isinf(pr)] = np.nan\n",
    "    pr[pr == 0] = np.nan\n",
    "    pr_median = np.nanmedian(pr, axis=0)\n",
    "    return(np.exp(np.mean(np.log(pr_median))))\n",
    "\n",
    "def GMPR_normalize(df, process):\n",
    "    \"\"\"\n",
    "    Global Mean of Pairwise Ratios\n",
    "    Chen, L., Reeve, J., Zhang, L., Huang, S., Wang, X., & Chen, J. (2018). \n",
    "    GMPR: A robust normalization method for zero-inflated count data \n",
    "    with application to microbiome sequencing data. \n",
    "    PeerJ, 6, e4600.\n",
    "    \"\"\"\n",
    "    ar = np.asarray(df)\n",
    "\n",
    "    gmpr_sf_partial = partial(gmpr_size_factor, ar=ar)\n",
    "    with multiprocessing.Pool(process) as p:\n",
    "        sf = p.map(gmpr_sf_partial, list(range(np.shape(ar)[1])))\n",
    "\n",
    "    return(pd.DataFrame(np.divide(ar, sf), index=df.index, columns=df.columns))"
   ]
  },
  {
   "cell_type": "markdown",
   "metadata": {},
   "source": [
    "## GMPR Normalization"
   ]
  },
  {
   "cell_type": "code",
   "execution_count": 6,
   "metadata": {},
   "outputs": [
    {
     "name": "stderr",
     "output_type": "stream",
     "text": [
      "/projects1/users/borry/15_miniconda3/envs/coproid_article/lib/python3.6/site-packages/ipykernel_launcher.py:2: RuntimeWarning: invalid value encountered in true_divide\n",
      "  \n",
      "/projects1/users/borry/15_miniconda3/envs/coproid_article/lib/python3.6/site-packages/ipykernel_launcher.py:2: RuntimeWarning: divide by zero encountered in true_divide\n",
      "  \n",
      "/projects1/users/borry/15_miniconda3/envs/coproid_article/lib/python3.6/site-packages/ipykernel_launcher.py:2: RuntimeWarning: divide by zero encountered in true_divide\n",
      "  \n",
      "/projects1/users/borry/15_miniconda3/envs/coproid_article/lib/python3.6/site-packages/ipykernel_launcher.py:2: RuntimeWarning: invalid value encountered in true_divide\n",
      "  \n",
      "/projects1/users/borry/15_miniconda3/envs/coproid_article/lib/python3.6/site-packages/ipykernel_launcher.py:2: RuntimeWarning: divide by zero encountered in true_divide\n",
      "  \n",
      "/projects1/users/borry/15_miniconda3/envs/coproid_article/lib/python3.6/site-packages/ipykernel_launcher.py:2: RuntimeWarning: invalid value encountered in true_divide\n",
      "  \n",
      "/projects1/users/borry/15_miniconda3/envs/coproid_article/lib/python3.6/site-packages/ipykernel_launcher.py:2: RuntimeWarning: divide by zero encountered in true_divide\n",
      "  \n",
      "/projects1/users/borry/15_miniconda3/envs/coproid_article/lib/python3.6/site-packages/ipykernel_launcher.py:2: RuntimeWarning: invalid value encountered in true_divide\n",
      "  \n",
      "/projects1/users/borry/15_miniconda3/envs/coproid_article/lib/python3.6/site-packages/ipykernel_launcher.py:2: RuntimeWarning: divide by zero encountered in true_divide\n",
      "  \n",
      "/projects1/users/borry/15_miniconda3/envs/coproid_article/lib/python3.6/site-packages/ipykernel_launcher.py:2: RuntimeWarning: invalid value encountered in true_divide\n",
      "  \n",
      "/projects1/users/borry/15_miniconda3/envs/coproid_article/lib/python3.6/site-packages/ipykernel_launcher.py:2: RuntimeWarning: divide by zero encountered in true_divide\n",
      "  \n",
      "/projects1/users/borry/15_miniconda3/envs/coproid_article/lib/python3.6/site-packages/ipykernel_launcher.py:2: RuntimeWarning: invalid value encountered in true_divide\n",
      "  \n",
      "/projects1/users/borry/15_miniconda3/envs/coproid_article/lib/python3.6/site-packages/ipykernel_launcher.py:2: RuntimeWarning: divide by zero encountered in true_divide\n",
      "  \n",
      "/projects1/users/borry/15_miniconda3/envs/coproid_article/lib/python3.6/site-packages/ipykernel_launcher.py:2: RuntimeWarning: invalid value encountered in true_divide\n",
      "  \n",
      "/projects1/users/borry/15_miniconda3/envs/coproid_article/lib/python3.6/site-packages/ipykernel_launcher.py:2: RuntimeWarning: divide by zero encountered in true_divide\n",
      "  \n",
      "/projects1/users/borry/15_miniconda3/envs/coproid_article/lib/python3.6/site-packages/ipykernel_launcher.py:2: RuntimeWarning: invalid value encountered in true_divide\n",
      "  \n",
      "/projects1/users/borry/15_miniconda3/envs/coproid_article/lib/python3.6/site-packages/ipykernel_launcher.py:2: RuntimeWarning: divide by zero encountered in true_divide\n",
      "  \n",
      "/projects1/users/borry/15_miniconda3/envs/coproid_article/lib/python3.6/site-packages/ipykernel_launcher.py:2: RuntimeWarning: invalid value encountered in true_divide\n",
      "  \n",
      "/projects1/users/borry/15_miniconda3/envs/coproid_article/lib/python3.6/site-packages/ipykernel_launcher.py:2: RuntimeWarning: divide by zero encountered in true_divide\n",
      "  \n",
      "/projects1/users/borry/15_miniconda3/envs/coproid_article/lib/python3.6/site-packages/ipykernel_launcher.py:2: RuntimeWarning: invalid value encountered in true_divide\n",
      "  \n"
     ]
    }
   ],
   "source": [
    "modern_norm = GMPR_normalize(modern_sources, process=10)"
   ]
  },
  {
   "cell_type": "markdown",
   "metadata": {},
   "source": [
    "### Dividing dataset intro train and test"
   ]
  },
  {
   "cell_type": "code",
   "execution_count": 7,
   "metadata": {},
   "outputs": [],
   "source": [
    "training = modern_norm.sample(frac=0.8, axis = 1)"
   ]
  },
  {
   "cell_type": "code",
   "execution_count": 8,
   "metadata": {},
   "outputs": [],
   "source": [
    "test = modern_norm.drop(training.columns, axis=1)"
   ]
  },
  {
   "cell_type": "markdown",
   "metadata": {},
   "source": [
    "#### Panel A: Embedding of the training dataset"
   ]
  },
  {
   "cell_type": "markdown",
   "metadata": {},
   "source": [
    "**Computing the distance matrix**"
   ]
  },
  {
   "cell_type": "code",
   "execution_count": 9,
   "metadata": {},
   "outputs": [],
   "source": [
    " def compute_distance(df, rank='species'):\n",
    "        \"\"\"\n",
    "        Sample pairwise distance computation\n",
    "        Args:\n",
    "            - rank(str): Taxonomics rank to keep for filtering OTUs\n",
    "        \"\"\"\n",
    "\n",
    "        # Getting a single Taxonomic rank\n",
    "        ncbi = NCBITaxa()\n",
    "        only_rank = []\n",
    "        for i in list(df.index):\n",
    "            try:\n",
    "                if ncbi.get_rank([i])[i] == rank:\n",
    "                    only_rank.append(i)\n",
    "            except KeyError:\n",
    "                continue\n",
    "        df_rank = df.loc[only_rank, :].T\n",
    "        tree = ncbi.get_topology(list(df_rank.columns), intermediate_nodes=False)\n",
    "        newick = TreeNode.read(StringIO(tree.write()))\n",
    "        df_wu = beta_diversity(\"weighted_unifrac\", counts=df_rank.values.astype(int), ids=list(df_rank.index), otu_ids=[str(i) for i in list(df_rank.columns)], tree=newick)\n",
    "        df_wu = df_wu.to_data_frame()\n",
    "        return(df_wu)"
   ]
  },
  {
   "cell_type": "code",
   "execution_count": 10,
   "metadata": {},
   "outputs": [],
   "source": [
    "training_wu_df = compute_distance(training)"
   ]
  },
  {
   "cell_type": "markdown",
   "metadata": {},
   "source": [
    "**TSNE Embedding**"
   ]
  },
  {
   "cell_type": "code",
   "execution_count": 11,
   "metadata": {},
   "outputs": [],
   "source": [
    "tsne = TSNE(metric='precomputed',n_components=2, random_state=seed)\n",
    "train_embed = tsne.fit(np.matrix(training_wu_df))"
   ]
  },
  {
   "cell_type": "code",
   "execution_count": 12,
   "metadata": {},
   "outputs": [],
   "source": [
    "train_embed = pd.DataFrame(train_embed.embedding_, columns = ['DIM1','DIM2'], index = training_wu_df.index)"
   ]
  },
  {
   "cell_type": "code",
   "execution_count": 13,
   "metadata": {},
   "outputs": [],
   "source": [
    "train_embed_plot =train_embed.merge(source_labels, left_index=True, right_index=True)"
   ]
  },
  {
   "cell_type": "code",
   "execution_count": 14,
   "metadata": {},
   "outputs": [],
   "source": [
    "train_embed_plot.to_csv(\"results/train_embed_plot.csv\")"
   ]
  },
  {
   "cell_type": "code",
   "execution_count": 30,
   "metadata": {},
   "outputs": [],
   "source": [
    "train_embed_plot = pd.read_csv(\"results/train_embed_plot.csv\", index_col=0)"
   ]
  },
  {
   "cell_type": "code",
   "execution_count": 36,
   "metadata": {},
   "outputs": [],
   "source": [
    "train_embed_plot['Type'] = train_embed_plot['Type'].str.replace('Canis familiaris','Dog').replace('Non Westernized Human', 'Non Westernized human / Rural').replace('Westernized human', 'Westernized human / Urban')\n",
    "train_embed_plot['Type'] = pd.Categorical(train_embed_plot['Type'], categories=['Non Westernized human / Rural', 'Westernized human / Urban','Dog', 'Soil'], ordered=True)"
   ]
  },
  {
   "cell_type": "code",
   "execution_count": 38,
   "metadata": {},
   "outputs": [
    {
     "name": "stderr",
     "output_type": "stream",
     "text": [
      "/projects1/users/borry/15_miniconda3/envs/coproid_article/lib/python3.6/site-packages/plotnine/ggplot.py:706: PlotnineWarning: Saving 6.4 x 4.8 in image.\n",
      "  from_inches(height, units), units), PlotnineWarning)\n",
      "/projects1/users/borry/15_miniconda3/envs/coproid_article/lib/python3.6/site-packages/plotnine/ggplot.py:707: PlotnineWarning: Filename: results/figure3A.png\n",
      "  warn('Filename: {}'.format(filename), PlotnineWarning)\n"
     ]
    },
    {
     "data": {
      "image/png": "[encoded data removed]",
      "text/plain": [
       "<Figure size 640x480 with 1 Axes>"
      ]
     },
     "metadata": {},
     "output_type": "display_data"
    }
   ],
   "source": [
    "p = ggplot(train_embed_plot, aes(x='DIM1',y='DIM2')) + geom_point(aes(fill='Type'), stroke=0.5, color='black', size = 2)\n",
    "p = p + scale_fill_manual(name = 'Source', values = {\"Dog\":\"#2166ac\", \"Non Westernized human / Rural\":\"#ff7b00\", \"Westernized human / Urban\":\"#c40000\", \"Soil\":\"#75a51c\"}) + theme_classic()\n",
    "p.draw()\n",
    "p.save('results/figure3A.png', dpi=300)"
   ]
  },
  {
   "cell_type": "markdown",
   "metadata": {},
   "source": [
    "#### Panel B: Embedding training and test dataset, then KNN to predict test sources"
   ]
  },
  {
   "cell_type": "code",
   "execution_count": 39,
   "metadata": {},
   "outputs": [],
   "source": [
    "training_labels = modern_labels.loc[training_wu_df.index,:]"
   ]
  },
  {
   "cell_type": "markdown",
   "metadata": {},
   "source": [
    "**Computing the distance matrix on all data**"
   ]
  },
  {
   "cell_type": "code",
   "execution_count": 40,
   "metadata": {},
   "outputs": [],
   "source": [
    "all_wu_df = compute_distance(modern_sources)"
   ]
  },
  {
   "cell_type": "markdown",
   "metadata": {},
   "source": [
    "**TSNE Embedding**"
   ]
  },
  {
   "cell_type": "code",
   "execution_count": 41,
   "metadata": {},
   "outputs": [],
   "source": [
    "all_embed = tsne.fit(np.matrix(all_wu_df))"
   ]
  },
  {
   "cell_type": "code",
   "execution_count": 42,
   "metadata": {},
   "outputs": [],
   "source": [
    "all_embed = pd.DataFrame(all_embed.embedding_, columns = ['DIM1','DIM2'], index = all_wu_df.index)"
   ]
  },
  {
   "cell_type": "code",
   "execution_count": 43,
   "metadata": {},
   "outputs": [
    {
     "data": {
      "text/html": [
       "<div>\n",
       "<style scoped>\n",
       "    .dataframe tbody tr th:only-of-type {\n",
       "        vertical-align: middle;\n",
       "    }\n",
       "\n",
       "    .dataframe tbody tr th {\n",
       "        vertical-align: top;\n",
       "    }\n",
       "\n",
       "    .dataframe thead th {\n",
       "        text-align: right;\n",
       "    }\n",
       "</style>\n",
       "<table border=\"1\" class=\"dataframe\">\n",
       "  <thead>\n",
       "    <tr style=\"text-align: right;\">\n",
       "      <th></th>\n",
       "      <th>DIM1</th>\n",
       "      <th>DIM2</th>\n",
       "    </tr>\n",
       "  </thead>\n",
       "  <tbody>\n",
       "    <tr>\n",
       "      <th>SRR1175007</th>\n",
       "      <td>-5.868009</td>\n",
       "      <td>23.966011</td>\n",
       "    </tr>\n",
       "    <tr>\n",
       "      <th>SRR042182</th>\n",
       "      <td>-2.575737</td>\n",
       "      <td>18.508326</td>\n",
       "    </tr>\n",
       "    <tr>\n",
       "      <th>SRR061154</th>\n",
       "      <td>-4.845985</td>\n",
       "      <td>26.702312</td>\n",
       "    </tr>\n",
       "    <tr>\n",
       "      <th>SRR061499</th>\n",
       "      <td>-2.719011</td>\n",
       "      <td>21.911171</td>\n",
       "    </tr>\n",
       "    <tr>\n",
       "      <th>SRR063469</th>\n",
       "      <td>-4.245211</td>\n",
       "      <td>18.902060</td>\n",
       "    </tr>\n",
       "    <tr>\n",
       "      <th>SRR062324</th>\n",
       "      <td>-3.230138</td>\n",
       "      <td>21.865330</td>\n",
       "    </tr>\n",
       "    <tr>\n",
       "      <th>SRR1179037</th>\n",
       "      <td>-5.463374</td>\n",
       "      <td>24.208561</td>\n",
       "    </tr>\n",
       "    <tr>\n",
       "      <th>SRR061236</th>\n",
       "      <td>-5.153660</td>\n",
       "      <td>25.393593</td>\n",
       "    </tr>\n",
       "    <tr>\n",
       "      <th>SRR061456</th>\n",
       "      <td>-4.295001</td>\n",
       "      <td>24.603697</td>\n",
       "    </tr>\n",
       "    <tr>\n",
       "      <th>SRR642021</th>\n",
       "      <td>-0.919046</td>\n",
       "      <td>26.423836</td>\n",
       "    </tr>\n",
       "    <tr>\n",
       "      <th>SRR1175013</th>\n",
       "      <td>-3.370466</td>\n",
       "      <td>19.672388</td>\n",
       "    </tr>\n",
       "    <tr>\n",
       "      <th>SRR062457</th>\n",
       "      <td>-2.279190</td>\n",
       "      <td>16.547274</td>\n",
       "    </tr>\n",
       "    <tr>\n",
       "      <th>SRR062447</th>\n",
       "      <td>-1.252785</td>\n",
       "      <td>18.737438</td>\n",
       "    </tr>\n",
       "    <tr>\n",
       "      <th>SRR1179031</th>\n",
       "      <td>-1.367093</td>\n",
       "      <td>20.384087</td>\n",
       "    </tr>\n",
       "    <tr>\n",
       "      <th>SRR062375</th>\n",
       "      <td>-2.279569</td>\n",
       "      <td>16.540371</td>\n",
       "    </tr>\n",
       "    <tr>\n",
       "      <th>SRR1179053</th>\n",
       "      <td>-2.283666</td>\n",
       "      <td>24.149839</td>\n",
       "    </tr>\n",
       "    <tr>\n",
       "      <th>SRR1179033</th>\n",
       "      <td>-2.441766</td>\n",
       "      <td>24.240774</td>\n",
       "    </tr>\n",
       "    <tr>\n",
       "      <th>SRR061140</th>\n",
       "      <td>-3.464426</td>\n",
       "      <td>22.969599</td>\n",
       "    </tr>\n",
       "    <tr>\n",
       "      <th>SRR646449</th>\n",
       "      <td>0.523374</td>\n",
       "      <td>4.293319</td>\n",
       "    </tr>\n",
       "    <tr>\n",
       "      <th>SRR063471</th>\n",
       "      <td>-4.329063</td>\n",
       "      <td>26.294075</td>\n",
       "    </tr>\n",
       "    <tr>\n",
       "      <th>SRR059440</th>\n",
       "      <td>0.162144</td>\n",
       "      <td>20.064606</td>\n",
       "    </tr>\n",
       "    <tr>\n",
       "      <th>SRR061254</th>\n",
       "      <td>-5.591019</td>\n",
       "      <td>26.225828</td>\n",
       "    </tr>\n",
       "    <tr>\n",
       "      <th>SRR059388</th>\n",
       "      <td>-6.478718</td>\n",
       "      <td>26.053061</td>\n",
       "    </tr>\n",
       "    <tr>\n",
       "      <th>SRR059354</th>\n",
       "      <td>-3.988355</td>\n",
       "      <td>23.457373</td>\n",
       "    </tr>\n",
       "    <tr>\n",
       "      <th>SRR061556</th>\n",
       "      <td>-5.907353</td>\n",
       "      <td>25.407986</td>\n",
       "    </tr>\n",
       "    <tr>\n",
       "      <th>SRR1179049</th>\n",
       "      <td>-1.183856</td>\n",
       "      <td>20.382620</td>\n",
       "    </tr>\n",
       "    <tr>\n",
       "      <th>SRR1175001</th>\n",
       "      <td>-1.229387</td>\n",
       "      <td>20.385885</td>\n",
       "    </tr>\n",
       "    <tr>\n",
       "      <th>SRR062388</th>\n",
       "      <td>-5.600964</td>\n",
       "      <td>14.122791</td>\n",
       "    </tr>\n",
       "    <tr>\n",
       "      <th>SRR346691</th>\n",
       "      <td>-1.311523</td>\n",
       "      <td>22.414579</td>\n",
       "    </tr>\n",
       "    <tr>\n",
       "      <th>SRR1179027</th>\n",
       "      <td>-3.414136</td>\n",
       "      <td>19.616106</td>\n",
       "    </tr>\n",
       "    <tr>\n",
       "      <th>...</th>\n",
       "      <td>...</td>\n",
       "      <td>...</td>\n",
       "    </tr>\n",
       "    <tr>\n",
       "      <th>ERR1915225</th>\n",
       "      <td>17.215380</td>\n",
       "      <td>6.299786</td>\n",
       "    </tr>\n",
       "    <tr>\n",
       "      <th>ERR1914438</th>\n",
       "      <td>26.435949</td>\n",
       "      <td>8.609532</td>\n",
       "    </tr>\n",
       "    <tr>\n",
       "      <th>ERR1915094</th>\n",
       "      <td>13.043622</td>\n",
       "      <td>4.813087</td>\n",
       "    </tr>\n",
       "    <tr>\n",
       "      <th>ERR1915011</th>\n",
       "      <td>24.179398</td>\n",
       "      <td>0.191410</td>\n",
       "    </tr>\n",
       "    <tr>\n",
       "      <th>ERR1914302</th>\n",
       "      <td>22.731018</td>\n",
       "      <td>-4.806576</td>\n",
       "    </tr>\n",
       "    <tr>\n",
       "      <th>ERR1914332</th>\n",
       "      <td>22.677704</td>\n",
       "      <td>-6.200301</td>\n",
       "    </tr>\n",
       "    <tr>\n",
       "      <th>ERR1915751</th>\n",
       "      <td>20.671040</td>\n",
       "      <td>5.093472</td>\n",
       "    </tr>\n",
       "    <tr>\n",
       "      <th>ERR1916315</th>\n",
       "      <td>21.053135</td>\n",
       "      <td>8.171391</td>\n",
       "    </tr>\n",
       "    <tr>\n",
       "      <th>ERR1914674</th>\n",
       "      <td>18.547144</td>\n",
       "      <td>8.506922</td>\n",
       "    </tr>\n",
       "    <tr>\n",
       "      <th>ERR1913542</th>\n",
       "      <td>25.684793</td>\n",
       "      <td>12.541162</td>\n",
       "    </tr>\n",
       "    <tr>\n",
       "      <th>mgm4477803_3</th>\n",
       "      <td>-10.965771</td>\n",
       "      <td>-31.145178</td>\n",
       "    </tr>\n",
       "    <tr>\n",
       "      <th>mgm4477900_3</th>\n",
       "      <td>-8.966432</td>\n",
       "      <td>-31.427860</td>\n",
       "    </tr>\n",
       "    <tr>\n",
       "      <th>mgm4477872_3</th>\n",
       "      <td>-10.229630</td>\n",
       "      <td>-31.819277</td>\n",
       "    </tr>\n",
       "    <tr>\n",
       "      <th>mgm4477805_3</th>\n",
       "      <td>-10.461275</td>\n",
       "      <td>-32.526691</td>\n",
       "    </tr>\n",
       "    <tr>\n",
       "      <th>mgm4477901_3</th>\n",
       "      <td>-10.593592</td>\n",
       "      <td>-33.965103</td>\n",
       "    </tr>\n",
       "    <tr>\n",
       "      <th>mgm4477876_3</th>\n",
       "      <td>-5.674944</td>\n",
       "      <td>-32.169521</td>\n",
       "    </tr>\n",
       "    <tr>\n",
       "      <th>mgm4477875_3</th>\n",
       "      <td>-7.482894</td>\n",
       "      <td>-32.324512</td>\n",
       "    </tr>\n",
       "    <tr>\n",
       "      <th>mgm4477902_3</th>\n",
       "      <td>-9.371721</td>\n",
       "      <td>-33.232864</td>\n",
       "    </tr>\n",
       "    <tr>\n",
       "      <th>mgm4477899_3</th>\n",
       "      <td>-6.341975</td>\n",
       "      <td>-32.560921</td>\n",
       "    </tr>\n",
       "    <tr>\n",
       "      <th>mgm4477877_3</th>\n",
       "      <td>-6.274822</td>\n",
       "      <td>-32.730404</td>\n",
       "    </tr>\n",
       "    <tr>\n",
       "      <th>mgm4477903_3</th>\n",
       "      <td>-9.907063</td>\n",
       "      <td>-33.784534</td>\n",
       "    </tr>\n",
       "    <tr>\n",
       "      <th>mgm4477807_3</th>\n",
       "      <td>-7.277718</td>\n",
       "      <td>-31.521055</td>\n",
       "    </tr>\n",
       "    <tr>\n",
       "      <th>mgm4477874_3</th>\n",
       "      <td>-6.050888</td>\n",
       "      <td>-31.954384</td>\n",
       "    </tr>\n",
       "    <tr>\n",
       "      <th>mgm4477904_3</th>\n",
       "      <td>-9.743629</td>\n",
       "      <td>-33.342300</td>\n",
       "    </tr>\n",
       "    <tr>\n",
       "      <th>mgm4477804_3</th>\n",
       "      <td>-7.835879</td>\n",
       "      <td>-32.783104</td>\n",
       "    </tr>\n",
       "    <tr>\n",
       "      <th>mgm4477873_3</th>\n",
       "      <td>-9.629528</td>\n",
       "      <td>-32.400017</td>\n",
       "    </tr>\n",
       "    <tr>\n",
       "      <th>ERR1939166</th>\n",
       "      <td>-8.195903</td>\n",
       "      <td>-31.732800</td>\n",
       "    </tr>\n",
       "    <tr>\n",
       "      <th>SRR3578625</th>\n",
       "      <td>-8.904221</td>\n",
       "      <td>-26.730005</td>\n",
       "    </tr>\n",
       "    <tr>\n",
       "      <th>ERR1939165</th>\n",
       "      <td>-8.592472</td>\n",
       "      <td>-32.209961</td>\n",
       "    </tr>\n",
       "    <tr>\n",
       "      <th>SRR3578645</th>\n",
       "      <td>-8.903599</td>\n",
       "      <td>-26.739834</td>\n",
       "    </tr>\n",
       "  </tbody>\n",
       "</table>\n",
       "<p>432 rows × 2 columns</p>\n",
       "</div>"
      ],
      "text/plain": [
       "                   DIM1       DIM2\n",
       "SRR1175007    -5.868009  23.966011\n",
       "SRR042182     -2.575737  18.508326\n",
       "SRR061154     -4.845985  26.702312\n",
       "SRR061499     -2.719011  21.911171\n",
       "SRR063469     -4.245211  18.902060\n",
       "SRR062324     -3.230138  21.865330\n",
       "SRR1179037    -5.463374  24.208561\n",
       "SRR061236     -5.153660  25.393593\n",
       "SRR061456     -4.295001  24.603697\n",
       "SRR642021     -0.919046  26.423836\n",
       "SRR1175013    -3.370466  19.672388\n",
       "SRR062457     -2.279190  16.547274\n",
       "SRR062447     -1.252785  18.737438\n",
       "SRR1179031    -1.367093  20.384087\n",
       "SRR062375     -2.279569  16.540371\n",
       "SRR1179053    -2.283666  24.149839\n",
       "SRR1179033    -2.441766  24.240774\n",
       "SRR061140     -3.464426  22.969599\n",
       "SRR646449      0.523374   4.293319\n",
       "SRR063471     -4.329063  26.294075\n",
       "SRR059440      0.162144  20.064606\n",
       "SRR061254     -5.591019  26.225828\n",
       "SRR059388     -6.478718  26.053061\n",
       "SRR059354     -3.988355  23.457373\n",
       "SRR061556     -5.907353  25.407986\n",
       "SRR1179049    -1.183856  20.382620\n",
       "SRR1175001    -1.229387  20.385885\n",
       "SRR062388     -5.600964  14.122791\n",
       "SRR346691     -1.311523  22.414579\n",
       "SRR1179027    -3.414136  19.616106\n",
       "...                 ...        ...\n",
       "ERR1915225    17.215380   6.299786\n",
       "ERR1914438    26.435949   8.609532\n",
       "ERR1915094    13.043622   4.813087\n",
       "ERR1915011    24.179398   0.191410\n",
       "ERR1914302    22.731018  -4.806576\n",
       "ERR1914332    22.677704  -6.200301\n",
       "ERR1915751    20.671040   5.093472\n",
       "ERR1916315    21.053135   8.171391\n",
       "ERR1914674    18.547144   8.506922\n",
       "ERR1913542    25.684793  12.541162\n",
       "mgm4477803_3 -10.965771 -31.145178\n",
       "mgm4477900_3  -8.966432 -31.427860\n",
       "mgm4477872_3 -10.229630 -31.819277\n",
       "mgm4477805_3 -10.461275 -32.526691\n",
       "mgm4477901_3 -10.593592 -33.965103\n",
       "mgm4477876_3  -5.674944 -32.169521\n",
       "mgm4477875_3  -7.482894 -32.324512\n",
       "mgm4477902_3  -9.371721 -33.232864\n",
       "mgm4477899_3  -6.341975 -32.560921\n",
       "mgm4477877_3  -6.274822 -32.730404\n",
       "mgm4477903_3  -9.907063 -33.784534\n",
       "mgm4477807_3  -7.277718 -31.521055\n",
       "mgm4477874_3  -6.050888 -31.954384\n",
       "mgm4477904_3  -9.743629 -33.342300\n",
       "mgm4477804_3  -7.835879 -32.783104\n",
       "mgm4477873_3  -9.629528 -32.400017\n",
       "ERR1939166    -8.195903 -31.732800\n",
       "SRR3578625    -8.904221 -26.730005\n",
       "ERR1939165    -8.592472 -32.209961\n",
       "SRR3578645    -8.903599 -26.739834\n",
       "\n",
       "[432 rows x 2 columns]"
      ]
     },
     "execution_count": 43,
     "metadata": {},
     "output_type": "execute_result"
    }
   ],
   "source": [
    "all_embed"
   ]
  },
  {
   "cell_type": "code",
   "execution_count": 44,
   "metadata": {},
   "outputs": [],
   "source": [
    "all_embed = all_embed.merge(source_labels['Type'], left_index=True, right_index=True)"
   ]
  },
  {
   "cell_type": "markdown",
   "metadata": {},
   "source": [
    "#### KNN machine learning"
   ]
  },
  {
   "cell_type": "markdown",
   "metadata": {},
   "source": [
    "**Splitting the train dataset in training and validation**"
   ]
  },
  {
   "cell_type": "code",
   "execution_count": 45,
   "metadata": {},
   "outputs": [],
   "source": [
    "train_ds = all_embed.loc[train_embed.index,:]"
   ]
  },
  {
   "cell_type": "code",
   "execution_count": 46,
   "metadata": {},
   "outputs": [],
   "source": [
    "test_ds = all_embed.drop(train_ds.index, axis=0)"
   ]
  },
  {
   "cell_type": "code",
   "execution_count": 47,
   "metadata": {},
   "outputs": [],
   "source": [
    "train_features, valid_features, train_labels, valid_labels = train_test_split(train_ds.drop('Type', axis=1), \n",
    "                                                                              train_ds.loc[:, 'Type'], \n",
    "                                                                              test_size=0.2, \n",
    "                                                                              random_state=seed)"
   ]
  },
  {
   "cell_type": "code",
   "execution_count": 48,
   "metadata": {},
   "outputs": [],
   "source": [
    "train_with_labels = train_features.merge(train_labels, left_index=True, right_index=True)"
   ]
  },
  {
   "cell_type": "code",
   "execution_count": 49,
   "metadata": {},
   "outputs": [],
   "source": [
    "train_features, valid_calibrate_features, train_labels, valid_calibrate_labels = train_test_split(train_with_labels.drop('Type', axis=1), \n",
    "                                                                              train_with_labels.loc[:, 'Type'], \n",
    "                                                                              test_size=0.2, \n",
    "                                                                              random_state=seed)"
   ]
  },
  {
   "cell_type": "markdown",
   "metadata": {},
   "source": [
    "**Cross validation search of best KNN parameters (Number of Neighbors)**"
   ]
  },
  {
   "cell_type": "code",
   "execution_count": 50,
   "metadata": {},
   "outputs": [],
   "source": [
    "knn = KNeighborsClassifier(n_jobs=10)"
   ]
  },
  {
   "cell_type": "code",
   "execution_count": 51,
   "metadata": {},
   "outputs": [],
   "source": [
    "param_knn_grid = {'n_neighbors': [10, 20, 50]}"
   ]
  },
  {
   "cell_type": "code",
   "execution_count": 52,
   "metadata": {},
   "outputs": [],
   "source": [
    "CV_knn = GridSearchCV(estimator=knn, param_grid=param_knn_grid, cv=3, n_jobs=10)"
   ]
  },
  {
   "cell_type": "code",
   "execution_count": 53,
   "metadata": {},
   "outputs": [
    {
     "name": "stderr",
     "output_type": "stream",
     "text": [
      "/projects1/users/borry/15_miniconda3/envs/coproid_article/lib/python3.6/site-packages/sklearn/model_selection/_search.py:813: DeprecationWarning: The default of the `iid` parameter will change from True to False in version 0.22 and will be removed in 0.24. This will change numeric results when test-set sizes are unequal.\n",
      "  DeprecationWarning)\n"
     ]
    },
    {
     "data": {
      "text/plain": [
       "GridSearchCV(cv=3, error_score='raise-deprecating',\n",
       "             estimator=KNeighborsClassifier(algorithm='auto', leaf_size=30,\n",
       "                                            metric='minkowski',\n",
       "                                            metric_params=None, n_jobs=10,\n",
       "                                            n_neighbors=5, p=2,\n",
       "                                            weights='uniform'),\n",
       "             iid='warn', n_jobs=10, param_grid={'n_neighbors': [10, 20, 50]},\n",
       "             pre_dispatch='2*n_jobs', refit=True, return_train_score=False,\n",
       "             scoring=None, verbose=0)"
      ]
     },
     "execution_count": 53,
     "metadata": {},
     "output_type": "execute_result"
    }
   ],
   "source": [
    "CV_knn.fit(train_features, train_labels)"
   ]
  },
  {
   "cell_type": "markdown",
   "metadata": {},
   "source": [
    "**Training the KNN classifier with best parameters**"
   ]
  },
  {
   "cell_type": "code",
   "execution_count": 54,
   "metadata": {},
   "outputs": [],
   "source": [
    "knn1 = KNeighborsClassifier(n_neighbors=CV_knn.best_params_['n_neighbors'], weights='distance', n_jobs=10)"
   ]
  },
  {
   "cell_type": "code",
   "execution_count": 55,
   "metadata": {},
   "outputs": [
    {
     "data": {
      "text/plain": [
       "KNeighborsClassifier(algorithm='auto', leaf_size=30, metric='minkowski',\n",
       "                     metric_params=None, n_jobs=10, n_neighbors=10, p=2,\n",
       "                     weights='distance')"
      ]
     },
     "execution_count": 55,
     "metadata": {},
     "output_type": "execute_result"
    }
   ],
   "source": [
    "knn1.fit(train_features, train_labels)"
   ]
  },
  {
   "cell_type": "markdown",
   "metadata": {},
   "source": [
    "**Prediction the validation source labels**"
   ]
  },
  {
   "cell_type": "code",
   "execution_count": 56,
   "metadata": {},
   "outputs": [],
   "source": [
    "y_pred = knn1.predict(valid_features)"
   ]
  },
  {
   "cell_type": "code",
   "execution_count": 57,
   "metadata": {},
   "outputs": [
    {
     "name": "stdout",
     "output_type": "stream",
     "text": [
      "Validation Accuracy: 0.99\n"
     ]
    }
   ],
   "source": [
    "print(\"Validation Accuracy:\", round(metrics.accuracy_score(valid_labels, y_pred), 2))"
   ]
  },
  {
   "cell_type": "markdown",
   "metadata": {},
   "source": [
    "**Correcting Trained KNN model for Class probability estimation with Platt scaling**"
   ]
  },
  {
   "cell_type": "code",
   "execution_count": 58,
   "metadata": {},
   "outputs": [],
   "source": [
    "cal_knn = CalibratedClassifierCV(knn1, cv='prefit', method='sigmoid')"
   ]
  },
  {
   "cell_type": "code",
   "execution_count": 59,
   "metadata": {},
   "outputs": [
    {
     "data": {
      "text/plain": [
       "CalibratedClassifierCV(base_estimator=KNeighborsClassifier(algorithm='auto',\n",
       "                                                           leaf_size=30,\n",
       "                                                           metric='minkowski',\n",
       "                                                           metric_params=None,\n",
       "                                                           n_jobs=10,\n",
       "                                                           n_neighbors=10, p=2,\n",
       "                                                           weights='distance'),\n",
       "                       cv='prefit', method='sigmoid')"
      ]
     },
     "execution_count": 59,
     "metadata": {},
     "output_type": "execute_result"
    }
   ],
   "source": [
    "cal_knn.fit(valid_calibrate_features, valid_calibrate_labels)"
   ]
  },
  {
   "cell_type": "markdown",
   "metadata": {},
   "source": [
    "**Predicting the labels of the test dataset**"
   ]
  },
  {
   "cell_type": "code",
   "execution_count": 60,
   "metadata": {},
   "outputs": [],
   "source": [
    "test_pred = cal_knn.predict(test_ds.drop('Type', axis=1))"
   ]
  },
  {
   "cell_type": "code",
   "execution_count": 61,
   "metadata": {},
   "outputs": [
    {
     "name": "stdout",
     "output_type": "stream",
     "text": [
      "Test Accuracy: 0.99\n"
     ]
    }
   ],
   "source": [
    "print(\"Test Accuracy:\", round(metrics.accuracy_score(test_ds['Type'], test_pred), 2))"
   ]
  },
  {
   "cell_type": "code",
   "execution_count": 62,
   "metadata": {},
   "outputs": [],
   "source": [
    "predict_ds = test_ds.drop('Type', axis=1)"
   ]
  },
  {
   "cell_type": "code",
   "execution_count": 63,
   "metadata": {},
   "outputs": [],
   "source": [
    "predict_ds['Type'] = test_pred"
   ]
  },
  {
   "cell_type": "code",
   "execution_count": 64,
   "metadata": {},
   "outputs": [],
   "source": [
    "combined_test = test_ds.append(predict_ds)"
   ]
  },
  {
   "cell_type": "code",
   "execution_count": 65,
   "metadata": {},
   "outputs": [],
   "source": [
    "combined_test['ml'] = ['Actual']*test_ds.shape[0]+['Predicted']*predict_ds.shape[0]"
   ]
  },
  {
   "cell_type": "code",
   "execution_count": 66,
   "metadata": {},
   "outputs": [],
   "source": [
    "combined_test['ml'] = combined_test['ml'].astype('category').cat.reorder_categories(['Actual','Predicted'])"
   ]
  },
  {
   "cell_type": "code",
   "execution_count": 68,
   "metadata": {},
   "outputs": [],
   "source": [
    "combined_test['Type'] = combined_test['Type'].str.replace('Canis familiaris','Dog').replace('Non Westernized Human', 'Non Westernized human / Rural').replace('Westernized human', 'Westernized human / Urban')\n",
    "combined_test['Type'] = pd.Categorical(combined_test['Type'], categories=['Non Westernized human / Rural', 'Westernized human / Urban','Dog', 'Soil'], ordered=True)"
   ]
  },
  {
   "cell_type": "code",
   "execution_count": 80,
   "metadata": {},
   "outputs": [
    {
     "name": "stderr",
     "output_type": "stream",
     "text": [
      "/projects1/users/borry/15_miniconda3/envs/coproid_article/lib/python3.6/site-packages/ipykernel_launcher.py:2: SettingWithCopyWarning: \n",
      "A value is trying to be set on a copy of a slice from a DataFrame.\n",
      "Try using .loc[row_indexer,col_indexer] = value instead\n",
      "\n",
      "See the caveats in the documentation: http://pandas.pydata.org/pandas-docs/stable/indexing.html#indexing-view-versus-copy\n",
      "  \n"
     ]
    }
   ],
   "source": [
    "combined_test_actual = combined_test.query('ml == \"Actual\"')\n",
    "combined_test_actual['size'] = combined_test_actual.shape[0] * [3]"
   ]
  },
  {
   "cell_type": "code",
   "execution_count": 83,
   "metadata": {},
   "outputs": [
    {
     "name": "stderr",
     "output_type": "stream",
     "text": [
      "/projects1/users/borry/15_miniconda3/envs/coproid_article/lib/python3.6/site-packages/ipykernel_launcher.py:2: SettingWithCopyWarning: \n",
      "A value is trying to be set on a copy of a slice from a DataFrame.\n",
      "Try using .loc[row_indexer,col_indexer] = value instead\n",
      "\n",
      "See the caveats in the documentation: http://pandas.pydata.org/pandas-docs/stable/indexing.html#indexing-view-versus-copy\n",
      "  \n"
     ]
    }
   ],
   "source": [
    "combined_test_predicted = combined_test.query('ml == \"Predicted\"')\n",
    "combined_test_predicted['size'] = combined_test_predicted.shape[0] * [1]"
   ]
  },
  {
   "cell_type": "code",
   "execution_count": 112,
   "metadata": {},
   "outputs": [
    {
     "name": "stderr",
     "output_type": "stream",
     "text": [
      "/projects1/users/borry/15_miniconda3/envs/coproid_article/lib/python3.6/site-packages/plotnine/ggplot.py:706: PlotnineWarning: Saving 6.4 x 4.8 in image.\n",
      "  from_inches(height, units), units), PlotnineWarning)\n",
      "/projects1/users/borry/15_miniconda3/envs/coproid_article/lib/python3.6/site-packages/plotnine/ggplot.py:707: PlotnineWarning: Filename: results/figure3B.png\n",
      "  warn('Filename: {}'.format(filename), PlotnineWarning)\n"
     ]
    },
    {
     "data": {
      "image/png": "[encoded data removed]",
      "text/plain": [
       "<Figure size 640x480 with 1 Axes>"
      ]
     },
     "metadata": {},
     "output_type": "display_data"
    }
   ],
   "source": [
    "p = ggplot(combined_test_actual, aes(x='DIM1',y='DIM2')) + geom_point(aes(color='Type'), size=3, shape='o', fill = 'white', stroke=1)\n",
    "p = p + geom_point(data=combined_test_predicted, mapping=aes(x='DIM1',y='DIM2', fill='Type'), size=2, color='white', stroke=0.5)\n",
    "p = p + scale_color_manual(name = 'Reference', values = {\"Dog\":\"#2166ac\", \"Non Westernized human / Rural\":\"#ff7b00\", \"Westernized human / Urban\":\"#c40000\", \"Soil\":\"#75a51c\"})\n",
    "p = p + theme_classic() + scale_fill_manual(name = 'Prediction', values = {\"Dog\":\"#2166ac\", \"Non Westernized human / Rural\":\"#ff7b00\", \"Westernized human / Urban\":\"#c40000\", \"Soil\":\"#75a51c\"})\n",
    "p = p +  coord_flip() + scale_y_reverse() + scale_x_reverse() \n",
    "p.draw()\n",
    "p.save('results/figure3B.png', dpi=300)"
   ]
  }
 ],
 "metadata": {
  "kernelspec": {
   "display_name": "Python [conda env:coproid_article] *",
   "language": "python",
   "name": "conda-env-coproid_article-py"
  },
  "language_info": {
   "codemirror_mode": {
    "name": "ipython",
    "version": 3
   },
   "file_extension": ".py",
   "mimetype": "text/x-python",
   "name": "python",
   "nbconvert_exporter": "python",
   "pygments_lexer": "ipython3",
   "version": "3.6.8"
  }
 },
 "nbformat": 4,
 "nbformat_minor": 2
}
