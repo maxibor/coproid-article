{
 "cells": [
  {
   "cell_type": "markdown",
   "metadata": {
    "slideshow": {
     "slide_type": "slide"
    }
   },
   "source": [
    "# Figure 3: Host DNA percentage"
   ]
  },
  {
   "cell_type": "markdown",
   "metadata": {
    "slideshow": {
     "slide_type": "fragment"
    }
   },
   "source": [
    "## A: Human host DNA percentage"
   ]
  },
  {
   "cell_type": "markdown",
   "metadata": {
    "slideshow": {
     "slide_type": "subslide"
    }
   },
   "source": [
    "Importing libraries"
   ]
  },
  {
   "cell_type": "code",
   "execution_count": 1,
   "metadata": {
    "slideshow": {
     "slide_type": "slide"
    }
   },
   "outputs": [],
   "source": [
    "import multiprocessing\n",
    "import pandas as pd\n",
    "import subprocess\n",
    "import pysam\n",
    "import os\n",
    "from tqdm import tqdm\n",
    "from functools import partial\n",
    "import matplotlib.pyplot as plt\n",
    "import seaborn as sns\n",
    "from scipy import stats\n",
    "import re\n",
    "from plotnine import *"
   ]
  },
  {
   "cell_type": "markdown",
   "metadata": {},
   "source": [
    "### Summary of BAM files generate by [Anonymap](https://github.com/maxibor/anonymap)\n",
    "\n",
    "|     Lab    |    Contact    | Origin of samples | Number of samples | Reference human genome used | Westernized ?|\n",
    "|:----------:|:-------------:|:-----------------:|:-----------------:|:---------------------------:|:-------------|\n",
    "| Kostic Lab | Marsha Wibowo |         ?         |         49        |            GRCh38           |      yes     |\n",
    "|  Lewis Lab |  Tanvi Honap  |    Burkina Faso   |         69        |             hg19            |       no     | \n",
    "|PRJEB35961 BGISEQ |     -     |    China          |         39        |             GRCh38          |     yes    |"
   ]
  },
  {
   "cell_type": "markdown",
   "metadata": {},
   "source": [
    "Setting up the list of bam files"
   ]
  },
  {
   "cell_type": "code",
   "execution_count": 2,
   "metadata": {},
   "outputs": [],
   "source": [
    "human_non_western_bam_dir = \"../../data/lewis_lab\"\n",
    "human_non_western_bams = [i for i in os.listdir(human_non_western_bam_dir) if i.endswith(\".bam\")]\n",
    "human_western_bam_dir = \"../../data/kostic_lab\" \n",
    "human_western_bams = [i for i in os.listdir(human_western_bam_dir) if i.endswith(\".bam\")]"
   ]
  },
  {
   "cell_type": "code",
   "execution_count": 3,
   "metadata": {},
   "outputs": [],
   "source": [
    "pd.Series(human_western_bams).to_frame(name='Sample').to_csv('marsha_samples.csv')"
   ]
  },
  {
   "cell_type": "markdown",
   "metadata": {},
   "source": [
    "Defining filtering values:"
   ]
  },
  {
   "cell_type": "code",
   "execution_count": 4,
   "metadata": {},
   "outputs": [],
   "source": [
    "min_id = 0.95\n",
    "min_len = 20"
   ]
  },
  {
   "cell_type": "markdown",
   "metadata": {},
   "source": [
    "Defining functions to parse alignment files"
   ]
  },
  {
   "cell_type": "code",
   "execution_count": 5,
   "metadata": {},
   "outputs": [],
   "source": [
    "def bam_index(bam, bamdir):\n",
    "    #print(bam)\n",
    "    cmd = f\"samtools index {bamdir}/{bam}\"\n",
    "    try:\n",
    "        #print(cmd)\n",
    "        subprocess.check_output(cmd, shell=True)\n",
    "    except subprocess.CalledProcessError:\n",
    "        #print(f\"Error indexing {bam}\")\n",
    "        pass"
   ]
  },
  {
   "cell_type": "code",
   "execution_count": 6,
   "metadata": {},
   "outputs": [],
   "source": [
    "def perChromosome(chr, bam, min_id, min_len):\n",
    "    mapped = 0\n",
    "    bamfile = pysam.AlignmentFile(bam, \"rb\")\n",
    "    reads = bamfile.fetch(chr, multiple_iterators=True)\n",
    "    for read in reads:\n",
    "        try:\n",
    "            cigar = read.get_cigar_stats()[0]\n",
    "            cigar_d = {'M':cigar[0], 'I': cigar[1], 'D': cigar[2], 'NM': cigar[-1]}\n",
    "            aln_cols = cigar_d['M']+cigar_d['I']+cigar_d['D']\n",
    "            nm = cigar_d['NM']\n",
    "            if cigar_d['M'] == 0:\n",
    "                continue\n",
    "            else:\n",
    "                identity = (aln_cols-nm)/(aln_cols)\n",
    "                if identity >= min_id and aln_cols >= min_len :\n",
    "                    mapped +=1\n",
    "        except:\n",
    "            continue\n",
    "    return(mapped)\n",
    "\n",
    "def getNumberMappedReadsMultiprocess(bam, processes, min_id, min_len):\n",
    "    try:\n",
    "        bamfile = pysam.AlignmentFile(bam, \"rb\")\n",
    "    except ValueError as e:\n",
    "        print(e)\n",
    "    chrs = bamfile.references\n",
    "\n",
    "    perChromosomePartial = partial(\n",
    "        perChromosome, bam=bam, min_id = min_id, min_len = min_len)\n",
    "    p = multiprocessing.Pool(processes)\n",
    "    result = p.imap_unordered(perChromosomePartial, chrs)\n",
    "    p.close()\n",
    "    p.join()\n",
    "    mapped = sum(result)\n",
    "    total = bamfile.mapped + bamfile.unmapped\n",
    "    return({bam.split(\"/\")[-1].split(\".\")[0]:[mapped, total]})   "
   ]
  },
  {
   "cell_type": "markdown",
   "metadata": {},
   "source": [
    "#### Handling westernized bam files "
   ]
  },
  {
   "cell_type": "code",
   "execution_count": 7,
   "metadata": {},
   "outputs": [],
   "source": [
    "index_western = partial(bam_index, bamdir = human_western_bam_dir)\n",
    "with multiprocessing.Pool(10) as p:\n",
    "    p.map(index_western, human_western_bams)"
   ]
  },
  {
   "cell_type": "code",
   "execution_count": 8,
   "metadata": {},
   "outputs": [
    {
     "name": "stderr",
     "output_type": "stream",
     "text": [
      "100%|██████████| 49/49 [00:32<00:00,  1.87it/s]\n"
     ]
    }
   ],
   "source": [
    "western_res = {}\n",
    "for i in tqdm(human_western_bams):\n",
    "    western_res.update(getNumberMappedReadsMultiprocess(bam = f\"{human_western_bam_dir}/{i}\", processes=10, min_id = min_id, min_len=min_len))"
   ]
  },
  {
   "cell_type": "code",
   "execution_count": 9,
   "metadata": {},
   "outputs": [],
   "source": [
    "western_human = pd.DataFrame(western_res).T\n",
    "western_human.columns = 'human_count','all_count'\n",
    "western_human[\"percentage_endo\"] = western_human['human_count']/western_human['all_count']*100"
   ]
  },
  {
   "cell_type": "code",
   "execution_count": 10,
   "metadata": {},
   "outputs": [
    {
     "data": {
      "text/html": [
       "<div>\n",
       "<style scoped>\n",
       "    .dataframe tbody tr th:only-of-type {\n",
       "        vertical-align: middle;\n",
       "    }\n",
       "\n",
       "    .dataframe tbody tr th {\n",
       "        vertical-align: top;\n",
       "    }\n",
       "\n",
       "    .dataframe thead th {\n",
       "        text-align: right;\n",
       "    }\n",
       "</style>\n",
       "<table border=\"1\" class=\"dataframe\">\n",
       "  <thead>\n",
       "    <tr style=\"text-align: right;\">\n",
       "      <th></th>\n",
       "      <th>human_count</th>\n",
       "      <th>all_count</th>\n",
       "      <th>percentage_endo</th>\n",
       "    </tr>\n",
       "  </thead>\n",
       "  <tbody>\n",
       "    <tr>\n",
       "      <th>E5</th>\n",
       "      <td>175600</td>\n",
       "      <td>11487470</td>\n",
       "      <td>1.528622</td>\n",
       "    </tr>\n",
       "    <tr>\n",
       "      <th>F4</th>\n",
       "      <td>183259</td>\n",
       "      <td>9696234</td>\n",
       "      <td>1.890002</td>\n",
       "    </tr>\n",
       "    <tr>\n",
       "      <th>E2</th>\n",
       "      <td>214203</td>\n",
       "      <td>8327324</td>\n",
       "      <td>2.572291</td>\n",
       "    </tr>\n",
       "    <tr>\n",
       "      <th>E1</th>\n",
       "      <td>227278</td>\n",
       "      <td>10907632</td>\n",
       "      <td>2.083660</td>\n",
       "    </tr>\n",
       "    <tr>\n",
       "      <th>B10</th>\n",
       "      <td>375059</td>\n",
       "      <td>11695702</td>\n",
       "      <td>3.206811</td>\n",
       "    </tr>\n",
       "  </tbody>\n",
       "</table>\n",
       "</div>"
      ],
      "text/plain": [
       "     human_count  all_count  percentage_endo\n",
       "E5        175600   11487470         1.528622\n",
       "F4        183259    9696234         1.890002\n",
       "E2        214203    8327324         2.572291\n",
       "E1        227278   10907632         2.083660\n",
       "B10       375059   11695702         3.206811"
      ]
     },
     "execution_count": 10,
     "metadata": {},
     "output_type": "execute_result"
    }
   ],
   "source": [
    "western_human.head()"
   ]
  },
  {
   "cell_type": "code",
   "execution_count": 11,
   "metadata": {},
   "outputs": [
    {
     "data": {
      "text/plain": [
       "count    49.000000\n",
       "mean      1.808109\n",
       "std       0.806107\n",
       "min       0.409995\n",
       "25%       1.258292\n",
       "50%       1.667870\n",
       "75%       2.228570\n",
       "max       3.731088\n",
       "Name: percentage_endo, dtype: float64"
      ]
     },
     "execution_count": 11,
     "metadata": {},
     "output_type": "execute_result"
    }
   ],
   "source": [
    "western_human['percentage_endo'].describe()"
   ]
  },
  {
   "cell_type": "code",
   "execution_count": 12,
   "metadata": {},
   "outputs": [],
   "source": [
    "western_human['organism'] = western_human.shape[0]*['Westernized human / Urban']"
   ]
  },
  {
   "cell_type": "code",
   "execution_count": 13,
   "metadata": {},
   "outputs": [],
   "source": [
    "western_human.to_csv(\"results/western_human.csv\")"
   ]
  },
  {
   "cell_type": "markdown",
   "metadata": {},
   "source": [
    "#### Handling non westernized bam files "
   ]
  },
  {
   "cell_type": "markdown",
   "metadata": {},
   "source": [
    "Because these files were anonymized for the mapping position as well, we can not index them and have to parse them manually from sam files"
   ]
  },
  {
   "cell_type": "code",
   "execution_count": 16,
   "metadata": {},
   "outputs": [],
   "source": [
    "def bam2sam(bamfile, bamdir):\n",
    "    print(bamfile)\n",
    "    basename = bamfile.split(\".\")[0]\n",
    "    cmd = f\"samtools view {bamdir}/{bamfile} > {bamdir}/{basename}.sam\"\n",
    "    print(cmd)\n",
    "    subprocess.check_output(cmd, shell = True)"
   ]
  },
  {
   "cell_type": "code",
   "execution_count": 17,
   "metadata": {},
   "outputs": [
    {
     "name": "stdout",
     "output_type": "stream",
     "text": [
      "bftm0902ecol40.anonym.bam\n",
      "bftm080321.anonym.bam\n",
      "bftm2601ext24.anonym.bam\n",
      "bftm080215.anonym.bam\n",
      "bftm280135.anonym.bam\n",
      "bftm270223.anonym.bam\n",
      "samtools view ../../data/lewis_lab/bftm080321.anonym.bam > ../../data/lewis_lab/bftm080321.sam\n",
      "bftm190220.anonym.bam\n",
      "bftm2103ext32.anonym.bam\n",
      "samtools view ../../data/lewis_lab/bftm2601ext24.anonym.bam > ../../data/lewis_lab/bftm2601ext24.sam\n",
      "bftm030236.anonym.bam\n",
      "bftm2002ext29.anonym.bam\n",
      "samtools view ../../data/lewis_lab/bftm0902ecol40.anonym.bam > ../../data/lewis_lab/bftm0902ecol40.sam\n",
      "samtools view ../../data/lewis_lab/bftm270223.anonym.bam > ../../data/lewis_lab/bftm270223.sam\n",
      "samtools view ../../data/lewis_lab/bftm080215.anonym.bam > ../../data/lewis_lab/bftm080215.sam\n",
      "samtools view ../../data/lewis_lab/bftm2103ext32.anonym.bam > ../../data/lewis_lab/bftm2103ext32.sam\n",
      "samtools view ../../data/lewis_lab/bftm280135.anonym.bam > ../../data/lewis_lab/bftm280135.sam\n",
      "samtools view ../../data/lewis_lab/bftm2002ext29.anonym.bam > ../../data/lewis_lab/bftm2002ext29.sam\n",
      "samtools view ../../data/lewis_lab/bftm190220.anonym.bam > ../../data/lewis_lab/bftm190220.sam\n",
      "samtools view ../../data/lewis_lab/bftm030236.anonym.bam > ../../data/lewis_lab/bftm030236.sam\n",
      "bftm2301ecol5.anonym.bam\n",
      "samtools view ../../data/lewis_lab/bftm2301ecol5.anonym.bam > ../../data/lewis_lab/bftm2301ecol5.sam\n",
      "bftm1701ecol6.anonym.bam\n",
      "samtools view ../../data/lewis_lab/bftm1701ecol6.anonym.bam > ../../data/lewis_lab/bftm1701ecol6.sam\n",
      "bftm200318.anonym.bam\n",
      "samtools view ../../data/lewis_lab/bftm200318.anonym.bam > ../../data/lewis_lab/bftm200318.sam\n",
      "bftm0401ecol39.anonym.bam\n",
      "samtools view ../../data/lewis_lab/bftm0401ecol39.anonym.bam > ../../data/lewis_lab/bftm0401ecol39.sam\n",
      "bftm2401ext31.anonym.bam\n",
      "samtools view ../../data/lewis_lab/bftm2401ext31.anonym.bam > ../../data/lewis_lab/bftm2401ext31.sam\n",
      "bftm2204ext27.anonym.bam\n",
      "samtools view ../../data/lewis_lab/bftm2204ext27.anonym.bam > ../../data/lewis_lab/bftm2204ext27.sam\n",
      "bftm17021.anonym.bam\n",
      "samtools view ../../data/lewis_lab/bftm17021.anonym.bam > ../../data/lewis_lab/bftm17021.sam\n",
      "bftm1502ecol15.anonym.bam\n",
      "samtools view ../../data/lewis_lab/bftm1502ecol15.anonym.bam > ../../data/lewis_lab/bftm1502ecol15.sam\n",
      "bftm30016.anonym.bam\n",
      "samtools view ../../data/lewis_lab/bftm30016.anonym.bam > ../../data/lewis_lab/bftm30016.sam\n",
      "bftm2704ext23.anonym.bam\n",
      "samtools view ../../data/lewis_lab/bftm2704ext23.anonym.bam > ../../data/lewis_lab/bftm2704ext23.sam\n",
      "bftm1303ext17.anonym.bam\n",
      "samtools view ../../data/lewis_lab/bftm1303ext17.anonym.bam > ../../data/lewis_lab/bftm1303ext17.sam\n",
      "bftm140428.anonym.bam\n",
      "samtools view ../../data/lewis_lab/bftm140428.anonym.bam > ../../data/lewis_lab/bftm140428.sam\n",
      "bftm1104ecol11.anonym.bam\n",
      "samtools view ../../data/lewis_lab/bftm1104ecol11.anonym.bam > ../../data/lewis_lab/bftm1104ecol11.sam\n",
      "bftm22034.anonym.bam\n",
      "samtools view ../../data/lewis_lab/bftm22034.anonym.bam > ../../data/lewis_lab/bftm22034.sam\n",
      "bftm060125.anonym.bam\n",
      "samtools view ../../data/lewis_lab/bftm060125.anonym.bam > ../../data/lewis_lab/bftm060125.sam\n",
      "bftm140341.anonym.bam\n",
      "samtools view ../../data/lewis_lab/bftm140341.anonym.bam > ../../data/lewis_lab/bftm140341.sam\n",
      "bftm290124.anonym.bam\n",
      "samtools view ../../data/lewis_lab/bftm290124.anonym.bam > ../../data/lewis_lab/bftm290124.sam\n",
      "bftm2301ext33.anonym.bam\n",
      "samtools view ../../data/lewis_lab/bftm2301ext33.anonym.bam > ../../data/lewis_lab/bftm2301ext33.sam\n",
      "bftm130122.anonym.bam\n",
      "samtools view ../../data/lewis_lab/bftm130122.anonym.bam > ../../data/lewis_lab/bftm130122.sam\n",
      "bftm0202ext20.anonym.bam\n",
      "samtools view ../../data/lewis_lab/bftm0202ext20.anonym.bam > ../../data/lewis_lab/bftm0202ext20.sam\n",
      "bftm1603ecol2.anonym.bam\n",
      "samtools view ../../data/lewis_lab/bftm1603ecol2.anonym.bam > ../../data/lewis_lab/bftm1603ecol2.sam\n",
      "bftm150339.anonym.bam\n",
      "samtools view ../../data/lewis_lab/bftm150339.anonym.bam > ../../data/lewis_lab/bftm150339.sam\n",
      "bftm010319.anonym.bam\n",
      "samtools view ../../data/lewis_lab/bftm010319.anonym.bam > ../../data/lewis_lab/bftm010319.sam\n",
      "bftm220116.anonym.bam\n",
      "samtools view ../../data/lewis_lab/bftm220116.anonym.bam > ../../data/lewis_lab/bftm220116.sam\n",
      "bftm2101ext26.anonym.bam\n",
      "samtools view ../../data/lewis_lab/bftm2101ext26.anonym.bam > ../../data/lewis_lab/bftm2101ext26.sam\n",
      "bftm1704ext28.anonym.bam\n",
      "samtools view ../../data/lewis_lab/bftm1704ext28.anonym.bam > ../../data/lewis_lab/bftm1704ext28.sam\n",
      "bftm230440.anonym.bam\n",
      "samtools view ../../data/lewis_lab/bftm230440.anonym.bam > ../../data/lewis_lab/bftm230440.sam\n",
      "bftm2801ext35.anonym.bam\n",
      "samtools view ../../data/lewis_lab/bftm2801ext35.anonym.bam > ../../data/lewis_lab/bftm2801ext35.sam\n",
      "bftm2501ecol7.anonym.bam\n",
      "samtools view ../../data/lewis_lab/bftm2501ecol7.anonym.bam > ../../data/lewis_lab/bftm2501ecol7.sam\n",
      "bftm180134.anonym.bam\n",
      "samtools view ../../data/lewis_lab/bftm180134.anonym.bam > ../../data/lewis_lab/bftm180134.sam\n",
      "bftm1104ext21.anonym.bam\n",
      "samtools view ../../data/lewis_lab/bftm1104ext21.anonym.bam > ../../data/lewis_lab/bftm1104ext21.sam\n",
      "bftm0601ext18.anonym.bam\n",
      "samtools view ../../data/lewis_lab/bftm0601ext18.anonym.bam > ../../data/lewis_lab/bftm0601ext18.sam\n",
      "bftm0701ecol12.anonym.bam\n",
      "samtools view ../../data/lewis_lab/bftm0701ecol12.anonym.bam > ../../data/lewis_lab/bftm0701ecol12.sam\n",
      "bftm26043.anonym.bam\n",
      "samtools view ../../data/lewis_lab/bftm26043.anonym.bam > ../../data/lewis_lab/bftm26043.sam\n",
      "bftm1402ext19.anonym.bam\n",
      "samtools view ../../data/lewis_lab/bftm1402ext19.anonym.bam > ../../data/lewis_lab/bftm1402ext19.sam\n",
      "bftm150117.anonym.bam\n",
      "samtools view ../../data/lewis_lab/bftm150117.anonym.bam > ../../data/lewis_lab/bftm150117.sam\n",
      "bftm070332.anonym.bam\n",
      "samtools view ../../data/lewis_lab/bftm070332.anonym.bam > ../../data/lewis_lab/bftm070332.sam\n",
      "bftm140127.anonym.bam\n",
      "samtools view ../../data/lewis_lab/bftm140127.anonym.bam > ../../data/lewis_lab/bftm140127.sam\n",
      "bftm110126.anonym.bam\n",
      "samtools view ../../data/lewis_lab/bftm110126.anonym.bam > ../../data/lewis_lab/bftm110126.sam\n",
      "bftm1003ext22.anonym.bam\n",
      "samtools view ../../data/lewis_lab/bftm1003ext22.anonym.bam > ../../data/lewis_lab/bftm1003ext22.sam\n",
      "bftm200129.anonym.bam\n",
      "samtools view ../../data/lewis_lab/bftm200129.anonym.bam > ../../data/lewis_lab/bftm200129.sam\n",
      "bftm050238.anonym.bam\n",
      "samtools view ../../data/lewis_lab/bftm050238.anonym.bam > ../../data/lewis_lab/bftm050238.sam\n",
      "bftm09037.anonym.bam\n",
      "samtools view ../../data/lewis_lab/bftm09037.anonym.bam > ../../data/lewis_lab/bftm09037.sam\n",
      "bftm220210.anonym.bam\n",
      "samtools view ../../data/lewis_lab/bftm220210.anonym.bam > ../../data/lewis_lab/bftm220210.sam\n",
      "bftm030111.anonym.bam\n",
      "samtools view ../../data/lewis_lab/bftm030111.anonym.bam > ../../data/lewis_lab/bftm030111.sam\n",
      "bftm2304ext34.anonym.bam\n",
      "samtools view ../../data/lewis_lab/bftm2304ext34.anonym.bam > ../../data/lewis_lab/bftm2304ext34.sam\n",
      "bftm040212.anonym.bam\n",
      "samtools view ../../data/lewis_lab/bftm040212.anonym.bam > ../../data/lewis_lab/bftm040212.sam\n",
      "bftm3004ext36.anonym.bam\n",
      "samtools view ../../data/lewis_lab/bftm3004ext36.anonym.bam > ../../data/lewis_lab/bftm3004ext36.sam\n",
      "bftm120433.anonym.bam\n",
      "samtools view ../../data/lewis_lab/bftm120433.anonym.bam > ../../data/lewis_lab/bftm120433.sam\n",
      "bftm0803ext30.anonym.bam\n",
      "samtools view ../../data/lewis_lab/bftm0803ext30.anonym.bam > ../../data/lewis_lab/bftm0803ext30.sam\n",
      "bftm0101ecol.anonym.bam\n",
      "samtools view ../../data/lewis_lab/bftm0101ecol.anonym.bam > ../../data/lewis_lab/bftm0101ecol.sam\n",
      "bftm3003ext25.anonym.bam\n",
      "samtools view ../../data/lewis_lab/bftm3003ext25.anonym.bam > ../../data/lewis_lab/bftm3003ext25.sam\n",
      "bftm2504ecol13.anonym.bam\n",
      "samtools view ../../data/lewis_lab/bftm2504ecol13.anonym.bam > ../../data/lewis_lab/bftm2504ecol13.sam\n",
      "bftm1601ecol9.anonym.bam\n",
      "samtools view ../../data/lewis_lab/bftm1601ecol9.anonym.bam > ../../data/lewis_lab/bftm1601ecol9.sam\n",
      "bftm100113.anonym.bam\n",
      "samtools view ../../data/lewis_lab/bftm100113.anonym.bam > ../../data/lewis_lab/bftm100113.sam\n",
      "bftm1002ecol4.anonym.bam\n",
      "samtools view ../../data/lewis_lab/bftm1002ecol4.anonym.bam > ../../data/lewis_lab/bftm1002ecol4.sam\n",
      "bftm0604ecol14.anonym.bam\n",
      "samtools view ../../data/lewis_lab/bftm0604ecol14.anonym.bam > ../../data/lewis_lab/bftm0604ecol14.sam\n",
      "bftm01028.anonym.bam\n",
      "samtools view ../../data/lewis_lab/bftm01028.anonym.bam > ../../data/lewis_lab/bftm01028.sam\n",
      "bftm110237.anonym.bam\n",
      "samtools view ../../data/lewis_lab/bftm110237.anonym.bam > ../../data/lewis_lab/bftm110237.sam\n"
     ]
    }
   ],
   "source": [
    "non_western_bam2sam = partial(bam2sam, bamdir = human_non_western_bam_dir)\n",
    "with multiprocessing.Pool(10) as p:\n",
    "    p.map(non_western_bam2sam, human_non_western_bams)"
   ]
  },
  {
   "cell_type": "code",
   "execution_count": 18,
   "metadata": {},
   "outputs": [],
   "source": [
    "regex = re.compile(\"(\\d*)[MID]\")\n",
    "def samline(sam, regex=regex, min_id = min_id, min_len=min_len):\n",
    "    print(sam)\n",
    "    cnt = 0\n",
    "    all_cnt = 0\n",
    "    with open(sam, 'r') as f:\n",
    "        for l in f:\n",
    "            lsplit = l.split()\n",
    "            cigar = lsplit[5]\n",
    "            all_cnt +=1\n",
    "            if len(cigar) > 1:\n",
    "                tags = lsplit[16:18]\n",
    "                for i in tags:\n",
    "                    if i.split(':')[0] == 'NM':\n",
    "                        nm = int(i.split(':')[-1])\n",
    "                        break\n",
    "                al_len = sum([int(i) for i in re.findall(regex, cigar)])\n",
    "                ident = (al_len - nm)/al_len\n",
    "                if ident >= min_id and al_len>=min_len:\n",
    "                    cnt+=1\n",
    "            else:\n",
    "                continue\n",
    "    return({sam:[cnt,all_cnt]})"
   ]
  },
  {
   "cell_type": "code",
   "execution_count": 19,
   "metadata": {},
   "outputs": [],
   "source": [
    "human_non_western_sams = [i for i in os.listdir(human_non_western_bam_dir) if i.endswith(\".sam\")]"
   ]
  },
  {
   "cell_type": "code",
   "execution_count": 20,
   "metadata": {},
   "outputs": [
    {
     "name": "stderr",
     "output_type": "stream",
     "text": [
      "  0%|          | 0/69 [00:00<?, ?it/s]"
     ]
    },
    {
     "name": "stdout",
     "output_type": "stream",
     "text": [
      "../../data/lewis_lab/bftm2301ext33.sam\n",
      "../../data/lewis_lab/bftm0401ecol39.sam\n",
      "../../data/lewis_lab/bftm030236.sam\n",
      "../../data/lewis_lab/bftm1502ecol15.sam\n",
      "../../data/lewis_lab/bftm100113.sam\n",
      "../../data/lewis_lab/bftm230440.sam\n",
      "../../data/lewis_lab/bftm130122.sam\n",
      "../../data/lewis_lab/bftm280135.sam\n",
      "../../data/lewis_lab/bftm070332.sam\n",
      "../../data/lewis_lab/bftm2401ext31.sam\n"
     ]
    },
    {
     "name": "stderr",
     "output_type": "stream",
     "text": [
      "  1%|▏         | 1/69 [00:52<59:13, 52.26s/it]"
     ]
    },
    {
     "name": "stdout",
     "output_type": "stream",
     "text": [
      "../../data/lewis_lab/bftm140428.sam\n"
     ]
    },
    {
     "name": "stderr",
     "output_type": "stream",
     "text": [
      "  3%|▎         | 2/69 [01:13<47:52, 42.87s/it]"
     ]
    },
    {
     "name": "stdout",
     "output_type": "stream",
     "text": [
      "../../data/lewis_lab/bftm2103ext32.sam\n"
     ]
    },
    {
     "name": "stderr",
     "output_type": "stream",
     "text": [
      "  4%|▍         | 3/69 [01:15<33:54, 30.82s/it]"
     ]
    },
    {
     "name": "stdout",
     "output_type": "stream",
     "text": [
      "../../data/lewis_lab/bftm140127.sam\n"
     ]
    },
    {
     "name": "stderr",
     "output_type": "stream",
     "text": [
      "  6%|▌         | 4/69 [01:19<24:27, 22.57s/it]"
     ]
    },
    {
     "name": "stdout",
     "output_type": "stream",
     "text": [
      "../../data/lewis_lab/bftm040212.sam\n"
     ]
    },
    {
     "name": "stderr",
     "output_type": "stream",
     "text": [
      "  7%|▋         | 5/69 [01:41<24:03, 22.56s/it]"
     ]
    },
    {
     "name": "stdout",
     "output_type": "stream",
     "text": [
      "../../data/lewis_lab/bftm220210.sam\n"
     ]
    },
    {
     "name": "stderr",
     "output_type": "stream",
     "text": [
      "  9%|▊         | 6/69 [01:56<21:07, 20.12s/it]"
     ]
    },
    {
     "name": "stdout",
     "output_type": "stream",
     "text": [
      "../../data/lewis_lab/bftm110237.sam\n"
     ]
    },
    {
     "name": "stderr",
     "output_type": "stream",
     "text": [
      " 10%|█         | 7/69 [02:02<16:34, 16.04s/it]"
     ]
    },
    {
     "name": "stdout",
     "output_type": "stream",
     "text": [
      "../../data/lewis_lab/bftm1003ext22.sam\n"
     ]
    },
    {
     "name": "stderr",
     "output_type": "stream",
     "text": [
      " 12%|█▏        | 8/69 [02:10<13:55, 13.69s/it]"
     ]
    },
    {
     "name": "stdout",
     "output_type": "stream",
     "text": [
      "../../data/lewis_lab/bftm190220.sam\n"
     ]
    },
    {
     "name": "stderr",
     "output_type": "stream",
     "text": [
      " 13%|█▎        | 9/69 [02:31<15:40, 15.68s/it]"
     ]
    },
    {
     "name": "stdout",
     "output_type": "stream",
     "text": [
      "../../data/lewis_lab/bftm180134.sam\n"
     ]
    },
    {
     "name": "stderr",
     "output_type": "stream",
     "text": [
      " 14%|█▍        | 10/69 [03:22<25:49, 26.26s/it]"
     ]
    },
    {
     "name": "stdout",
     "output_type": "stream",
     "text": [
      "../../data/lewis_lab/bftm140341.sam\n"
     ]
    },
    {
     "name": "stderr",
     "output_type": "stream",
     "text": [
      " 16%|█▌        | 11/69 [03:35<21:40, 22.42s/it]"
     ]
    },
    {
     "name": "stdout",
     "output_type": "stream",
     "text": [
      "../../data/lewis_lab/bftm0202ext20.sam\n"
     ]
    },
    {
     "name": "stderr",
     "output_type": "stream",
     "text": [
      " 17%|█▋        | 12/69 [03:36<15:13, 16.03s/it]"
     ]
    },
    {
     "name": "stdout",
     "output_type": "stream",
     "text": [
      "../../data/lewis_lab/bftm270223.sam\n"
     ]
    },
    {
     "name": "stderr",
     "output_type": "stream",
     "text": [
      " 19%|█▉        | 13/69 [03:50<14:24, 15.44s/it]"
     ]
    },
    {
     "name": "stdout",
     "output_type": "stream",
     "text": [
      "../../data/lewis_lab/bftm0803ext30.sam\n"
     ]
    },
    {
     "name": "stderr",
     "output_type": "stream",
     "text": [
      " 20%|██        | 14/69 [04:08<14:42, 16.05s/it]"
     ]
    },
    {
     "name": "stdout",
     "output_type": "stream",
     "text": [
      "../../data/lewis_lab/bftm1002ecol4.sam\n"
     ]
    },
    {
     "name": "stderr",
     "output_type": "stream",
     "text": [
      " 22%|██▏       | 15/69 [04:27<15:14, 16.94s/it]"
     ]
    },
    {
     "name": "stdout",
     "output_type": "stream",
     "text": [
      "../../data/lewis_lab/bftm30016.sam\n"
     ]
    },
    {
     "name": "stderr",
     "output_type": "stream",
     "text": [
      " 23%|██▎       | 16/69 [04:45<15:19, 17.34s/it]"
     ]
    },
    {
     "name": "stdout",
     "output_type": "stream",
     "text": [
      "../../data/lewis_lab/bftm0601ext18.sam\n"
     ]
    },
    {
     "name": "stderr",
     "output_type": "stream",
     "text": [
      " 25%|██▍       | 17/69 [05:02<14:57, 17.25s/it]"
     ]
    },
    {
     "name": "stdout",
     "output_type": "stream",
     "text": [
      "../../data/lewis_lab/bftm2204ext27.sam\n"
     ]
    },
    {
     "name": "stderr",
     "output_type": "stream",
     "text": [
      " 26%|██▌       | 18/69 [05:42<20:27, 24.07s/it]"
     ]
    },
    {
     "name": "stdout",
     "output_type": "stream",
     "text": [
      "../../data/lewis_lab/bftm2801ext35.sam\n"
     ]
    },
    {
     "name": "stderr",
     "output_type": "stream",
     "text": [
      " 28%|██▊       | 19/69 [05:52<16:31, 19.83s/it]"
     ]
    },
    {
     "name": "stdout",
     "output_type": "stream",
     "text": [
      "../../data/lewis_lab/bftm1104ecol11.sam\n"
     ]
    },
    {
     "name": "stderr",
     "output_type": "stream",
     "text": [
      " 29%|██▉       | 20/69 [06:03<14:03, 17.20s/it]"
     ]
    },
    {
     "name": "stdout",
     "output_type": "stream",
     "text": [
      "../../data/lewis_lab/bftm060125.sam\n"
     ]
    },
    {
     "name": "stderr",
     "output_type": "stream",
     "text": [
      " 30%|███       | 21/69 [06:03<09:42, 12.13s/it]"
     ]
    },
    {
     "name": "stdout",
     "output_type": "stream",
     "text": [
      "../../data/lewis_lab/bftm2101ext26.sam\n",
      "../../data/lewis_lab/bftm1303ext17.sam\n"
     ]
    },
    {
     "name": "stderr",
     "output_type": "stream",
     "text": [
      " 33%|███▎      | 23/69 [06:26<09:05, 11.85s/it]"
     ]
    },
    {
     "name": "stdout",
     "output_type": "stream",
     "text": [
      "../../data/lewis_lab/bftm2601ext24.sam\n"
     ]
    },
    {
     "name": "stderr",
     "output_type": "stream",
     "text": [
      " 35%|███▍      | 24/69 [06:35<08:23, 11.19s/it]"
     ]
    },
    {
     "name": "stdout",
     "output_type": "stream",
     "text": [
      "../../data/lewis_lab/bftm050238.sam\n"
     ]
    },
    {
     "name": "stderr",
     "output_type": "stream",
     "text": [
      " 36%|███▌      | 25/69 [06:47<08:13, 11.21s/it]"
     ]
    },
    {
     "name": "stdout",
     "output_type": "stream",
     "text": [
      "../../data/lewis_lab/bftm0701ecol12.sam\n"
     ]
    },
    {
     "name": "stderr",
     "output_type": "stream",
     "text": [
      " 38%|███▊      | 26/69 [07:28<14:28, 20.20s/it]"
     ]
    },
    {
     "name": "stdout",
     "output_type": "stream",
     "text": [
      "../../data/lewis_lab/bftm290124.sam\n"
     ]
    },
    {
     "name": "stderr",
     "output_type": "stream",
     "text": [
      " 39%|███▉      | 27/69 [07:28<10:00, 14.29s/it]"
     ]
    },
    {
     "name": "stdout",
     "output_type": "stream",
     "text": [
      "../../data/lewis_lab/bftm09037.sam\n"
     ]
    },
    {
     "name": "stderr",
     "output_type": "stream",
     "text": [
      " 41%|████      | 28/69 [07:56<12:32, 18.35s/it]"
     ]
    },
    {
     "name": "stdout",
     "output_type": "stream",
     "text": [
      "../../data/lewis_lab/bftm030111.sam\n"
     ]
    },
    {
     "name": "stderr",
     "output_type": "stream",
     "text": [
      " 42%|████▏     | 29/69 [08:19<13:03, 19.59s/it]"
     ]
    },
    {
     "name": "stdout",
     "output_type": "stream",
     "text": [
      "../../data/lewis_lab/bftm3003ext25.sam\n"
     ]
    },
    {
     "name": "stderr",
     "output_type": "stream",
     "text": [
      " 43%|████▎     | 30/69 [08:20<09:06, 14.02s/it]"
     ]
    },
    {
     "name": "stdout",
     "output_type": "stream",
     "text": [
      "../../data/lewis_lab/bftm1601ecol9.sam\n"
     ]
    },
    {
     "name": "stderr",
     "output_type": "stream",
     "text": [
      " 45%|████▍     | 31/69 [08:37<09:25, 14.88s/it]"
     ]
    },
    {
     "name": "stdout",
     "output_type": "stream",
     "text": [
      "../../data/lewis_lab/bftm0604ecol14.sam\n"
     ]
    },
    {
     "name": "stderr",
     "output_type": "stream",
     "text": [
      " 46%|████▋     | 32/69 [08:51<09:03, 14.68s/it]"
     ]
    },
    {
     "name": "stdout",
     "output_type": "stream",
     "text": [
      "../../data/lewis_lab/bftm1704ext28.sam\n",
      "../../data/lewis_lab/bftm150339.sam\n"
     ]
    },
    {
     "name": "stderr",
     "output_type": "stream",
     "text": [
      " 49%|████▉     | 34/69 [09:01<06:53, 11.81s/it]"
     ]
    },
    {
     "name": "stdout",
     "output_type": "stream",
     "text": [
      "../../data/lewis_lab/bftm110126.sam\n"
     ]
    },
    {
     "name": "stderr",
     "output_type": "stream",
     "text": [
      " 51%|█████     | 35/69 [09:32<09:58, 17.59s/it]"
     ]
    },
    {
     "name": "stdout",
     "output_type": "stream",
     "text": [
      "../../data/lewis_lab/bftm2301ecol5.sam\n"
     ]
    },
    {
     "name": "stderr",
     "output_type": "stream",
     "text": [
      " 52%|█████▏    | 36/69 [09:46<09:03, 16.46s/it]"
     ]
    },
    {
     "name": "stdout",
     "output_type": "stream",
     "text": [
      "../../data/lewis_lab/bftm2704ext23.sam\n"
     ]
    },
    {
     "name": "stderr",
     "output_type": "stream",
     "text": [
      " 54%|█████▎    | 37/69 [09:46<06:12, 11.63s/it]"
     ]
    },
    {
     "name": "stdout",
     "output_type": "stream",
     "text": [
      "../../data/lewis_lab/bftm1104ext21.sam\n"
     ]
    },
    {
     "name": "stderr",
     "output_type": "stream",
     "text": [
      " 55%|█████▌    | 38/69 [10:52<14:23, 27.86s/it]"
     ]
    },
    {
     "name": "stdout",
     "output_type": "stream",
     "text": [
      "../../data/lewis_lab/bftm1603ecol2.sam\n"
     ]
    },
    {
     "name": "stderr",
     "output_type": "stream",
     "text": [
      " 57%|█████▋    | 39/69 [10:56<10:17, 20.58s/it]"
     ]
    },
    {
     "name": "stdout",
     "output_type": "stream",
     "text": [
      "../../data/lewis_lab/bftm26043.sam\n"
     ]
    },
    {
     "name": "stderr",
     "output_type": "stream",
     "text": [
      " 58%|█████▊    | 40/69 [11:03<07:58, 16.51s/it]"
     ]
    },
    {
     "name": "stdout",
     "output_type": "stream",
     "text": [
      "../../data/lewis_lab/bftm1701ecol6.sam\n"
     ]
    },
    {
     "name": "stderr",
     "output_type": "stream",
     "text": [
      " 59%|█████▉    | 41/69 [11:03<05:30, 11.79s/it]"
     ]
    },
    {
     "name": "stdout",
     "output_type": "stream",
     "text": [
      "../../data/lewis_lab/bftm3004ext36.sam\n"
     ]
    },
    {
     "name": "stderr",
     "output_type": "stream",
     "text": [
      " 61%|██████    | 42/69 [11:24<06:26, 14.31s/it]"
     ]
    },
    {
     "name": "stdout",
     "output_type": "stream",
     "text": [
      "../../data/lewis_lab/bftm220116.sam\n"
     ]
    },
    {
     "name": "stderr",
     "output_type": "stream",
     "text": [
      " 62%|██████▏   | 43/69 [11:45<07:06, 16.40s/it]"
     ]
    },
    {
     "name": "stdout",
     "output_type": "stream",
     "text": [
      "../../data/lewis_lab/bftm0101ecol.sam\n"
     ]
    },
    {
     "name": "stderr",
     "output_type": "stream",
     "text": [
      " 64%|██████▍   | 44/69 [12:03<07:03, 16.93s/it]"
     ]
    },
    {
     "name": "stdout",
     "output_type": "stream",
     "text": [
      "../../data/lewis_lab/bftm2504ecol13.sam\n"
     ]
    },
    {
     "name": "stderr",
     "output_type": "stream",
     "text": [
      " 65%|██████▌   | 45/69 [12:14<06:03, 15.13s/it]"
     ]
    },
    {
     "name": "stdout",
     "output_type": "stream",
     "text": [
      "../../data/lewis_lab/bftm150117.sam\n"
     ]
    },
    {
     "name": "stderr",
     "output_type": "stream",
     "text": [
      " 67%|██████▋   | 46/69 [12:15<04:07, 10.74s/it]"
     ]
    },
    {
     "name": "stdout",
     "output_type": "stream",
     "text": [
      "../../data/lewis_lab/bftm080321.sam\n"
     ]
    },
    {
     "name": "stderr",
     "output_type": "stream",
     "text": [
      " 68%|██████▊   | 47/69 [12:41<05:37, 15.34s/it]"
     ]
    },
    {
     "name": "stdout",
     "output_type": "stream",
     "text": [
      "../../data/lewis_lab/bftm2304ext34.sam\n"
     ]
    },
    {
     "name": "stderr",
     "output_type": "stream",
     "text": [
      " 70%|██████▉   | 48/69 [13:03<06:09, 17.61s/it]"
     ]
    },
    {
     "name": "stdout",
     "output_type": "stream",
     "text": [
      "../../data/lewis_lab/bftm1402ext19.sam\n"
     ]
    },
    {
     "name": "stderr",
     "output_type": "stream",
     "text": [
      " 71%|███████   | 49/69 [13:16<05:21, 16.06s/it]"
     ]
    },
    {
     "name": "stdout",
     "output_type": "stream",
     "text": [
      "../../data/lewis_lab/bftm120433.sam\n"
     ]
    },
    {
     "name": "stderr",
     "output_type": "stream",
     "text": [
      " 72%|███████▏  | 50/69 [13:29<04:49, 15.24s/it]"
     ]
    },
    {
     "name": "stdout",
     "output_type": "stream",
     "text": [
      "../../data/lewis_lab/bftm22034.sam\n"
     ]
    },
    {
     "name": "stderr",
     "output_type": "stream",
     "text": [
      " 74%|███████▍  | 51/69 [13:48<04:51, 16.19s/it]"
     ]
    },
    {
     "name": "stdout",
     "output_type": "stream",
     "text": [
      "../../data/lewis_lab/bftm17021.sam\n"
     ]
    },
    {
     "name": "stderr",
     "output_type": "stream",
     "text": [
      " 75%|███████▌  | 52/69 [14:16<05:36, 19.82s/it]"
     ]
    },
    {
     "name": "stdout",
     "output_type": "stream",
     "text": [
      "../../data/lewis_lab/bftm080215.sam\n"
     ]
    },
    {
     "name": "stderr",
     "output_type": "stream",
     "text": [
      " 77%|███████▋  | 53/69 [14:43<05:51, 21.96s/it]"
     ]
    },
    {
     "name": "stdout",
     "output_type": "stream",
     "text": [
      "../../data/lewis_lab/bftm200129.sam\n"
     ]
    },
    {
     "name": "stderr",
     "output_type": "stream",
     "text": [
      " 78%|███████▊  | 54/69 [14:51<04:28, 17.91s/it]"
     ]
    },
    {
     "name": "stdout",
     "output_type": "stream",
     "text": [
      "../../data/lewis_lab/bftm01028.sam\n"
     ]
    },
    {
     "name": "stderr",
     "output_type": "stream",
     "text": [
      " 80%|███████▉  | 55/69 [15:04<03:46, 16.18s/it]"
     ]
    },
    {
     "name": "stdout",
     "output_type": "stream",
     "text": [
      "../../data/lewis_lab/bftm200318.sam\n"
     ]
    },
    {
     "name": "stderr",
     "output_type": "stream",
     "text": [
      " 81%|████████  | 56/69 [15:04<02:30, 11.61s/it]"
     ]
    },
    {
     "name": "stdout",
     "output_type": "stream",
     "text": [
      "../../data/lewis_lab/bftm2501ecol7.sam\n"
     ]
    },
    {
     "name": "stderr",
     "output_type": "stream",
     "text": [
      " 83%|████████▎ | 57/69 [15:13<02:08, 10.74s/it]"
     ]
    },
    {
     "name": "stdout",
     "output_type": "stream",
     "text": [
      "../../data/lewis_lab/bftm0902ecol40.sam\n"
     ]
    },
    {
     "name": "stderr",
     "output_type": "stream",
     "text": [
      " 84%|████████▍ | 58/69 [15:18<01:40,  9.10s/it]"
     ]
    },
    {
     "name": "stdout",
     "output_type": "stream",
     "text": [
      "../../data/lewis_lab/bftm010319.sam\n"
     ]
    },
    {
     "name": "stderr",
     "output_type": "stream",
     "text": [
      " 86%|████████▌ | 59/69 [15:32<01:45, 10.58s/it]"
     ]
    },
    {
     "name": "stdout",
     "output_type": "stream",
     "text": [
      "../../data/lewis_lab/bftm2002ext29.sam\n"
     ]
    },
    {
     "name": "stderr",
     "output_type": "stream",
     "text": [
      "100%|██████████| 69/69 [17:43<00:00,  6.49s/it]\n"
     ]
    }
   ],
   "source": [
    "with multiprocessing.Pool(10) as p:\n",
    "    res = list(tqdm(p.imap_unordered(samline, [f\"{human_non_western_bam_dir}/{s}\" for s in human_non_western_sams]), total=len(human_non_western_sams)))"
   ]
  },
  {
   "cell_type": "code",
   "execution_count": 21,
   "metadata": {},
   "outputs": [],
   "source": [
    "result_non_western = {}\n",
    "for d in res:\n",
    "    result_non_western.update(d)"
   ]
  },
  {
   "cell_type": "code",
   "execution_count": 22,
   "metadata": {},
   "outputs": [],
   "source": [
    "non_western_human = pd.DataFrame(result_non_western).T\n",
    "non_western_human = non_western_human.set_index(pd.Series(non_western_human.index.str.split(\"/lewis_lab/\", expand=True).to_frame().iloc[:,1], name=\"sample\"))\n",
    "non_western_human.columns = ['human_count','all_count']\n",
    "non_western_human['percentage_endo'] = non_western_human['human_count']/non_western_human['all_count']*100"
   ]
  },
  {
   "cell_type": "code",
   "execution_count": 23,
   "metadata": {},
   "outputs": [
    {
     "data": {
      "text/html": [
       "<div>\n",
       "<style scoped>\n",
       "    .dataframe tbody tr th:only-of-type {\n",
       "        vertical-align: middle;\n",
       "    }\n",
       "\n",
       "    .dataframe tbody tr th {\n",
       "        vertical-align: top;\n",
       "    }\n",
       "\n",
       "    .dataframe thead th {\n",
       "        text-align: right;\n",
       "    }\n",
       "</style>\n",
       "<table border=\"1\" class=\"dataframe\">\n",
       "  <thead>\n",
       "    <tr style=\"text-align: right;\">\n",
       "      <th></th>\n",
       "      <th>human_count</th>\n",
       "      <th>all_count</th>\n",
       "      <th>percentage_endo</th>\n",
       "    </tr>\n",
       "    <tr>\n",
       "      <th>sample</th>\n",
       "      <th></th>\n",
       "      <th></th>\n",
       "      <th></th>\n",
       "    </tr>\n",
       "  </thead>\n",
       "  <tbody>\n",
       "    <tr>\n",
       "      <th>bftm2301ext33.sam</th>\n",
       "      <td>55095</td>\n",
       "      <td>18796990</td>\n",
       "      <td>0.293105</td>\n",
       "    </tr>\n",
       "    <tr>\n",
       "      <th>bftm070332.sam</th>\n",
       "      <td>49029</td>\n",
       "      <td>26437410</td>\n",
       "      <td>0.185453</td>\n",
       "    </tr>\n",
       "    <tr>\n",
       "      <th>bftm030236.sam</th>\n",
       "      <td>77452</td>\n",
       "      <td>27571762</td>\n",
       "      <td>0.280911</td>\n",
       "    </tr>\n",
       "    <tr>\n",
       "      <th>bftm2401ext31.sam</th>\n",
       "      <td>7908</td>\n",
       "      <td>28078268</td>\n",
       "      <td>0.028164</td>\n",
       "    </tr>\n",
       "    <tr>\n",
       "      <th>bftm280135.sam</th>\n",
       "      <td>4046109</td>\n",
       "      <td>31803446</td>\n",
       "      <td>12.722235</td>\n",
       "    </tr>\n",
       "  </tbody>\n",
       "</table>\n",
       "</div>"
      ],
      "text/plain": [
       "                   human_count  all_count  percentage_endo\n",
       "sample                                                    \n",
       "bftm2301ext33.sam        55095   18796990         0.293105\n",
       "bftm070332.sam           49029   26437410         0.185453\n",
       "bftm030236.sam           77452   27571762         0.280911\n",
       "bftm2401ext31.sam         7908   28078268         0.028164\n",
       "bftm280135.sam         4046109   31803446        12.722235"
      ]
     },
     "execution_count": 23,
     "metadata": {},
     "output_type": "execute_result"
    }
   ],
   "source": [
    "non_western_human.head()"
   ]
  },
  {
   "cell_type": "code",
   "execution_count": 24,
   "metadata": {},
   "outputs": [
    {
     "data": {
      "text/plain": [
       "count    69.000000\n",
       "mean      0.849359\n",
       "std       2.334063\n",
       "min       0.012799\n",
       "25%       0.039551\n",
       "50%       0.088550\n",
       "75%       0.293105\n",
       "max      12.722235\n",
       "Name: percentage_endo, dtype: float64"
      ]
     },
     "execution_count": 24,
     "metadata": {},
     "output_type": "execute_result"
    }
   ],
   "source": [
    "non_western_human['percentage_endo'].describe()\n"
   ]
  },
  {
   "cell_type": "code",
   "execution_count": 25,
   "metadata": {},
   "outputs": [],
   "source": [
    "non_western_human['organism'] = non_western_human.shape[0]*['Non westernized human / Rural']"
   ]
  },
  {
   "cell_type": "code",
   "execution_count": 26,
   "metadata": {},
   "outputs": [],
   "source": [
    "non_western_human.to_csv(\"results/non_western_human.csv\")"
   ]
  },
  {
   "cell_type": "code",
   "execution_count": 27,
   "metadata": {},
   "outputs": [],
   "source": []
  },
  {
   "cell_type": "markdown",
   "metadata": {},
   "source": [
    "## B: Dog host DNA percentage"
   ]
  },
  {
   "cell_type": "code",
   "execution_count": 28,
   "metadata": {},
   "outputs": [],
   "source": [
    "dog_dir = \"../../data/dog_PRJEB20308\""
   ]
  },
  {
   "cell_type": "code",
   "execution_count": 29,
   "metadata": {},
   "outputs": [],
   "source": [
    "dog_bams= [i for i in os.listdir(dog_dir) if i.endswith(\".unfiltered.aligned.bam\")]"
   ]
  },
  {
   "cell_type": "code",
   "execution_count": 30,
   "metadata": {},
   "outputs": [
    {
     "name": "stderr",
     "output_type": "stream",
     "text": [
      "100%|██████████| 150/150 [00:47<00:00,  3.07it/s]\n"
     ]
    }
   ],
   "source": [
    "index_dog = partial(bam_index, bamdir = dog_dir)\n",
    "with multiprocessing.Pool(10) as p:\n",
    "    list(tqdm(p.imap(index_dog, dog_bams), total = len(dog_bams)))"
   ]
  },
  {
   "cell_type": "code",
   "execution_count": 31,
   "metadata": {},
   "outputs": [
    {
     "name": "stderr",
     "output_type": "stream",
     "text": [
      "100%|██████████| 150/150 [00:34<00:00,  5.06it/s]\n"
     ]
    }
   ],
   "source": [
    "dog_mapped = {}\n",
    "for i in tqdm(dog_bams):\n",
    "    try:\n",
    "        dog_mapped.update(getNumberMappedReadsMultiprocess(f\"{dog_dir}/{i}\", processes=10, min_id=min_id, min_len=min_len))\n",
    "    except:\n",
    "        continue"
   ]
  },
  {
   "cell_type": "code",
   "execution_count": 32,
   "metadata": {},
   "outputs": [],
   "source": [
    "dog_count = pd.DataFrame(dog_mapped).T"
   ]
  },
  {
   "cell_type": "code",
   "execution_count": 33,
   "metadata": {},
   "outputs": [],
   "source": [
    "dog_count.columns = ['dog_count','all_count']"
   ]
  },
  {
   "cell_type": "code",
   "execution_count": 34,
   "metadata": {},
   "outputs": [],
   "source": [
    "dog_count['percentage_endo'] = dog_count['dog_count']/dog_count['all_count']*100"
   ]
  },
  {
   "cell_type": "code",
   "execution_count": 35,
   "metadata": {},
   "outputs": [],
   "source": [
    "dog_count['organism'] = ['Dog']*dog_count.shape[0]"
   ]
  },
  {
   "cell_type": "code",
   "execution_count": 36,
   "metadata": {},
   "outputs": [],
   "source": [
    "dog_count.to_csv(\"results/dogs.csv\")"
   ]
  },
  {
   "cell_type": "markdown",
   "metadata": {},
   "source": [
    "# C: Combining results"
   ]
  },
  {
   "cell_type": "code",
   "execution_count": 4,
   "metadata": {},
   "outputs": [],
   "source": [
    "non_western_human = pd.read_csv(\"results/non_western_human.csv\", index_col=0)\n",
    "western_human = pd.read_csv(\"results/western_human.csv\", index_col=0)\n",
    "dog_count = pd.read_csv(\"results/dogs.csv\", index_col=0)"
   ]
  },
  {
   "cell_type": "code",
   "execution_count": 14,
   "metadata": {
    "slideshow": {
     "slide_type": "slide"
    }
   },
   "outputs": [],
   "source": [
    "host_dna = (western_human[['percentage_endo','organism']]\n",
    "       .append(non_western_human[['percentage_endo','organism']])\n",
    "       .append(dog_count[['percentage_endo','organism']])).rename(columns={'percentage_endo':'percentage_host_DNA'})"
   ]
  },
  {
   "cell_type": "code",
   "execution_count": 20,
   "metadata": {},
   "outputs": [],
   "source": [
    "tab_s1 = (western_human.rename(columns={'human_count':'host_read_count', 'all_count':'all_read_count'}).\n",
    " append(non_western_human.rename(columns={'human_count':'host_read_count', 'all_count':'all_read_count'})).\n",
    " append(dog_count.rename(columns={'dog_count':'host_read_count', 'all_count':'all_read_count'})))\n",
    "tab_s1.rename(columns={'percentage_endo':'percentage_host_DNA'}, inplace=True)\n",
    "tab_s1['percentage_host_DNA'] = tab_s1['percentage_host_DNA'].round(2)\n",
    "tab_s1.to_csv(\"tab_S1.csv\", index_label = 'sample')"
   ]
  },
  {
   "cell_type": "code",
   "execution_count": 21,
   "metadata": {},
   "outputs": [],
   "source": [
    "host_dna['organism'] = pd.Categorical(host_dna.organism, categories= ['Non westernized human / Rural', 'Westernized human / Urban', 'Dog'], ordered=True)"
   ]
  },
  {
   "cell_type": "markdown",
   "metadata": {},
   "source": [
    "Median per category"
   ]
  },
  {
   "cell_type": "code",
   "execution_count": 29,
   "metadata": {},
   "outputs": [
    {
     "data": {
      "text/html": [
       "<div>\n",
       "<style scoped>\n",
       "    .dataframe tbody tr th:only-of-type {\n",
       "        vertical-align: middle;\n",
       "    }\n",
       "\n",
       "    .dataframe tbody tr th {\n",
       "        vertical-align: top;\n",
       "    }\n",
       "\n",
       "    .dataframe thead th {\n",
       "        text-align: right;\n",
       "    }\n",
       "</style>\n",
       "<table border=\"1\" class=\"dataframe\">\n",
       "  <thead>\n",
       "    <tr style=\"text-align: right;\">\n",
       "      <th></th>\n",
       "      <th>percentage_host_DNA</th>\n",
       "    </tr>\n",
       "    <tr>\n",
       "      <th>organism</th>\n",
       "      <th></th>\n",
       "    </tr>\n",
       "  </thead>\n",
       "  <tbody>\n",
       "    <tr>\n",
       "      <th>Non westernized human / Rural</th>\n",
       "      <td>0.09</td>\n",
       "    </tr>\n",
       "    <tr>\n",
       "      <th>Westernized human / Urban</th>\n",
       "      <td>1.67</td>\n",
       "    </tr>\n",
       "    <tr>\n",
       "      <th>Dog</th>\n",
       "      <td>0.04</td>\n",
       "    </tr>\n",
       "  </tbody>\n",
       "</table>\n",
       "</div>"
      ],
      "text/plain": [
       "                               percentage_host_DNA\n",
       "organism                                          \n",
       "Non westernized human / Rural                 0.09\n",
       "Westernized human / Urban                     1.67\n",
       "Dog                                           0.04"
      ]
     },
     "execution_count": 29,
     "metadata": {},
     "output_type": "execute_result"
    }
   ],
   "source": [
    "host_dna.groupby('organism')['percentage_host_DNA'].median().round(2).to_frame()"
   ]
  },
  {
   "cell_type": "markdown",
   "metadata": {},
   "source": [
    "Mean per category"
   ]
  },
  {
   "cell_type": "code",
   "execution_count": 30,
   "metadata": {},
   "outputs": [
    {
     "data": {
      "text/html": [
       "<div>\n",
       "<style scoped>\n",
       "    .dataframe tbody tr th:only-of-type {\n",
       "        vertical-align: middle;\n",
       "    }\n",
       "\n",
       "    .dataframe tbody tr th {\n",
       "        vertical-align: top;\n",
       "    }\n",
       "\n",
       "    .dataframe thead th {\n",
       "        text-align: right;\n",
       "    }\n",
       "</style>\n",
       "<table border=\"1\" class=\"dataframe\">\n",
       "  <thead>\n",
       "    <tr style=\"text-align: right;\">\n",
       "      <th></th>\n",
       "      <th>percentage_host_DNA</th>\n",
       "    </tr>\n",
       "    <tr>\n",
       "      <th>organism</th>\n",
       "      <th></th>\n",
       "    </tr>\n",
       "  </thead>\n",
       "  <tbody>\n",
       "    <tr>\n",
       "      <th>Non westernized human / Rural</th>\n",
       "      <td>0.85</td>\n",
       "    </tr>\n",
       "    <tr>\n",
       "      <th>Westernized human / Urban</th>\n",
       "      <td>1.81</td>\n",
       "    </tr>\n",
       "    <tr>\n",
       "      <th>Dog</th>\n",
       "      <td>0.11</td>\n",
       "    </tr>\n",
       "  </tbody>\n",
       "</table>\n",
       "</div>"
      ],
      "text/plain": [
       "                               percentage_host_DNA\n",
       "organism                                          \n",
       "Non westernized human / Rural                 0.85\n",
       "Westernized human / Urban                     1.81\n",
       "Dog                                           0.11"
      ]
     },
     "execution_count": 30,
     "metadata": {},
     "output_type": "execute_result"
    }
   ],
   "source": [
    "host_dna.groupby('organism')['percentage_host_DNA'].mean().round(2).to_frame()"
   ]
  },
  {
   "cell_type": "markdown",
   "metadata": {},
   "source": [
    "Standard deviation per category"
   ]
  },
  {
   "cell_type": "code",
   "execution_count": 31,
   "metadata": {},
   "outputs": [
    {
     "data": {
      "text/html": [
       "<div>\n",
       "<style scoped>\n",
       "    .dataframe tbody tr th:only-of-type {\n",
       "        vertical-align: middle;\n",
       "    }\n",
       "\n",
       "    .dataframe tbody tr th {\n",
       "        vertical-align: top;\n",
       "    }\n",
       "\n",
       "    .dataframe thead th {\n",
       "        text-align: right;\n",
       "    }\n",
       "</style>\n",
       "<table border=\"1\" class=\"dataframe\">\n",
       "  <thead>\n",
       "    <tr style=\"text-align: right;\">\n",
       "      <th></th>\n",
       "      <th>percentage_host_DNA</th>\n",
       "    </tr>\n",
       "    <tr>\n",
       "      <th>organism</th>\n",
       "      <th></th>\n",
       "    </tr>\n",
       "  </thead>\n",
       "  <tbody>\n",
       "    <tr>\n",
       "      <th>Non westernized human / Rural</th>\n",
       "      <td>2.33</td>\n",
       "    </tr>\n",
       "    <tr>\n",
       "      <th>Westernized human / Urban</th>\n",
       "      <td>0.81</td>\n",
       "    </tr>\n",
       "    <tr>\n",
       "      <th>Dog</th>\n",
       "      <td>0.16</td>\n",
       "    </tr>\n",
       "  </tbody>\n",
       "</table>\n",
       "</div>"
      ],
      "text/plain": [
       "                               percentage_host_DNA\n",
       "organism                                          \n",
       "Non westernized human / Rural                 2.33\n",
       "Westernized human / Urban                     0.81\n",
       "Dog                                           0.16"
      ]
     },
     "execution_count": 31,
     "metadata": {},
     "output_type": "execute_result"
    }
   ],
   "source": [
    "host_dna.groupby('organism')['percentage_host_DNA'].std().round(2).to_frame()"
   ]
  },
  {
   "cell_type": "code",
   "execution_count": 42,
   "metadata": {},
   "outputs": [],
   "source": [
    "host_dna_median = host_dna.groupby('organism')['percentage_host_DNA'].median().round(2).to_frame()"
   ]
  },
  {
   "cell_type": "code",
   "execution_count": 43,
   "metadata": {},
   "outputs": [],
   "source": [
    "host_dna_median['count']=host_dna.groupby('organism').count()"
   ]
  },
  {
   "cell_type": "code",
   "execution_count": 44,
   "metadata": {},
   "outputs": [],
   "source": [
    "host_dna_median['percentage_host_label'] = 'med=' + host_dna_median['percentage_host_DNA'].astype(str)\n",
    "host_dna_median['count'] = 'N=' + host_dna_median['count'].astype(str)"
   ]
  },
  {
   "cell_type": "code",
   "execution_count": 45,
   "metadata": {},
   "outputs": [],
   "source": [
    "host_dna_median = host_dna_median.reset_index()"
   ]
  },
  {
   "cell_type": "code",
   "execution_count": 46,
   "metadata": {},
   "outputs": [
    {
     "data": {
      "text/html": [
       "<div>\n",
       "<style scoped>\n",
       "    .dataframe tbody tr th:only-of-type {\n",
       "        vertical-align: middle;\n",
       "    }\n",
       "\n",
       "    .dataframe tbody tr th {\n",
       "        vertical-align: top;\n",
       "    }\n",
       "\n",
       "    .dataframe thead th {\n",
       "        text-align: right;\n",
       "    }\n",
       "</style>\n",
       "<table border=\"1\" class=\"dataframe\">\n",
       "  <thead>\n",
       "    <tr style=\"text-align: right;\">\n",
       "      <th></th>\n",
       "      <th>organism</th>\n",
       "      <th>percentage_host_DNA</th>\n",
       "      <th>count</th>\n",
       "      <th>percentage_host_label</th>\n",
       "    </tr>\n",
       "  </thead>\n",
       "  <tbody>\n",
       "    <tr>\n",
       "      <th>0</th>\n",
       "      <td>Non westernized human / Rural</td>\n",
       "      <td>0.09</td>\n",
       "      <td>N=69</td>\n",
       "      <td>med=0.09</td>\n",
       "    </tr>\n",
       "    <tr>\n",
       "      <th>1</th>\n",
       "      <td>Westernized human / Urban</td>\n",
       "      <td>1.67</td>\n",
       "      <td>N=49</td>\n",
       "      <td>med=1.67</td>\n",
       "    </tr>\n",
       "    <tr>\n",
       "      <th>2</th>\n",
       "      <td>Dog</td>\n",
       "      <td>0.04</td>\n",
       "      <td>N=150</td>\n",
       "      <td>med=0.04</td>\n",
       "    </tr>\n",
       "  </tbody>\n",
       "</table>\n",
       "</div>"
      ],
      "text/plain": [
       "                        organism  percentage_host_DNA  count  \\\n",
       "0  Non westernized human / Rural                 0.09   N=69   \n",
       "1      Westernized human / Urban                 1.67   N=49   \n",
       "2                            Dog                 0.04  N=150   \n",
       "\n",
       "  percentage_host_label  \n",
       "0              med=0.09  \n",
       "1              med=1.67  \n",
       "2              med=0.04  "
      ]
     },
     "execution_count": 46,
     "metadata": {},
     "output_type": "execute_result"
    }
   ],
   "source": [
    "host_dna_median"
   ]
  },
  {
   "cell_type": "markdown",
   "metadata": {},
   "source": [
    "## Color palette:\n",
    "- Westernized human / Urban: '#c40000'\n",
    "- Non westernized human / Rural: '#ff7b00'\n",
    "- Unknown: '#a2a3a1'\n",
    "- Soil: '#75a51c'\n",
    "- Dog: '#2166ac'"
   ]
  },
  {
   "cell_type": "code",
   "execution_count": 36,
   "metadata": {},
   "outputs": [
    {
     "data": {
      "text/html": [
       "<div>\n",
       "<style scoped>\n",
       "    .dataframe tbody tr th:only-of-type {\n",
       "        vertical-align: middle;\n",
       "    }\n",
       "\n",
       "    .dataframe tbody tr th {\n",
       "        vertical-align: top;\n",
       "    }\n",
       "\n",
       "    .dataframe thead th {\n",
       "        text-align: right;\n",
       "    }\n",
       "</style>\n",
       "<table border=\"1\" class=\"dataframe\">\n",
       "  <thead>\n",
       "    <tr style=\"text-align: right;\">\n",
       "      <th></th>\n",
       "      <th>percentage_host_DNA</th>\n",
       "      <th>organism</th>\n",
       "    </tr>\n",
       "  </thead>\n",
       "  <tbody>\n",
       "    <tr>\n",
       "      <th>E5</th>\n",
       "      <td>1.528622</td>\n",
       "      <td>Westernized human / Urban</td>\n",
       "    </tr>\n",
       "    <tr>\n",
       "      <th>F4</th>\n",
       "      <td>1.890002</td>\n",
       "      <td>Westernized human / Urban</td>\n",
       "    </tr>\n",
       "    <tr>\n",
       "      <th>E2</th>\n",
       "      <td>2.572291</td>\n",
       "      <td>Westernized human / Urban</td>\n",
       "    </tr>\n",
       "    <tr>\n",
       "      <th>E1</th>\n",
       "      <td>2.083660</td>\n",
       "      <td>Westernized human / Urban</td>\n",
       "    </tr>\n",
       "    <tr>\n",
       "      <th>B10</th>\n",
       "      <td>3.206811</td>\n",
       "      <td>Westernized human / Urban</td>\n",
       "    </tr>\n",
       "  </tbody>\n",
       "</table>\n",
       "</div>"
      ],
      "text/plain": [
       "     percentage_host_DNA                   organism\n",
       "E5              1.528622  Westernized human / Urban\n",
       "F4              1.890002  Westernized human / Urban\n",
       "E2              2.572291  Westernized human / Urban\n",
       "E1              2.083660  Westernized human / Urban\n",
       "B10             3.206811  Westernized human / Urban"
      ]
     },
     "execution_count": 36,
     "metadata": {},
     "output_type": "execute_result"
    }
   ],
   "source": [
    "host_dna.head()"
   ]
  },
  {
   "cell_type": "code",
   "execution_count": 55,
   "metadata": {},
   "outputs": [
    {
     "name": "stderr",
     "output_type": "stream",
     "text": [
      "/projects1/users/borry/15_miniconda3/lib/python3.7/site-packages/plotnine/positions/position.py:201: PlotnineWarning: position_dodge requires non-overlapping x intervals\n",
      "  warn(msg.format(cls.__name__), PlotnineWarning)\n",
      "/projects1/users/borry/15_miniconda3/lib/python3.7/site-packages/plotnine/ggplot.py:719: PlotnineWarning: Saving 6.4 x 4.8 in image.\n",
      "  from_inches(height, units), units), PlotnineWarning)\n",
      "/projects1/users/borry/15_miniconda3/lib/python3.7/site-packages/plotnine/ggplot.py:720: PlotnineWarning: Filename: results/figure3.png\n",
      "  warn('Filename: {}'.format(filename), PlotnineWarning)\n",
      "/projects1/users/borry/15_miniconda3/lib/python3.7/site-packages/plotnine/positions/position.py:201: PlotnineWarning: position_dodge requires non-overlapping x intervals\n",
      "  warn(msg.format(cls.__name__), PlotnineWarning)\n",
      "/projects1/users/borry/15_miniconda3/lib/python3.7/site-packages/plotnine/ggplot.py:735: MatplotlibDeprecationWarning: \n",
      "The frameon kwarg was deprecated in Matplotlib 3.1 and will be removed in 3.3. Use facecolor instead.\n",
      "  fig.savefig(filename, **fig_kwargs)\n"
     ]
    },
    {
     "data": {
      "image/png": "[encoded data removed]",
      "text/plain": [
       "<Figure size 640x480 with 1 Axes>"
      ]
     },
     "metadata": {},
     "output_type": "display_data"
    }
   ],
   "source": [
    "p = ggplot(host_dna, aes(x=\"organism\", y=\"percentage_host_DNA\")) + geom_violin(aes(fill=\"organism\"))\n",
    "p = p + geom_violin(aes(fill='organism'), width=1.5)\n",
    "p = p + geom_boxplot(alpha=0.1, width=0.2, notch=True) \n",
    "p = p + geom_text(data = host_dna_median, mapping = aes(x='organism',y='percentage_host_DNA',label='percentage_host_label'), size = 8, nudge_x=-0.35, nudge_y=0.28)\n",
    "p = p + geom_text(data = host_dna_median, mapping = aes(x='organism',y='percentage_host_DNA',label='count'), size = 8, nudge_x=+0.3, nudge_y=0.28)\n",
    "# p = p + geom_dotplot(aes(fill='organism'),binaxis='y', stackdir='center', binwidth=0.05, alpha=0.2, stackratio = 0.4)\n",
    "p = p + labs(x = '', y='host DNA (%)') \n",
    "# p = p + theme_classic() + theme(legend_position = (0.7,0.7), axis_text_x=element_text(angle=45, hjust=1))\n",
    "p = p + theme_classic() + theme(legend_position = (0.7,0.7), axis_text_x=element_blank())\n",
    "p = p + scale_fill_manual(name = \"Source\", values = {\"Dog\":\"#2166ac\",\"Non westernized human / Rural\":\"#ff7b00\",\"Westernized human / Urban\":\"#c40000\"})\n",
    "p.draw()\n",
    "p.save('results/figure3.png', dpi=300)"
   ]
  },
  {
   "cell_type": "markdown",
   "metadata": {},
   "source": [
    "## Statistical testing"
   ]
  },
  {
   "cell_type": "code",
   "execution_count": 58,
   "metadata": {},
   "outputs": [],
   "source": [
    "dog_host = host_dna.loc[host_dna.index[host_dna['organism'] == 'Dog'],'percentage_host_DNA']\n",
    "w_human_host = host_dna.loc[host_dna.index[host_dna['organism'] == 'Westernized human / Urban'],'percentage_host_DNA']\n",
    "nw_human_host = host_dna.loc[host_dna.index[host_dna['organism'] == 'Non westernized human / Rural'],'percentage_host_DNA'] "
   ]
  },
  {
   "cell_type": "markdown",
   "metadata": {},
   "source": [
    "## Testing for normality with Shapiro test"
   ]
  },
  {
   "cell_type": "markdown",
   "metadata": {},
   "source": [
    "*The Shapiro-Wilk test tests the null hypothesis that the data was drawn from a normal distribution.*"
   ]
  },
  {
   "cell_type": "code",
   "execution_count": 57,
   "metadata": {},
   "outputs": [],
   "source": [
    "from scipy.stats import shapiro"
   ]
  },
  {
   "cell_type": "markdown",
   "metadata": {},
   "source": [
    "For westernized humans"
   ]
  },
  {
   "cell_type": "code",
   "execution_count": 56,
   "metadata": {},
   "outputs": [
    {
     "ename": "NameError",
     "evalue": "name 'shapiro' is not defined",
     "output_type": "error",
     "traceback": [
      "\u001b[0;31m---------------------\u001b[0m",
      "\u001b[0;31mNameError\u001b[0mTraceback (most recent call last)",
      "\u001b[0;32m<ipython-input-56-273fd92cb3ad>\u001b[0m in \u001b[0;36m<module>\u001b[0;34m\u001b[0m\n\u001b[0;32m----> 1\u001b[0;31m \u001b[0mshapiro\u001b[0m\u001b[0;34m(\u001b[0m\u001b[0mw_human_endo\u001b[0m\u001b[0;34m)\u001b[0m\u001b[0;34m\u001b[0m\u001b[0;34m\u001b[0m\u001b[0m\n\u001b[0m",
      "\u001b[0;31mNameError\u001b[0m: name 'shapiro' is not defined"
     ]
    }
   ],
   "source": [
    "shapiro(w_human_host)"
   ]
  },
  {
   "cell_type": "markdown",
   "metadata": {},
   "source": [
    "The westernized human samples appear to be drawn from a normal distribution"
   ]
  },
  {
   "cell_type": "code",
   "execution_count": 50,
   "metadata": {},
   "outputs": [
    {
     "data": {
      "text/plain": [
       "(0.39096003770828247, 2.0963362407197712e-15)"
      ]
     },
     "execution_count": 50,
     "metadata": {},
     "output_type": "execute_result"
    }
   ],
   "source": [
    "shapiro(nw_human_host)"
   ]
  },
  {
   "cell_type": "markdown",
   "metadata": {},
   "source": [
    "The non-westernized human samples do not appear to be drawn from a normal distribution"
   ]
  },
  {
   "cell_type": "code",
   "execution_count": 51,
   "metadata": {},
   "outputs": [
    {
     "data": {
      "text/plain": [
       "(0.6248308420181274, 5.593901123028149e-18)"
      ]
     },
     "execution_count": 51,
     "metadata": {},
     "output_type": "execute_result"
    }
   ],
   "source": [
    "shapiro(dog_host)"
   ]
  },
  {
   "cell_type": "markdown",
   "metadata": {},
   "source": [
    "The dog samples appear to be drawn from a normal distribution"
   ]
  },
  {
   "cell_type": "markdown",
   "metadata": {},
   "source": [
    "## Comparing sample groups"
   ]
  },
  {
   "cell_type": "markdown",
   "metadata": {},
   "source": [
    "Because two of the three groups are not drawn from normal distributions, we will use the non-parametric alternatives of the ANOVA and t-test"
   ]
  },
  {
   "cell_type": "markdown",
   "metadata": {},
   "source": [
    "\"The Kruskal-Wallis H-test tests the null hypothesis that the population median of all of the groups are equal.\"\n",
    "It is the non-parametric alternative of the ANOVA"
   ]
  },
  {
   "cell_type": "code",
   "execution_count": 59,
   "metadata": {},
   "outputs": [
    {
     "data": {
      "text/plain": [
       "KruskalResult(statistic=117.4070038210566, pvalue=3.2017915333474645e-26)"
      ]
     },
     "execution_count": 59,
     "metadata": {},
     "output_type": "execute_result"
    }
   ],
   "source": [
    "stats.kruskal(dog_host, w_human_host, nw_human_host)"
   ]
  },
  {
   "cell_type": "markdown",
   "metadata": {},
   "source": [
    "The *p value* is < 0.05, there is a difference between the medians of the three sources"
   ]
  },
  {
   "cell_type": "markdown",
   "metadata": {},
   "source": [
    "#### Dog vs Non westernized human"
   ]
  },
  {
   "cell_type": "markdown",
   "metadata": {},
   "source": [
    "\"The Mann–Whitney U test can be used to determine whether two independent samples were selected from populations having the same distribution.\n",
    "The alternative hypothesis H1 is that the distributions are not equal.\""
   ]
  },
  {
   "cell_type": "code",
   "execution_count": 60,
   "metadata": {},
   "outputs": [
    {
     "data": {
      "text/plain": [
       "MannwhitneyuResult(statistic=3327.0, pvalue=1.1114072840938185e-05)"
      ]
     },
     "execution_count": 60,
     "metadata": {},
     "output_type": "execute_result"
    }
   ],
   "source": [
    "stats.mannwhitneyu(dog_host, nw_human_host)"
   ]
  },
  {
   "cell_type": "markdown",
   "metadata": {},
   "source": [
    "The p value is < 0.05: distributions are not equal. (H0 rejected)"
   ]
  },
  {
   "cell_type": "markdown",
   "metadata": {},
   "source": [
    "#### Dog vs Westernized human"
   ]
  },
  {
   "cell_type": "code",
   "execution_count": 61,
   "metadata": {},
   "outputs": [
    {
     "data": {
      "text/plain": [
       "MannwhitneyuResult(statistic=41.0, pvalue=1.5061670087718647e-25)"
      ]
     },
     "execution_count": 61,
     "metadata": {},
     "output_type": "execute_result"
    }
   ],
   "source": [
    "stats.mannwhitneyu(dog_host, w_human_host)"
   ]
  },
  {
   "cell_type": "markdown",
   "metadata": {},
   "source": [
    "The p value is < 0.05: distributions are not equal. (H0 rejected)"
   ]
  },
  {
   "cell_type": "markdown",
   "metadata": {},
   "source": [
    "#### Westernized human vs Non Westernized human"
   ]
  },
  {
   "cell_type": "code",
   "execution_count": 62,
   "metadata": {},
   "outputs": [
    {
     "data": {
      "text/plain": [
       "MannwhitneyuResult(statistic=370.0, pvalue=2.8204595467795166e-13)"
      ]
     },
     "execution_count": 62,
     "metadata": {},
     "output_type": "execute_result"
    }
   ],
   "source": [
    "stats.mannwhitneyu(w_human_host, nw_human_host)"
   ]
  },
  {
   "cell_type": "markdown",
   "metadata": {},
   "source": [
    "The p value is < 0.05: distributions are not equal. (H0 rejected)"
   ]
  },
  {
   "cell_type": "markdown",
   "metadata": {},
   "source": [
    "#### Dog vs all Human"
   ]
  },
  {
   "cell_type": "code",
   "execution_count": 63,
   "metadata": {},
   "outputs": [],
   "source": [
    "human_host= host_dna.loc[host_dna.index[host_dna['organism'].isin(['Westernized human / Urban','Non westernized human / Rural'])] ,'percentage_host_DNA']"
   ]
  },
  {
   "cell_type": "code",
   "execution_count": 64,
   "metadata": {},
   "outputs": [
    {
     "data": {
      "text/plain": [
       "count    118.000000\n",
       "mean       1.247484\n",
       "std        1.912581\n",
       "min        0.012799\n",
       "25%        0.070754\n",
       "50%        0.485618\n",
       "75%        1.846473\n",
       "max       12.722235\n",
       "Name: percentage_host_DNA, dtype: float64"
      ]
     },
     "execution_count": 64,
     "metadata": {},
     "output_type": "execute_result"
    }
   ],
   "source": [
    "human_host.describe()"
   ]
  },
  {
   "cell_type": "code",
   "execution_count": 65,
   "metadata": {},
   "outputs": [
    {
     "data": {
      "text/plain": [
       "count    150.000000\n",
       "mean       0.106391\n",
       "std        0.158886\n",
       "min        0.005393\n",
       "25%        0.018799\n",
       "50%        0.041548\n",
       "75%        0.100043\n",
       "max        0.865627\n",
       "Name: percentage_host_DNA, dtype: float64"
      ]
     },
     "execution_count": 65,
     "metadata": {},
     "output_type": "execute_result"
    }
   ],
   "source": [
    "dog_host.describe()"
   ]
  },
  {
   "cell_type": "code",
   "execution_count": 66,
   "metadata": {},
   "outputs": [
    {
     "data": {
      "text/plain": [
       "MannwhitneyuResult(statistic=3368.0, pvalue=1.6280714998906906e-18)"
      ]
     },
     "execution_count": 66,
     "metadata": {},
     "output_type": "execute_result"
    }
   ],
   "source": [
    "stats.mannwhitneyu(dog_host, human_host)"
   ]
  },
  {
   "cell_type": "markdown",
   "metadata": {},
   "source": [
    "The p value is < 0.05: distributions are not equal. (H0 rejected)"
   ]
  }
 ],
 "metadata": {
  "kernelspec": {
   "display_name": "Python [conda env:coproid_article]",
   "language": "python",
   "name": "conda-env-coproid_article-py"
  },
  "language_info": {
   "codemirror_mode": {
    "name": "ipython",
    "version": 3
   },
   "file_extension": ".py",
   "mimetype": "text/x-python",
   "name": "python",
   "nbconvert_exporter": "python",
   "pygments_lexer": "ipython3",
   "version": "3.7.6"
  }
 },
 "nbformat": 4,
 "nbformat_minor": 4
}
