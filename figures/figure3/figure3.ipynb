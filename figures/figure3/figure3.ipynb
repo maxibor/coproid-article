{
 "cells": [
  {
   "cell_type": "markdown",
   "metadata": {},
   "source": [
    "# Figure 3: Modern population t-SNE embedding"
   ]
  },
  {
   "cell_type": "code",
   "execution_count": 86,
   "metadata": {},
   "outputs": [],
   "source": [
    "import pandas as pd\n",
    "import skbio\n",
    "import sklearn\n",
    "from plotnine import *\n",
    "import numpy as np\n",
    "import multiprocessing\n",
    "from functools import partial\n",
    "from ete3 import NCBITaxa\n",
    "from io import StringIO\n",
    "from skbio.diversity import beta_diversity\n",
    "from skbio.stats.ordination import pcoa as skbio_mds\n",
    "from sklearn.manifold import TSNE\n",
    "from skbio import TreeNode"
   ]
  },
  {
   "cell_type": "code",
   "execution_count": 107,
   "metadata": {},
   "outputs": [],
   "source": [
    "seed=42\n",
    "np.random.seed(seed)"
   ]
  },
  {
   "cell_type": "code",
   "execution_count": 63,
   "metadata": {},
   "outputs": [],
   "source": [
    "modern_sources = pd.read_csv(\"../../data/sourcepredict/modern_gut_microbiomes_sources.csv\")\n",
    "modern_labels = pd.read_csv(\"../../data/sourcepredict/modern_gut_microbiomes_labels.csv\", index_col=0)"
   ]
  },
  {
   "cell_type": "code",
   "execution_count": 115,
   "metadata": {},
   "outputs": [
    {
     "data": {
      "text/html": [
       "<div>\n",
       "<style scoped>\n",
       "    .dataframe tbody tr th:only-of-type {\n",
       "        vertical-align: middle;\n",
       "    }\n",
       "\n",
       "    .dataframe tbody tr th {\n",
       "        vertical-align: top;\n",
       "    }\n",
       "\n",
       "    .dataframe thead th {\n",
       "        text-align: right;\n",
       "    }\n",
       "</style>\n",
       "<table border=\"1\" class=\"dataframe\">\n",
       "  <thead>\n",
       "    <tr style=\"text-align: right;\">\n",
       "      <th></th>\n",
       "      <th>labels</th>\n",
       "    </tr>\n",
       "  </thead>\n",
       "  <tbody>\n",
       "    <tr>\n",
       "      <th>SRR1175007</th>\n",
       "      <td>Homo_sapiens</td>\n",
       "    </tr>\n",
       "    <tr>\n",
       "      <th>SRR042182</th>\n",
       "      <td>Homo_sapiens</td>\n",
       "    </tr>\n",
       "    <tr>\n",
       "      <th>SRR061154</th>\n",
       "      <td>Homo_sapiens</td>\n",
       "    </tr>\n",
       "    <tr>\n",
       "      <th>SRR061499</th>\n",
       "      <td>Homo_sapiens</td>\n",
       "    </tr>\n",
       "    <tr>\n",
       "      <th>SRR063469</th>\n",
       "      <td>Homo_sapiens</td>\n",
       "    </tr>\n",
       "  </tbody>\n",
       "</table>\n",
       "</div>"
      ],
      "text/plain": [
       "                  labels\n",
       "SRR1175007  Homo_sapiens\n",
       "SRR042182   Homo_sapiens\n",
       "SRR061154   Homo_sapiens\n",
       "SRR061499   Homo_sapiens\n",
       "SRR063469   Homo_sapiens"
      ]
     },
     "execution_count": 115,
     "metadata": {},
     "output_type": "execute_result"
    }
   ],
   "source": [
    "modern_labels.head()"
   ]
  },
  {
   "cell_type": "code",
   "execution_count": 78,
   "metadata": {},
   "outputs": [],
   "source": [
    "def gmpr_size_factor(col, ar):\n",
    "    pr = np.apply_along_axis(lambda x: np.divide(ar[:, col], x), 0, ar)\n",
    "    pr[np.isinf(pr)] = np.nan\n",
    "    pr[pr == 0] = np.nan\n",
    "    pr_median = np.nanmedian(pr, axis=0)\n",
    "    return(np.exp(np.mean(np.log(pr_median))))\n",
    "\n",
    "def GMPR_normalize(df, process):\n",
    "    \"\"\"\n",
    "    Global Mean of Pairwise Ratios\n",
    "    Chen, L., Reeve, J., Zhang, L., Huang, S., Wang, X., & Chen, J. (2018). \n",
    "    GMPR: A robust normalization method for zero-inflated count data \n",
    "    with application to microbiome sequencing data. \n",
    "    PeerJ, 6, e4600.\n",
    "    \"\"\"\n",
    "    ar = np.asarray(df)\n",
    "\n",
    "    gmpr_sf_partial = partial(gmpr_size_factor, ar=ar)\n",
    "    with multiprocessing.Pool(process) as p:\n",
    "        sf = p.map(gmpr_sf_partial, list(range(np.shape(ar)[1])))\n",
    "\n",
    "    return(pd.DataFrame(np.divide(ar, sf), index=df.index, columns=df.columns))"
   ]
  },
  {
   "cell_type": "markdown",
   "metadata": {},
   "source": [
    "## GMPR Normalization"
   ]
  },
  {
   "cell_type": "code",
   "execution_count": null,
   "metadata": {},
   "outputs": [],
   "source": [
    "modern_norm = GMPR_normalize(modern_sources, process=10)"
   ]
  },
  {
   "cell_type": "markdown",
   "metadata": {},
   "source": [
    "### Dividing dataset intro train and test"
   ]
  },
  {
   "cell_type": "code",
   "execution_count": 83,
   "metadata": {},
   "outputs": [],
   "source": [
    "training = modern_norm.sample(frac=0.8, axis = 1)"
   ]
  },
  {
   "cell_type": "code",
   "execution_count": 84,
   "metadata": {},
   "outputs": [],
   "source": [
    "test = modern_norm.drop(training.columns, axis=1)"
   ]
  },
  {
   "cell_type": "markdown",
   "metadata": {},
   "source": [
    "#### Panel A: Embedding of the training dataset"
   ]
  },
  {
   "cell_type": "markdown",
   "metadata": {},
   "source": [
    "**Computing the distance matrix**"
   ]
  },
  {
   "cell_type": "code",
   "execution_count": 103,
   "metadata": {},
   "outputs": [],
   "source": [
    " def compute_distance(df, rank='species'):\n",
    "        \"\"\"\n",
    "        Sample pairwise distance computation\n",
    "        Args:\n",
    "            - rank(str): Taxonomics rank to keep for filtering OTUs\n",
    "        \"\"\"\n",
    "\n",
    "        # Getting a single Taxonomic rank\n",
    "        ncbi = NCBITaxa()\n",
    "        only_rank = []\n",
    "        for i in list(df.index):\n",
    "            try:\n",
    "                if ncbi.get_rank([i])[i] == rank:\n",
    "                    only_rank.append(i)\n",
    "            except KeyError:\n",
    "                continue\n",
    "        df_rank = df.loc[only_rank, :].T\n",
    "        tree = ncbi.get_topology(list(df_rank.columns), intermediate_nodes=False)\n",
    "        newick = TreeNode.read(StringIO(tree.write()))\n",
    "        df_wu = beta_diversity(\"weighted_unifrac\", counts=df_rank.values.astype(int), ids=list(df_rank.index), otu_ids=[str(i) for i in list(df_rank.columns)], tree=newick)\n",
    "        df_wu = df_wu.to_data_frame()\n",
    "        return(df_wu)"
   ]
  },
  {
   "cell_type": "code",
   "execution_count": 105,
   "metadata": {},
   "outputs": [],
   "source": [
    "training_wu_df = compute_distance(training)"
   ]
  },
  {
   "cell_type": "markdown",
   "metadata": {},
   "source": [
    "**TSNE Embedding**"
   ]
  },
  {
   "cell_type": "code",
   "execution_count": 109,
   "metadata": {},
   "outputs": [],
   "source": [
    "tsne = TSNE(metric='precomputed',n_components=2, random_state=seed)\n",
    "train_embed = tsne.fit(np.matrix(training_wu_df))"
   ]
  },
  {
   "cell_type": "code",
   "execution_count": 113,
   "metadata": {},
   "outputs": [],
   "source": [
    "train_embed = pd.DataFrame(train_embed.embedding_, columns = ['DIM1','DIM2'], index = training_wu_df.index)"
   ]
  },
  {
   "cell_type": "code",
   "execution_count": 117,
   "metadata": {},
   "outputs": [],
   "source": [
    "train_embed_plot =train_embed.merge(modern_labels, left_index=True, right_index=True)"
   ]
  },
  {
   "cell_type": "code",
   "execution_count": 118,
   "metadata": {},
   "outputs": [
    {
     "data": {
      "text/html": [
       "<div>\n",
       "<style scoped>\n",
       "    .dataframe tbody tr th:only-of-type {\n",
       "        vertical-align: middle;\n",
       "    }\n",
       "\n",
       "    .dataframe tbody tr th {\n",
       "        vertical-align: top;\n",
       "    }\n",
       "\n",
       "    .dataframe thead th {\n",
       "        text-align: right;\n",
       "    }\n",
       "</style>\n",
       "<table border=\"1\" class=\"dataframe\">\n",
       "  <thead>\n",
       "    <tr style=\"text-align: right;\">\n",
       "      <th></th>\n",
       "      <th>DIM1</th>\n",
       "      <th>DIM2</th>\n",
       "      <th>labels</th>\n",
       "    </tr>\n",
       "  </thead>\n",
       "  <tbody>\n",
       "    <tr>\n",
       "      <th>SRR063471</th>\n",
       "      <td>24.741173</td>\n",
       "      <td>-4.753068</td>\n",
       "      <td>Homo_sapiens</td>\n",
       "    </tr>\n",
       "    <tr>\n",
       "      <th>SRR7658617</th>\n",
       "      <td>-5.958518</td>\n",
       "      <td>-11.006940</td>\n",
       "      <td>Homo_sapiens</td>\n",
       "    </tr>\n",
       "    <tr>\n",
       "      <th>SRR5899013</th>\n",
       "      <td>-9.917368</td>\n",
       "      <td>-3.235994</td>\n",
       "      <td>Homo_sapiens</td>\n",
       "    </tr>\n",
       "    <tr>\n",
       "      <th>SRR1761700</th>\n",
       "      <td>1.706702</td>\n",
       "      <td>-1.039228</td>\n",
       "      <td>Homo_sapiens</td>\n",
       "    </tr>\n",
       "    <tr>\n",
       "      <th>SRR7658630</th>\n",
       "      <td>-4.149984</td>\n",
       "      <td>-0.303667</td>\n",
       "      <td>Homo_sapiens</td>\n",
       "    </tr>\n",
       "  </tbody>\n",
       "</table>\n",
       "</div>"
      ],
      "text/plain": [
       "                 DIM1       DIM2        labels\n",
       "SRR063471   24.741173  -4.753068  Homo_sapiens\n",
       "SRR7658617  -5.958518 -11.006940  Homo_sapiens\n",
       "SRR5899013  -9.917368  -3.235994  Homo_sapiens\n",
       "SRR1761700   1.706702  -1.039228  Homo_sapiens\n",
       "SRR7658630  -4.149984  -0.303667  Homo_sapiens"
      ]
     },
     "execution_count": 118,
     "metadata": {},
     "output_type": "execute_result"
    }
   ],
   "source": [
    "train_embed_plot.head()"
   ]
  },
  {
   "cell_type": "code",
   "execution_count": 120,
   "metadata": {},
   "outputs": [
    {
     "data": {
      "image/png": "[encoded data removed]",
      "text/plain": [
       "<Figure size 640x480 with 1 Axes>"
      ]
     },
     "metadata": {},
     "output_type": "display_data"
    },
    {
     "data": {
      "text/plain": [
       "<ggplot: (8768918076771)>"
      ]
     },
     "execution_count": 120,
     "metadata": {},
     "output_type": "execute_result"
    }
   ],
   "source": [
    "ggplot(train_embed_plot, aes(x='DIM1',y='DIM2')) + geom_point(aes(color='labels'))"
   ]
  }
 ],
 "metadata": {
  "kernelspec": {
   "display_name": "Python [conda env:coproid_article] *",
   "language": "python",
   "name": "conda-env-coproid_article-py"
  },
  "language_info": {
   "codemirror_mode": {
    "name": "ipython",
    "version": 3
   },
   "file_extension": ".py",
   "mimetype": "text/x-python",
   "name": "python",
   "nbconvert_exporter": "python",
   "pygments_lexer": "ipython3",
   "version": "3.6.8"
  }
 },
 "nbformat": 4,
 "nbformat_minor": 2
}
