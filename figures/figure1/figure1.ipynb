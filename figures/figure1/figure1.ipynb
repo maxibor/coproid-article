{
 "cells": [
  {
   "cell_type": "markdown",
   "metadata": {},
   "source": [
    "# Figure 1: Host DNA percentage"
   ]
  },
  {
   "cell_type": "markdown",
   "metadata": {},
   "source": [
    "## A: Human host DNA percentage"
   ]
  },
  {
   "cell_type": "markdown",
   "metadata": {},
   "source": [
    "Importing libraries"
   ]
  },
  {
   "cell_type": "code",
   "execution_count": 2,
   "metadata": {},
   "outputs": [
    {
     "ename": "ModuleNotFoundError",
     "evalue": "No module named 'seaborn'",
     "output_type": "error",
     "traceback": [
      "\u001b[0;31m---------------------------------------------------------------------------\u001b[0m",
      "\u001b[0;31mModuleNotFoundError\u001b[0m                       Traceback (most recent call last)",
      "\u001b[0;32m<ipython-input-2-b566e978a38e>\u001b[0m in \u001b[0;36m<module>\u001b[0;34m\u001b[0m\n\u001b[1;32m      7\u001b[0m \u001b[0;32mfrom\u001b[0m \u001b[0mfunctools\u001b[0m \u001b[0;32mimport\u001b[0m \u001b[0mpartial\u001b[0m\u001b[0;34m\u001b[0m\u001b[0;34m\u001b[0m\u001b[0m\n\u001b[1;32m      8\u001b[0m \u001b[0;32mimport\u001b[0m \u001b[0mmatplotlib\u001b[0m\u001b[0;34m.\u001b[0m\u001b[0mpyplot\u001b[0m \u001b[0;32mas\u001b[0m \u001b[0mplt\u001b[0m\u001b[0;34m\u001b[0m\u001b[0;34m\u001b[0m\u001b[0m\n\u001b[0;32m----> 9\u001b[0;31m \u001b[0;32mimport\u001b[0m \u001b[0mseaborn\u001b[0m \u001b[0;32mas\u001b[0m \u001b[0msns\u001b[0m\u001b[0;34m\u001b[0m\u001b[0;34m\u001b[0m\u001b[0m\n\u001b[0m\u001b[1;32m     10\u001b[0m \u001b[0;32mfrom\u001b[0m \u001b[0mscipy\u001b[0m \u001b[0;32mimport\u001b[0m \u001b[0mstats\u001b[0m\u001b[0;34m\u001b[0m\u001b[0;34m\u001b[0m\u001b[0m\n",
      "\u001b[0;31mModuleNotFoundError\u001b[0m: No module named 'seaborn'"
     ]
    }
   ],
   "source": [
    "import multiprocessing\n",
    "import pandas as pd\n",
    "import subprocess\n",
    "import pysam\n",
    "import os\n",
    "from tqdm import tqdm\n",
    "from functools import partial\n",
    "import matplotlib.pyplot as plt\n",
    "import seaborn as sns\n",
    "from scipy import stats"
   ]
  },
  {
   "cell_type": "markdown",
   "metadata": {},
   "source": [
    "Defining functions to parse alignment files"
   ]
  },
  {
   "cell_type": "code",
   "execution_count": 2,
   "metadata": {},
   "outputs": [],
   "source": [
    "def perChromosome(chr, bam, min_id, min_len):\n",
    "    resdic = {}\n",
    "    mapped = 0\n",
    "    bamfile = pysam.AlignmentFile(bam, \"rb\")\n",
    "    reads = bamfile.fetch(chr, multiple_iterators=True)\n",
    "    for read in reads:\n",
    "        mismatch = read.get_tag(\"NM\")\n",
    "        alnLen = read.query_alignment_length\n",
    "        readLen = read.query_length\n",
    "        identity = (alnLen - mismatch) / readLen\n",
    "        if identity >= min_id and alnLen > min_len :\n",
    "            mapped +=1\n",
    "    return(mapped)\n",
    "\n",
    "def getNumberMappedReadsMultiprocess(bam, processes, min_id, min_len):\n",
    "    try:\n",
    "        bamfile = pysam.AlignmentFile(bam, \"rb\")\n",
    "    except ValueError as e:\n",
    "        print(e)\n",
    "    chrs = bamfile.references\n",
    "\n",
    "    perChromosomePartial = partial(\n",
    "        perChromosome, bam=bam, min_id = min_id, min_len = min_len)\n",
    "    p = multiprocessing.Pool(processes)\n",
    "    result = p.map(perChromosomePartial, chrs)\n",
    "    p.close()\n",
    "    p.join()\n",
    "    mapped = sum(result)\n",
    "    total = bamfile.mapped + bamfile.unmapped\n",
    "    return({bam.split(\"/\")[-1].split(\".\")[0]:[mapped, total]})\n",
    "\n",
    "def getTotalReads(bam):\n",
    "    try:\n",
    "        bamfile = pysam.AlignmentFile(bam, \"rb\")\n",
    "    except ValueError as e:\n",
    "        print(e)\n",
    "    total = bamfile.mapped + bamfile.unmapped\n",
    "    return({bam.split(\"/\")[-1].split(\".\")[0]:total})\n",
    "        "
   ]
  },
  {
   "cell_type": "markdown",
   "metadata": {},
   "source": [
    "Setting up the list of bam files"
   ]
  },
  {
   "cell_type": "code",
   "execution_count": null,
   "metadata": {},
   "outputs": [],
   "source": [
    "human_western_bams = \n",
    "human_non_western_bams =  "
   ]
  }
 ],
 "metadata": {
  "kernelspec": {
   "display_name": "Python 3",
   "language": "python",
   "name": "python3"
  },
  "language_info": {
   "codemirror_mode": {
    "name": "ipython",
    "version": 3
   },
   "file_extension": ".py",
   "mimetype": "text/x-python",
   "name": "python",
   "nbconvert_exporter": "python",
   "pygments_lexer": "ipython3",
   "version": "3.6.8"
  }
 },
 "nbformat": 4,
 "nbformat_minor": 2
}
