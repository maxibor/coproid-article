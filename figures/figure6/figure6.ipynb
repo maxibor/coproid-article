{
 "cells": [
  {
   "cell_type": "code",
   "execution_count": 3,
   "metadata": {},
   "outputs": [],
   "source": [
    "import pandas as pd\n",
    "from plotnine import *\n",
    "import numpy as np\n",
    "import multiprocessing\n",
    "from adjustText import adjust_text"
   ]
  },
  {
   "cell_type": "markdown",
   "metadata": {},
   "source": [
    "## Fig 6: t-SNE embedding with archaelogical samples"
   ]
  },
  {
   "cell_type": "code",
   "execution_count": 1,
   "metadata": {},
   "outputs": [],
   "source": [
    "s = \"../../data/sourcepredict/sourcepredict_embedding.csv\"\n",
    "s_pred = \"../../data/sourcepredict/prediction.sourcepredict.csv\""
   ]
  },
  {
   "cell_type": "code",
   "execution_count": 4,
   "metadata": {},
   "outputs": [],
   "source": [
    "sp = pd.read_csv(s, index_col=0)"
   ]
  },
  {
   "cell_type": "code",
   "execution_count": 5,
   "metadata": {},
   "outputs": [],
   "source": [
    "spp = pd.read_csv(s_pred, index_col=0).T"
   ]
  },
  {
   "cell_type": "code",
   "execution_count": 6,
   "metadata": {},
   "outputs": [],
   "source": [
    "conditions = [(spp['Canis_familiaris'] > 0.5) ,\n",
    "              (spp['Homo_sapiens'] > 0.5),\n",
    "              (spp['Soil'] > 0.5),\n",
    "              (spp['unknown'] > 0.5)\n",
    "             ]\n",
    "choices = ['Canis familiaris', 'Homo sapiens', 'Soil', 'Unknown']\n",
    "spp['Predicted organism'] = np.select(conditions, choices, default='Unknown')"
   ]
  },
  {
   "cell_type": "code",
   "execution_count": 7,
   "metadata": {},
   "outputs": [],
   "source": [
    "sp['organism'] = sp.drop(spp.index, axis=0)['labels'].append(spp['Predicted organism'])"
   ]
  },
  {
   "cell_type": "code",
   "execution_count": 8,
   "metadata": {},
   "outputs": [],
   "source": [
    "sp['ml'] = np.where(sp['labels'] == 'sink', 'predicted', 'reference')"
   ]
  },
  {
   "cell_type": "code",
   "execution_count": 9,
   "metadata": {},
   "outputs": [
    {
     "data": {
      "text/plain": [
       "Homo_sapiens        262\n",
       "Canis_familiaris    150\n",
       "Soil                 26\n",
       "Homo sapiens          8\n",
       "Unknown               5\n",
       "Canis familiaris      2\n",
       "Name: organism, dtype: int64"
      ]
     },
     "execution_count": 9,
     "metadata": {},
     "output_type": "execute_result"
    }
   ],
   "source": [
    "sp['organism'].value_counts()"
   ]
  },
  {
   "cell_type": "code",
   "execution_count": 10,
   "metadata": {},
   "outputs": [],
   "source": [
    "sp['organism'] = sp['organism'].str.replace('_',\" \")"
   ]
  },
  {
   "cell_type": "code",
   "execution_count": 11,
   "metadata": {},
   "outputs": [
    {
     "data": {
      "text/html": [
       "<div>\n",
       "<style scoped>\n",
       "    .dataframe tbody tr th:only-of-type {\n",
       "        vertical-align: middle;\n",
       "    }\n",
       "\n",
       "    .dataframe tbody tr th {\n",
       "        vertical-align: top;\n",
       "    }\n",
       "\n",
       "    .dataframe thead th {\n",
       "        text-align: right;\n",
       "    }\n",
       "</style>\n",
       "<table border=\"1\" class=\"dataframe\">\n",
       "  <thead>\n",
       "    <tr style=\"text-align: right;\">\n",
       "      <th></th>\n",
       "      <th>PC1</th>\n",
       "      <th>PC2</th>\n",
       "      <th>labels</th>\n",
       "      <th>name</th>\n",
       "      <th>organism</th>\n",
       "      <th>ml</th>\n",
       "    </tr>\n",
       "  </thead>\n",
       "  <tbody>\n",
       "    <tr>\n",
       "      <th>BRF001</th>\n",
       "      <td>-12.659374</td>\n",
       "      <td>-35.260160</td>\n",
       "      <td>sink</td>\n",
       "      <td>BRF001</td>\n",
       "      <td>Soil</td>\n",
       "      <td>predicted</td>\n",
       "    </tr>\n",
       "    <tr>\n",
       "      <th>SRR1761698</th>\n",
       "      <td>-20.741577</td>\n",
       "      <td>3.050676</td>\n",
       "      <td>Homo_sapiens</td>\n",
       "      <td>SRR1761698</td>\n",
       "      <td>Homo sapiens</td>\n",
       "      <td>reference</td>\n",
       "    </tr>\n",
       "    <tr>\n",
       "      <th>ERR1916193</th>\n",
       "      <td>27.776525</td>\n",
       "      <td>-1.021203</td>\n",
       "      <td>Canis_familiaris</td>\n",
       "      <td>ERR1916193</td>\n",
       "      <td>Canis familiaris</td>\n",
       "      <td>reference</td>\n",
       "    </tr>\n",
       "    <tr>\n",
       "      <th>SRR7658648</th>\n",
       "      <td>-13.075557</td>\n",
       "      <td>-8.574438</td>\n",
       "      <td>Homo_sapiens</td>\n",
       "      <td>SRR7658648</td>\n",
       "      <td>Homo sapiens</td>\n",
       "      <td>reference</td>\n",
       "    </tr>\n",
       "    <tr>\n",
       "      <th>ERR1916315</th>\n",
       "      <td>21.396618</td>\n",
       "      <td>9.574379</td>\n",
       "      <td>Canis_familiaris</td>\n",
       "      <td>ERR1916315</td>\n",
       "      <td>Canis familiaris</td>\n",
       "      <td>reference</td>\n",
       "    </tr>\n",
       "    <tr>\n",
       "      <th>AHP003</th>\n",
       "      <td>-12.097717</td>\n",
       "      <td>-35.152150</td>\n",
       "      <td>sink</td>\n",
       "      <td>AHP003</td>\n",
       "      <td>Soil</td>\n",
       "      <td>predicted</td>\n",
       "    </tr>\n",
       "    <tr>\n",
       "      <th>MLP001</th>\n",
       "      <td>-6.291108</td>\n",
       "      <td>-30.472930</td>\n",
       "      <td>sink</td>\n",
       "      <td>MLP001</td>\n",
       "      <td>Unknown</td>\n",
       "      <td>predicted</td>\n",
       "    </tr>\n",
       "    <tr>\n",
       "      <th>SRR2195742</th>\n",
       "      <td>-20.952112</td>\n",
       "      <td>-7.702335</td>\n",
       "      <td>Homo_sapiens</td>\n",
       "      <td>SRR2195742</td>\n",
       "      <td>Homo sapiens</td>\n",
       "      <td>reference</td>\n",
       "    </tr>\n",
       "    <tr>\n",
       "      <th>SRR059395</th>\n",
       "      <td>-1.323847</td>\n",
       "      <td>28.240078</td>\n",
       "      <td>Homo_sapiens</td>\n",
       "      <td>SRR059395</td>\n",
       "      <td>Homo sapiens</td>\n",
       "      <td>reference</td>\n",
       "    </tr>\n",
       "    <tr>\n",
       "      <th>AHP001</th>\n",
       "      <td>-8.097011</td>\n",
       "      <td>-31.538100</td>\n",
       "      <td>sink</td>\n",
       "      <td>AHP001</td>\n",
       "      <td>Unknown</td>\n",
       "      <td>predicted</td>\n",
       "    </tr>\n",
       "  </tbody>\n",
       "</table>\n",
       "</div>"
      ],
      "text/plain": [
       "                  PC1        PC2            labels        name  \\\n",
       "BRF001     -12.659374 -35.260160              sink      BRF001   \n",
       "SRR1761698 -20.741577   3.050676      Homo_sapiens  SRR1761698   \n",
       "ERR1916193  27.776525  -1.021203  Canis_familiaris  ERR1916193   \n",
       "SRR7658648 -13.075557  -8.574438      Homo_sapiens  SRR7658648   \n",
       "ERR1916315  21.396618   9.574379  Canis_familiaris  ERR1916315   \n",
       "AHP003     -12.097717 -35.152150              sink      AHP003   \n",
       "MLP001      -6.291108 -30.472930              sink      MLP001   \n",
       "SRR2195742 -20.952112  -7.702335      Homo_sapiens  SRR2195742   \n",
       "SRR059395   -1.323847  28.240078      Homo_sapiens   SRR059395   \n",
       "AHP001      -8.097011 -31.538100              sink      AHP001   \n",
       "\n",
       "                    organism         ml  \n",
       "BRF001                  Soil  predicted  \n",
       "SRR1761698      Homo sapiens  reference  \n",
       "ERR1916193  Canis familiaris  reference  \n",
       "SRR7658648      Homo sapiens  reference  \n",
       "ERR1916315  Canis familiaris  reference  \n",
       "AHP003                  Soil  predicted  \n",
       "MLP001               Unknown  predicted  \n",
       "SRR2195742      Homo sapiens  reference  \n",
       "SRR059395       Homo sapiens  reference  \n",
       "AHP001               Unknown  predicted  "
      ]
     },
     "execution_count": 11,
     "metadata": {},
     "output_type": "execute_result"
    }
   ],
   "source": [
    "sp.sample(10)"
   ]
  },
  {
   "cell_type": "code",
   "execution_count": 13,
   "metadata": {},
   "outputs": [],
   "source": [
    "sp_ref = sp.query('ml == \"reference\"')\n",
    "sp_pred = sp.query('ml == \"predicted\"')"
   ]
  },
  {
   "cell_type": "code",
   "execution_count": 14,
   "metadata": {},
   "outputs": [],
   "source": [
    "sample_type = pd.DataFrame({\n",
    "    'AHP003':['Coprolite', '11' ],\n",
    "    'CMN001':['Archaelogical sediment','20'],\n",
    "    'ZSM005':['Coprolite','02'],\n",
    "    'ZSM002':['Coprolite','01'],\n",
    "    'ZSM029':['Coprolite','07'],\n",
    "    'YRK001':['Coprolite','13'],\n",
    "    'ZSM025':['Coprolite','04'],\n",
    "    'TRO001':['Archaelogical sediment','14'],\n",
    "    'ZSM028':['Coprolite','06'],\n",
    "    'ZSM031':['Coprolite','08'],\n",
    "    'ZSM023':['Coprolite','03'],\n",
    "    'ECO004':['Archaelogical sediment','19'],\n",
    "    'AHP001':['Coprolite','09'],\n",
    "    'AHP002':['Coprolite','10'],\n",
    "    'CBA001':['Archaelogical sediment','16'],\n",
    "    'LEI010':['Archaelogical sediment','18'],\n",
    "    'AHP004':['Coprolite','12'],\n",
    "    'DRL001':['Archaelogical sediment','15'],\n",
    "    'ZSM027':['Coprolite','05'],\n",
    "    'BRF001':['Archaelogical sediment','17'],\n",
    "    'MLP001':['Archaelogical sediment','21'],\n",
    "}, index = ['sample_type','plot_id'])"
   ]
  },
  {
   "cell_type": "code",
   "execution_count": 15,
   "metadata": {},
   "outputs": [],
   "source": [
    "sp_pred = sp_pred.merge(sample_type.T, left_index=True, right_index=True)"
   ]
  },
  {
   "cell_type": "code",
   "execution_count": 16,
   "metadata": {},
   "outputs": [
    {
     "data": {
      "text/plain": [
       "ZSM002    01\n",
       "ZSM005    02\n",
       "ZSM023    03\n",
       "ZSM025    04\n",
       "ZSM027    05\n",
       "ZSM028    06\n",
       "ZSM029    07\n",
       "ZSM031    08\n",
       "AHP001    09\n",
       "AHP002    10\n",
       "AHP003    11\n",
       "AHP004    12\n",
       "YRK001    13\n",
       "TRO001    14\n",
       "DRL001    15\n",
       "CBA001    16\n",
       "BRF001    17\n",
       "LEI010    18\n",
       "ECO004    19\n",
       "CMN001    20\n",
       "MLP001    21\n",
       "Name: plot_id, dtype: object"
      ]
     },
     "execution_count": 16,
     "metadata": {},
     "output_type": "execute_result"
    }
   ],
   "source": [
    "sp_pred['plot_id'].sort_values()"
   ]
  },
  {
   "cell_type": "code",
   "execution_count": 17,
   "metadata": {},
   "outputs": [
    {
     "data": {
      "text/plain": [
       "Homo sapiens        8\n",
       "Soil                6\n",
       "Unknown             5\n",
       "Canis familiaris    2\n",
       "Name: organism, dtype: int64"
      ]
     },
     "execution_count": 17,
     "metadata": {},
     "output_type": "execute_result"
    }
   ],
   "source": [
    "sp_pred['organism'].value_counts()"
   ]
  },
  {
   "cell_type": "code",
   "execution_count": 18,
   "metadata": {},
   "outputs": [
    {
     "data": {
      "text/html": [
       "<div>\n",
       "<style scoped>\n",
       "    .dataframe tbody tr th:only-of-type {\n",
       "        vertical-align: middle;\n",
       "    }\n",
       "\n",
       "    .dataframe tbody tr th {\n",
       "        vertical-align: top;\n",
       "    }\n",
       "\n",
       "    .dataframe thead th {\n",
       "        text-align: right;\n",
       "    }\n",
       "</style>\n",
       "<table border=\"1\" class=\"dataframe\">\n",
       "  <thead>\n",
       "    <tr style=\"text-align: right;\">\n",
       "      <th></th>\n",
       "      <th>PC1</th>\n",
       "      <th>PC2</th>\n",
       "      <th>labels</th>\n",
       "      <th>name</th>\n",
       "      <th>organism</th>\n",
       "      <th>ml</th>\n",
       "      <th>sample_type</th>\n",
       "      <th>plot_id</th>\n",
       "    </tr>\n",
       "  </thead>\n",
       "  <tbody>\n",
       "    <tr>\n",
       "      <th>AHP004</th>\n",
       "      <td>7.463623</td>\n",
       "      <td>-7.275122</td>\n",
       "      <td>sink</td>\n",
       "      <td>AHP004</td>\n",
       "      <td>Canis familiaris</td>\n",
       "      <td>predicted</td>\n",
       "      <td>Coprolite</td>\n",
       "      <td>12</td>\n",
       "    </tr>\n",
       "    <tr>\n",
       "      <th>YRK001</th>\n",
       "      <td>12.980815</td>\n",
       "      <td>1.274512</td>\n",
       "      <td>sink</td>\n",
       "      <td>YRK001</td>\n",
       "      <td>Canis familiaris</td>\n",
       "      <td>predicted</td>\n",
       "      <td>Coprolite</td>\n",
       "      <td>13</td>\n",
       "    </tr>\n",
       "  </tbody>\n",
       "</table>\n",
       "</div>"
      ],
      "text/plain": [
       "              PC1       PC2 labels    name          organism         ml  \\\n",
       "AHP004   7.463623 -7.275122   sink  AHP004  Canis familiaris  predicted   \n",
       "YRK001  12.980815  1.274512   sink  YRK001  Canis familiaris  predicted   \n",
       "\n",
       "       sample_type plot_id  \n",
       "AHP004   Coprolite      12  \n",
       "YRK001   Coprolite      13  "
      ]
     },
     "execution_count": 18,
     "metadata": {},
     "output_type": "execute_result"
    }
   ],
   "source": [
    "sp_pred.query(\"organism == 'Canis familiaris'\")"
   ]
  },
  {
   "cell_type": "code",
   "execution_count": 19,
   "metadata": {},
   "outputs": [
    {
     "data": {
      "text/html": [
       "<div>\n",
       "<style scoped>\n",
       "    .dataframe tbody tr th:only-of-type {\n",
       "        vertical-align: middle;\n",
       "    }\n",
       "\n",
       "    .dataframe tbody tr th {\n",
       "        vertical-align: top;\n",
       "    }\n",
       "\n",
       "    .dataframe thead th {\n",
       "        text-align: right;\n",
       "    }\n",
       "</style>\n",
       "<table border=\"1\" class=\"dataframe\">\n",
       "  <thead>\n",
       "    <tr style=\"text-align: right;\">\n",
       "      <th></th>\n",
       "      <th>PC1</th>\n",
       "      <th>PC2</th>\n",
       "      <th>labels</th>\n",
       "      <th>name</th>\n",
       "      <th>organism</th>\n",
       "      <th>ml</th>\n",
       "      <th>sample_type</th>\n",
       "      <th>plot_id</th>\n",
       "    </tr>\n",
       "  </thead>\n",
       "  <tbody>\n",
       "    <tr>\n",
       "      <th>BRF001</th>\n",
       "      <td>-12.659374</td>\n",
       "      <td>-35.260160</td>\n",
       "      <td>sink</td>\n",
       "      <td>BRF001</td>\n",
       "      <td>Soil</td>\n",
       "      <td>predicted</td>\n",
       "      <td>Archaelogical sediment</td>\n",
       "      <td>17</td>\n",
       "    </tr>\n",
       "    <tr>\n",
       "      <th>LEI010</th>\n",
       "      <td>-6.298735</td>\n",
       "      <td>-30.463503</td>\n",
       "      <td>sink</td>\n",
       "      <td>LEI010</td>\n",
       "      <td>Soil</td>\n",
       "      <td>predicted</td>\n",
       "      <td>Archaelogical sediment</td>\n",
       "      <td>18</td>\n",
       "    </tr>\n",
       "    <tr>\n",
       "      <th>TRO001</th>\n",
       "      <td>-9.569360</td>\n",
       "      <td>-31.206976</td>\n",
       "      <td>sink</td>\n",
       "      <td>TRO001</td>\n",
       "      <td>Soil</td>\n",
       "      <td>predicted</td>\n",
       "      <td>Archaelogical sediment</td>\n",
       "      <td>14</td>\n",
       "    </tr>\n",
       "    <tr>\n",
       "      <th>CBA001</th>\n",
       "      <td>-8.971134</td>\n",
       "      <td>-35.102470</td>\n",
       "      <td>sink</td>\n",
       "      <td>CBA001</td>\n",
       "      <td>Soil</td>\n",
       "      <td>predicted</td>\n",
       "      <td>Archaelogical sediment</td>\n",
       "      <td>16</td>\n",
       "    </tr>\n",
       "  </tbody>\n",
       "</table>\n",
       "</div>"
      ],
      "text/plain": [
       "              PC1        PC2 labels    name organism         ml  \\\n",
       "BRF001 -12.659374 -35.260160   sink  BRF001     Soil  predicted   \n",
       "LEI010  -6.298735 -30.463503   sink  LEI010     Soil  predicted   \n",
       "TRO001  -9.569360 -31.206976   sink  TRO001     Soil  predicted   \n",
       "CBA001  -8.971134 -35.102470   sink  CBA001     Soil  predicted   \n",
       "\n",
       "                   sample_type plot_id  \n",
       "BRF001  Archaelogical sediment      17  \n",
       "LEI010  Archaelogical sediment      18  \n",
       "TRO001  Archaelogical sediment      14  \n",
       "CBA001  Archaelogical sediment      16  "
      ]
     },
     "execution_count": 19,
     "metadata": {},
     "output_type": "execute_result"
    }
   ],
   "source": [
    "sp_pred.query(\"organism == 'Soil' and sample_type == 'Archaelogical sediment'\")"
   ]
  },
  {
   "cell_type": "code",
   "execution_count": 20,
   "metadata": {},
   "outputs": [
    {
     "data": {
      "text/html": [
       "<div>\n",
       "<style scoped>\n",
       "    .dataframe tbody tr th:only-of-type {\n",
       "        vertical-align: middle;\n",
       "    }\n",
       "\n",
       "    .dataframe tbody tr th {\n",
       "        vertical-align: top;\n",
       "    }\n",
       "\n",
       "    .dataframe thead th {\n",
       "        text-align: right;\n",
       "    }\n",
       "</style>\n",
       "<table border=\"1\" class=\"dataframe\">\n",
       "  <thead>\n",
       "    <tr style=\"text-align: right;\">\n",
       "      <th></th>\n",
       "      <th>PC1</th>\n",
       "      <th>PC2</th>\n",
       "      <th>labels</th>\n",
       "      <th>name</th>\n",
       "      <th>organism</th>\n",
       "      <th>ml</th>\n",
       "      <th>sample_type</th>\n",
       "      <th>plot_id</th>\n",
       "    </tr>\n",
       "  </thead>\n",
       "  <tbody>\n",
       "    <tr>\n",
       "      <th>BRF001</th>\n",
       "      <td>-12.659374</td>\n",
       "      <td>-35.260160</td>\n",
       "      <td>sink</td>\n",
       "      <td>BRF001</td>\n",
       "      <td>Soil</td>\n",
       "      <td>predicted</td>\n",
       "      <td>Archaelogical sediment</td>\n",
       "      <td>17</td>\n",
       "    </tr>\n",
       "    <tr>\n",
       "      <th>DRL001</th>\n",
       "      <td>-6.732208</td>\n",
       "      <td>-35.138317</td>\n",
       "      <td>sink</td>\n",
       "      <td>DRL001</td>\n",
       "      <td>Unknown</td>\n",
       "      <td>predicted</td>\n",
       "      <td>Archaelogical sediment</td>\n",
       "      <td>15</td>\n",
       "    </tr>\n",
       "    <tr>\n",
       "      <th>LEI010</th>\n",
       "      <td>-6.298735</td>\n",
       "      <td>-30.463503</td>\n",
       "      <td>sink</td>\n",
       "      <td>LEI010</td>\n",
       "      <td>Soil</td>\n",
       "      <td>predicted</td>\n",
       "      <td>Archaelogical sediment</td>\n",
       "      <td>18</td>\n",
       "    </tr>\n",
       "    <tr>\n",
       "      <th>ECO004</th>\n",
       "      <td>-9.556790</td>\n",
       "      <td>-34.750652</td>\n",
       "      <td>sink</td>\n",
       "      <td>ECO004</td>\n",
       "      <td>Unknown</td>\n",
       "      <td>predicted</td>\n",
       "      <td>Archaelogical sediment</td>\n",
       "      <td>19</td>\n",
       "    </tr>\n",
       "    <tr>\n",
       "      <th>MLP001</th>\n",
       "      <td>-6.291108</td>\n",
       "      <td>-30.472930</td>\n",
       "      <td>sink</td>\n",
       "      <td>MLP001</td>\n",
       "      <td>Unknown</td>\n",
       "      <td>predicted</td>\n",
       "      <td>Archaelogical sediment</td>\n",
       "      <td>21</td>\n",
       "    </tr>\n",
       "    <tr>\n",
       "      <th>TRO001</th>\n",
       "      <td>-9.569360</td>\n",
       "      <td>-31.206976</td>\n",
       "      <td>sink</td>\n",
       "      <td>TRO001</td>\n",
       "      <td>Soil</td>\n",
       "      <td>predicted</td>\n",
       "      <td>Archaelogical sediment</td>\n",
       "      <td>14</td>\n",
       "    </tr>\n",
       "    <tr>\n",
       "      <th>CMN001</th>\n",
       "      <td>-8.172891</td>\n",
       "      <td>-35.017400</td>\n",
       "      <td>sink</td>\n",
       "      <td>CMN001</td>\n",
       "      <td>Unknown</td>\n",
       "      <td>predicted</td>\n",
       "      <td>Archaelogical sediment</td>\n",
       "      <td>20</td>\n",
       "    </tr>\n",
       "    <tr>\n",
       "      <th>CBA001</th>\n",
       "      <td>-8.971134</td>\n",
       "      <td>-35.102470</td>\n",
       "      <td>sink</td>\n",
       "      <td>CBA001</td>\n",
       "      <td>Soil</td>\n",
       "      <td>predicted</td>\n",
       "      <td>Archaelogical sediment</td>\n",
       "      <td>16</td>\n",
       "    </tr>\n",
       "  </tbody>\n",
       "</table>\n",
       "</div>"
      ],
      "text/plain": [
       "              PC1        PC2 labels    name organism         ml  \\\n",
       "BRF001 -12.659374 -35.260160   sink  BRF001     Soil  predicted   \n",
       "DRL001  -6.732208 -35.138317   sink  DRL001  Unknown  predicted   \n",
       "LEI010  -6.298735 -30.463503   sink  LEI010     Soil  predicted   \n",
       "ECO004  -9.556790 -34.750652   sink  ECO004  Unknown  predicted   \n",
       "MLP001  -6.291108 -30.472930   sink  MLP001  Unknown  predicted   \n",
       "TRO001  -9.569360 -31.206976   sink  TRO001     Soil  predicted   \n",
       "CMN001  -8.172891 -35.017400   sink  CMN001  Unknown  predicted   \n",
       "CBA001  -8.971134 -35.102470   sink  CBA001     Soil  predicted   \n",
       "\n",
       "                   sample_type plot_id  \n",
       "BRF001  Archaelogical sediment      17  \n",
       "DRL001  Archaelogical sediment      15  \n",
       "LEI010  Archaelogical sediment      18  \n",
       "ECO004  Archaelogical sediment      19  \n",
       "MLP001  Archaelogical sediment      21  \n",
       "TRO001  Archaelogical sediment      14  \n",
       "CMN001  Archaelogical sediment      20  \n",
       "CBA001  Archaelogical sediment      16  "
      ]
     },
     "execution_count": 20,
     "metadata": {},
     "output_type": "execute_result"
    }
   ],
   "source": [
    "sp_pred.query(\"sample_type == 'Archaelogical sediment'\")"
   ]
  },
  {
   "cell_type": "code",
   "execution_count": 21,
   "metadata": {},
   "outputs": [],
   "source": [
    "sp_pred.sort_values(\"plot_id\").merge(spp, left_index=True, right_index=True)[['PC1','PC2','Canis_familiaris','Homo_sapiens','Soil','unknown','Predicted organism','plot_id']].to_csv('sourcepredict_results.csv')"
   ]
  },
  {
   "cell_type": "code",
   "execution_count": 33,
   "metadata": {},
   "outputs": [],
   "source": [
    "adj_text = sp_pred.query(\"plot_id == ['01','03']\")"
   ]
  },
  {
   "cell_type": "code",
   "execution_count": 37,
   "metadata": {},
   "outputs": [
    {
     "name": "stderr",
     "output_type": "stream",
     "text": [
      "/projects1/users/borry/15_miniconda3/lib/python3.7/site-packages/plotnine/ggplot.py:719: PlotnineWarning: Saving 6.4 x 4.8 in image.\n",
      "  from_inches(height, units), units), PlotnineWarning)\n",
      "/projects1/users/borry/15_miniconda3/lib/python3.7/site-packages/plotnine/ggplot.py:720: PlotnineWarning: Filename: results/figure6.png\n",
      "  warn('Filename: {}'.format(filename), PlotnineWarning)\n",
      "/projects1/users/borry/15_miniconda3/lib/python3.7/site-packages/plotnine/ggplot.py:735: MatplotlibDeprecationWarning: \n",
      "The frameon kwarg was deprecated in Matplotlib 3.1 and will be removed in 3.3. Use facecolor instead.\n",
      "  fig.savefig(filename, **fig_kwargs)\n"
     ]
    },
    {
     "data": {
      "image/png": "[encoded data removed]",
      "text/plain": [
       "<Figure size 640x480 with 1 Axes>"
      ]
     },
     "metadata": {},
     "output_type": "display_data"
    },
    {
     "data": {
      "text/plain": [
       "<ggplot: (8728082450338)>"
      ]
     },
     "execution_count": 37,
     "metadata": {},
     "output_type": "execute_result"
    }
   ],
   "source": [
    "p = ggplot(sp_ref, aes(x='PC1',y='PC2')) + geom_point(aes(fill='organism', shape='ml'), stroke=0.5, color='black', size = 2, alpha=0.4)\n",
    "p = p + geom_point(data = sp_pred, mapping=aes(x='PC1',y='PC2', fill='organism', shape='sample_type'), stroke=0.5, color='black', size = 6, alpha=0.75)\n",
    "p = p + geom_text(data = adj_text, mapping= aes(x='PC1', y='PC2', label = 'plot_id'), size=6, adjust_text= {\n",
    "    'expand_points': (2, 2),\n",
    "    'expand_objects': (1.5, 2),\n",
    "    'arrowprops': {\n",
    "        'arrowstyle': '-',\n",
    "        'color': 'grey'\n",
    "    },\n",
    "    'on_basemap':True\n",
    "})\n",
    "p = p + geom_text(data = sp_pred, mapping=aes(x='PC1',y='PC2', label='plot_id'), size = 4.5,fontweight = 'bold', color='white')\n",
    "p = p + scale_shape_manual(name='Sample', values={'Coprolite':'X', 'Archaelogical sediment':'P', 'reference':'h'}) + theme_classic() + labs(x='DIM1',y='DIM2')\n",
    "p = p + scale_fill_manual(name = 'Organism', values = {\"Canis familiaris\":\"#2166ac\",\"Homo sapiens\":\"#c44e00\", \"Soil\":\"#75a51c\", 'Unknown':'#a2a3a1'})\n",
    "p = p + guides(fill = guide_legend(override_aes = {'alpha':1}))\n",
    "p = p + coord_flip() + scale_y_reverse() + scale_x_reverse()\n",
    "p.save(\"results/figure6.png\", dpi=300)\n",
    "p"
   ]
  }
 ],
 "metadata": {
  "kernelspec": {
   "display_name": "Python [conda env:root] *",
   "language": "python",
   "name": "conda-root-py"
  },
  "language_info": {
   "codemirror_mode": {
    "name": "ipython",
    "version": 3
   },
   "file_extension": ".py",
   "mimetype": "text/x-python",
   "name": "python",
   "nbconvert_exporter": "python",
   "pygments_lexer": "ipython3",
   "version": "3.7.3"
  }
 },
 "nbformat": 4,
 "nbformat_minor": 4
}
